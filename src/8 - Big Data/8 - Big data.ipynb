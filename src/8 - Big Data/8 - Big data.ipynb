{
 "cells": [
  {
   "cell_type": "markdown",
   "metadata": {},
   "source": [
    "# Big Data\n",
    "\n",
    "Things to consider\n",
    "\n",
    "- Multi-threaded encoding\n",
    "- Filter out drums (track 10)"
   ]
  },
  {
   "cell_type": "code",
   "execution_count": 1,
   "metadata": {},
   "outputs": [],
   "source": [
    "import os\n",
    "os.chdir(r'8 - Big Data')\n",
    "from midi_encoding import *\n",
    "from data_loading import *\n",
    "from pathlib import Path\n",
    "import music21 as m21\n",
    "import random\n",
    "import pretty_midi\n",
    "import IPython.display\n",
    "musescore_path = '/usr/bin/mscore'\n",
    "m21.environment.set('musicxmlPath', musescore_path)\n",
    "m21.environment.set('musescoreDirectPNGPath', musescore_path)"
   ]
  },
  {
   "cell_type": "markdown",
   "metadata": {},
   "source": [
    "### Lakh MIDI DataSet"
   ]
  },
  {
   "cell_type": "code",
   "execution_count": null,
   "metadata": {},
   "outputs": [],
   "source": [
    "midi_path = Path('../data/midi/lakh_clean')\n",
    "midi_file_paths = list(midi_path.rglob('*.mid'))\n",
    "len(midi_file_paths)"
   ]
  },
  {
   "cell_type": "code",
   "execution_count": null,
   "metadata": {},
   "outputs": [],
   "source": [
    "[file.name for file in midi_file_paths[0:3]]"
   ]
  },
  {
   "cell_type": "code",
   "execution_count": null,
   "metadata": {},
   "outputs": [],
   "source": [
    "midi_file_paths[0:5]"
   ]
  },
  {
   "cell_type": "code",
   "execution_count": null,
   "metadata": {},
   "outputs": [],
   "source": [
    "file_path = \"../data/midi/lakh_clean/Cash Johnny/A Boy Named Sue.mid\" #/Technotronic/Pump Up the Jam.1.mid\"# Cash Johnny/A Boy Named Sue.mid\" # midi_file_paths[random.randint(0, len(midi_file_paths))]\n",
    "print(file_path)\n",
    "midi_file = m21.midi.MidiFile()\n",
    "midi_file.open(file_path)\n",
    "midi_file.read()\n",
    "midi_file.close()\n",
    "\n",
    "midi_file"
   ]
  },
  {
   "cell_type": "markdown",
   "metadata": {},
   "source": [
    "The Music21 renderer can't play multi track files :("
   ]
  },
  {
   "cell_type": "code",
   "execution_count": null,
   "metadata": {},
   "outputs": [],
   "source": [
    "midi_stream = m21.midi.translate.midiFileToStream(midi_file)\n",
    "midi_stream.show('midi')"
   ]
  },
  {
   "cell_type": "markdown",
   "metadata": {},
   "source": [
    "But PrettyMidi + FluidSynth + IPython.display can!"
   ]
  },
  {
   "cell_type": "code",
   "execution_count": null,
   "metadata": {},
   "outputs": [],
   "source": [
    "pretty_midi_data = pretty_midi.PrettyMIDI(str(file_path))\n",
    "\n",
    "audio_data = pretty_midi_data.fluidsynth()\n",
    "IPython.display.Audio(audio_data, rate=44100)"
   ]
  },
  {
   "cell_type": "markdown",
   "metadata": {},
   "source": [
    "Music21 does actually have the data, it is just the audio rendering in Jupyter that is glitched"
   ]
  },
  {
   "cell_type": "code",
   "execution_count": 7,
   "metadata": {},
   "outputs": [],
   "source": [
    "# midi_stream.show()"
   ]
  },
  {
   "cell_type": "code",
   "execution_count": null,
   "metadata": {},
   "outputs": [],
   "source": [
    "pretty_midi_data.instruments = [i for i in pretty_midi_data.instruments if not i.is_drum]\n",
    "\n",
    "for i in pretty_midi_data.instruments:\n",
    "    i.program = 0\n",
    "\n",
    "audio_data = pretty_midi_data.fluidsynth()\n",
    "IPython.display.Audio(audio_data, rate=44100)"
   ]
  },
  {
   "cell_type": "code",
   "execution_count": null,
   "metadata": {},
   "outputs": [],
   "source": [
    "random_path = midi_file_paths[random.randint(0, len(midi_file_paths))]\n",
    "print(random_path)\n",
    "random_pretty_data = pretty_midi.PrettyMIDI(str(random_path))\n",
    "\n",
    "random_audio_data = random_pretty_data.fluidsynth()\n",
    "IPython.display.Audio(random_audio_data, rate=44100)"
   ]
  },
  {
   "cell_type": "code",
   "execution_count": null,
   "metadata": {},
   "outputs": [],
   "source": [
    "random_pretty_data.instruments = [i for i in random_pretty_data.instruments if not i.is_drum]\n",
    "for i in random_pretty_data.instruments:\n",
    "    i.program = 0\n",
    "\n",
    "piano_audio_data = random_pretty_data.fluidsynth()\n",
    "IPython.display.Audio(piano_audio_data, rate=44100)"
   ]
  },
  {
   "cell_type": "code",
   "execution_count": 2,
   "metadata": {},
   "outputs": [],
   "source": [
    "from multiprocessing import Pool\n",
    "\n",
    "midi_piano_path = Path('../data/midi/lakh_clean_piano')\n",
    "midi_piano_path.mkdir(exist_ok=True)\n",
    "\n",
    "def process_midi_file(midi_file_path):\n",
    "    try:\n",
    "        pretty_data = pretty_midi.PrettyMIDI(str(midi_file_path))\n",
    "        pretty_data.instruments = [i for i in pretty_data.instruments if not i.is_drum]\n",
    "        for i in pretty_data.instruments:\n",
    "            i.program = 0\n",
    "        new_path = Path(midi_piano_path, midi_file_path.parts[-2])\n",
    "        new_path.mkdir(exist_ok=True)\n",
    "        new_file_path = Path(new_path, midi_file_path.parts[-1])\n",
    "        if not new_file_path.exists():\n",
    "            pretty_data.write(str(new_file_path))\n",
    "            # print(f'Wrote {str(new_file_path)}')\n",
    "        else:\n",
    "            print(f'Skipped {str(new_file_path)}')\n",
    "    except Exception as e:\n",
    "        print(f'Error: {e}')\n",
    "\n",
    "# # Re-enable this code block to process all MIDI files\n",
    "# if __name__ == '__main__':\n",
    "#     with Pool(processes=32) as pool:  # Adjust the number of processes based on your system\n",
    "#         pool.map(process_midi_file, midi_file_paths)"
   ]
  },
  {
   "cell_type": "code",
   "execution_count": 3,
   "metadata": {},
   "outputs": [],
   "source": [
    "piano_file_paths = list(midi_piano_path.rglob('*.mid'))"
   ]
  },
  {
   "cell_type": "markdown",
   "metadata": {},
   "source": [
    "Let's try listening to a piano-only midi track properly synthesised, then after encoding / decoding.\n",
    "\n",
    "We should be able to pick out any obvious artifacting."
   ]
  },
  {
   "cell_type": "code",
   "execution_count": 2,
   "metadata": {},
   "outputs": [],
   "source": [
    "random_piano_path = '../data/midi/lakh_clean_piano_128/Huey Lewis & The News/Stuck With You.4.mid' #piano_file_paths[random.randint(0, len(piano_file_paths))]\n",
    "print(random_piano_path)\n",
    "random_piano_data = pretty_midi.PrettyMIDI(str(random_piano_path))\n",
    "\n",
    "random_piano_audio = random_piano_data.fluidsynth()\n",
    "IPython.display.Audio(random_piano_audio, rate=44100)"
   ]
  },
  {
   "cell_type": "code",
   "execution_count": 3,
   "metadata": {},
   "outputs": [],
   "source": [
    "random_midi = m21.midi.MidiFile()\n",
    "random_midi.open(random_piano_path)\n",
    "random_midi.read()\n",
    "random_midi.close()\n",
    "\n",
    "random_m21stream = m21.midi.translate.midiFileToStream(random_midi)\n",
    "random_m21stream.plot()"
   ]
  },
  {
   "cell_type": "code",
   "execution_count": 4,
   "metadata": {},
   "outputs": [],
   "source": [
    "vocab = MusicVocab()\n",
    "vocab.train(None, vocab.initial_size)"
   ]
  },
  {
   "cell_type": "code",
   "execution_count": 5,
   "metadata": {},
   "outputs": [],
   "source": [
    "random_score = midifile_to_idx_score(random_piano_path, vocab)\n",
    "reconstructed_random_stream = idx_to_stream_enc(random_score[:, 0], vocab)\n",
    "reconstructed_random_stream.plot()"
   ]
  },
  {
   "cell_type": "code",
   "execution_count": 6,
   "metadata": {},
   "outputs": [],
   "source": [
    "reconstructed_random_stream.show('midi')"
   ]
  },
  {
   "cell_type": "markdown",
   "metadata": {},
   "source": [
    "It's *almost* right but it has issues. It think it is perhaps due to our encoding having a resolution of 32nds.\n",
    "\n",
    "I would expect that some songs would use dotted or swung notes, or just be completely off grid, and they are all being snapped to the nearest 32nd?\n",
    "\n",
    "Also, all tracks are played back at 120bpm which makes songs faster or slower than they are supposed to be but that is ok, tempo isn't encoded into the music."
   ]
  }
 ],
 "metadata": {
  "kernelspec": {
   "display_name": "Python 3 (ipykernel)",
   "language": "python",
   "name": "python3"
  },
  "language_info": {
   "codemirror_mode": {
    "name": "ipython",
    "version": 3
   },
   "file_extension": ".py",
   "mimetype": "text/x-python",
   "name": "python",
   "nbconvert_exporter": "python",
   "pygments_lexer": "ipython3",
   "version": "3.10.14"
  }
 },
 "nbformat": 4,
 "nbformat_minor": 2
}

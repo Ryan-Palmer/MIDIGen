{
 "cells": [
  {
   "cell_type": "markdown",
   "metadata": {},
   "source": [
    "# Rebuilding MIDIGen\n",
    "\n",
    "The hand-built model was successful, both as a learning tool and in terms of generating music.\n",
    "\n",
    "There were however limitations, such as the tokenisation algorithm precluding the use of byte pair encoding, not to mention the lack of of tempo, velocity, instrument, chord, pitch bend data etc.\n",
    "\n",
    "Additionally, due to the rapid, explorative development with little to no tests there are likely bugs lurking.\n",
    "\n",
    "Finally, the algorithms were written for clarity rather than raw speed and efficiency.\n",
    "\n",
    "For all of these reasons, it is worth reconstructing the same model using 'off the shelf' components that have been well tested and optimised, such as [MIDITok](https://miditok.readthedocs.io/en/latest/tokenizing_music_with_miditok.html#) for tokenisation and [LucidRain](https://github.com/lucidrains/x-transformers)'s Transformer implementations which include XLMemory and KNN lookup.\n",
    "\n",
    "## MIDITok\n",
    "\n",
    "In the words of the website:\n",
    "\n",
    ">MidiTok uses a common workflow for all its tokenizers, which follows:\n",
    ">\n",
    ">1. **Music file preprocessing**: time is downsampled to match the tokenizer’s time resolution, tracks of the same programs are merged, notes with pitches outside >the tokenizer’s pitch range are removed, note velocities and tempos are downsampled, finally notes, tempos and time signatures are deduplicated;\n",
    ">\n",
    ">2. **Parsing of global events**: tempos and time signature tokens are created;\n",
    ">\n",
    ">3. **Parsing of the tracks events**: notes, chords, controls (pedals…) and tokens specific to each tracks are parsed to create their associated tokens;\n",
    ">\n",
    ">4. **Creating time tokens**: the tokens representing the time are created in order to bind the previously created global and track tokens.\n",
    ">\n",
    ">The resulting tokens are provided by the tokenizer as one or miditok.TokSequence depending on the tokenizer’s IO format (Tokens & TokSequence input / output format)\n",
    ">\n",
    ">`tokenizer.vocab` holds all the basic tokens describing the note and time attributes of music. After Training a tokenizer, a new vocabulary is built with newly created tokens from pairs of basic tokens. This vocabulary can be accessed with `tokenizer.vocab_model`.\n",
    "\n",
    "The library supports multiple tokenizers and training algorithms including BPE. It is also highly configurable."
   ]
  },
  {
   "cell_type": "code",
   "execution_count": 1,
   "metadata": {},
   "outputs": [
    {
     "name": "stdout",
     "output_type": "stream",
     "text": [
      "Using cuda.\n"
     ]
    }
   ],
   "source": [
    "import os\n",
    "os.chdir(r'9 - Rebuild')\n",
    "import torch\n",
    "\n",
    "device = (\n",
    "    \"cuda\"\n",
    "    if torch.cuda.is_available()\n",
    "    else \"mps\"\n",
    "    if torch.backends.mps.is_available()\n",
    "    else \"cpu\"\n",
    ")\n",
    "\n",
    "print(f\"Using {device}.\")"
   ]
  },
  {
   "cell_type": "code",
   "execution_count": 2,
   "metadata": {},
   "outputs": [
    {
     "name": "stdout",
     "output_type": "stream",
     "text": [
      "Device: NVIDIA GeForce RTX 4090.\n"
     ]
    }
   ],
   "source": [
    "if device == \"cuda\":\n",
    "    print(f\"Device: {torch.cuda.get_device_name()}.\")"
   ]
  },
  {
   "cell_type": "code",
   "execution_count": 3,
   "metadata": {},
   "outputs": [],
   "source": [
    "from miditok import REMI, TokenizerConfig  # here we choose to use REMI\n",
    "\n",
    "from miditok import REMI, TokenizerConfig  # here we choose to use REMI\n",
    "\n",
    "# Our parameters\n",
    "TOKENIZER_PARAMS = {\n",
    "    \"pitch_range\": (21, 109),\n",
    "    \"beat_res\": {(0, 4): 8, (4, 12): 4},\n",
    "    \"num_velocities\": 32,\n",
    "    # \"special_tokens\": [\"PAD\", \"BOS\", \"EOS\", \"MASK\"],\n",
    "    # \"use_chords\": True,\n",
    "    # \"use_rests\": False,\n",
    "    # \"use_tempos\": True,\n",
    "    # \"use_time_signatures\": False,\n",
    "    # \"use_programs\": False,\n",
    "    # \"num_tempos\": 32,  # number of tempo bins\n",
    "    # \"tempo_range\": (40, 250),  # (min, max)\n",
    "}\n",
    "config = TokenizerConfig(**TOKENIZER_PARAMS)\n",
    "\n",
    "# https://miditok.readthedocs.io/en/latest/tokenizations.html#remi\n",
    "tokenizer = REMI(config)"
   ]
  },
  {
   "cell_type": "code",
   "execution_count": 4,
   "metadata": {},
   "outputs": [
    {
     "data": {
      "image/png": "[encoded data removed]",
      "text/plain": [
       "<IPython.core.display.Image object>"
      ]
     },
     "metadata": {
      "image/png": {
       "height": 148,
       "width": 748
      }
     },
     "output_type": "display_data"
    }
   ],
   "source": [
    "from pathlib import Path\n",
    "import music21 as m21\n",
    "musescore_path = '/usr/bin/mscore'\n",
    "m21.environment.set('musicxmlPath', musescore_path)\n",
    "m21.environment.set('musescoreDirectPNGPath', musescore_path)\n",
    "\n",
    "single_bar_path = Path('../data/midi/single_bar_example.mid')\n",
    "single_bar_midi_file = m21.midi.MidiFile()\n",
    "single_bar_midi_file.open(single_bar_path)\n",
    "single_bar_midi_file.read()\n",
    "single_bar_midi_file.close()\n",
    "\n",
    "single_bar_stream = m21.midi.translate.midiFileToStream(single_bar_midi_file)\n",
    "single_bar_stream.show()"
   ]
  },
  {
   "cell_type": "code",
   "execution_count": 5,
   "metadata": {},
   "outputs": [
    {
     "data": {
      "text/html": [
       "\n",
       "        <div id=\"midiPlayerDiv341\"></div>\n",
       "        <link rel=\"stylesheet\" href=\"https://cuthbertLab.github.io/music21j/css/m21.css\">\n",
       "        \n",
       "        <script\n",
       "        src=\"https://cdnjs.cloudflare.com/ajax/libs/require.js/2.3.6/require.min.js\"\n",
       "        ></script>\n",
       "    \n",
       "        <script>\n",
       "        function midiPlayerDiv341_play() {\n",
       "            const rq = require.config({\n",
       "                paths: {\n",
       "                    'music21': 'https://cuthbertLab.github.io/music21j/releases/music21.debug',\n",
       "                }\n",
       "            });\n",
       "            rq(['music21'], function(music21) {\n",
       "                mp = new music21.miditools.MidiPlayer();\n",
       "                mp.addPlayer(\"#midiPlayerDiv341\");\n",
       "                mp.base64Load(\"data:audio/midi;base64,TVRoZAAAAAYAAQADJ2BNVHJrAAAAFAD/UQMHoSAA/1gEBAIYCM5g/y8ATVRyawAAAGEA/wMFUGlhbm8AwAAA4ABAAMAAzmCQSFqnMIBIAACQR1qnMIBHAACQR1qnMIBHAACQRVqnMIBFAACQRVqnMIBFAACQQ1rOYIBDAACQQFqTWIBAAACQPlqTWIA+AM5g/y8ATVRyawAAADMA/wMFUGlhbm8AwAAA4ABAAMAAzmCQLVoAkDBaAJA0WoK7AIAtAACAMAAAgDQAzmD/LwA=\");\n",
       "            });\n",
       "        }\n",
       "        if (typeof require === 'undefined') {\n",
       "            setTimeout(midiPlayerDiv341_play, 2000);\n",
       "        } else {\n",
       "            midiPlayerDiv341_play();\n",
       "        }\n",
       "        </script>"
      ],
      "text/plain": [
       "<IPython.core.display.HTML object>"
      ]
     },
     "metadata": {},
     "output_type": "display_data"
    }
   ],
   "source": [
    "single_bar_stream.show('midi')"
   ]
  },
  {
   "cell_type": "code",
   "execution_count": 6,
   "metadata": {},
   "outputs": [
    {
     "data": {
      "text/plain": [
       "[TokSequence(tokens=['Bar_None', 'Position_0', 'Pitch_72', 'Velocity_91', 'Duration_0.4.8', 'Position_4', 'Pitch_71', 'Velocity_91', 'Duration_0.4.8', 'Position_8', 'Pitch_71', 'Velocity_91', 'Duration_0.4.8', 'Position_12', 'Pitch_69', 'Velocity_91', 'Duration_0.4.8', 'Position_16', 'Pitch_69', 'Velocity_91', 'Duration_0.4.8', 'Position_20', 'Pitch_67', 'Velocity_91', 'Duration_1.0.8', 'Position_28', 'Pitch_64', 'Velocity_91', 'Duration_0.2.8', 'Position_30', 'Pitch_62', 'Velocity_91', 'Duration_0.2.8'], ids=[4, 189, 56, 115, 128, 193, 55, 115, 128, 197, 55, 115, 128, 201, 53, 115, 128, 205, 53, 115, 128, 209, 51, 115, 132, 217, 48, 115, 126, 219, 46, 115, 126], bytes='', events=[Event(type=Bar, value=None, time=0, desc=0), Event(type=Position, value=0, time=0, desc=0), Event(type=Pitch, value=72, time=0, desc=4), Event(type=Velocity, value=91, time=0, desc=91), Event(type=Duration, value=0.4.8, time=0, desc=4 ticks), Event(type=Position, value=4, time=4, desc=4), Event(type=Pitch, value=71, time=4, desc=8), Event(type=Velocity, value=91, time=4, desc=91), Event(type=Duration, value=0.4.8, time=4, desc=4 ticks), Event(type=Position, value=8, time=8, desc=8), Event(type=Pitch, value=71, time=8, desc=12), Event(type=Velocity, value=91, time=8, desc=91), Event(type=Duration, value=0.4.8, time=8, desc=4 ticks), Event(type=Position, value=12, time=12, desc=12), Event(type=Pitch, value=69, time=12, desc=16), Event(type=Velocity, value=91, time=12, desc=91), Event(type=Duration, value=0.4.8, time=12, desc=4 ticks), Event(type=Position, value=16, time=16, desc=16), Event(type=Pitch, value=69, time=16, desc=20), Event(type=Velocity, value=91, time=16, desc=91), Event(type=Duration, value=0.4.8, time=16, desc=4 ticks), Event(type=Position, value=20, time=20, desc=20), Event(type=Pitch, value=67, time=20, desc=28), Event(type=Velocity, value=91, time=20, desc=91), Event(type=Duration, value=1.0.8, time=20, desc=8 ticks), Event(type=Position, value=28, time=28, desc=28), Event(type=Pitch, value=64, time=28, desc=30), Event(type=Velocity, value=91, time=28, desc=91), Event(type=Duration, value=0.2.8, time=28, desc=2 ticks), Event(type=Position, value=30, time=30, desc=30), Event(type=Pitch, value=62, time=30, desc=32), Event(type=Velocity, value=91, time=30, desc=91), Event(type=Duration, value=0.2.8, time=30, desc=2 ticks)], are_ids_encoded=False, _ticks_bars=[0], _ticks_beats=[0, 8, 16, 24], _ids_decoded=[]),\n",
       " TokSequence(tokens=['Bar_None', 'Position_0', 'Pitch_45', 'Velocity_91', 'Duration_4.0.4', 'Pitch_48', 'Velocity_91', 'Duration_4.0.4', 'Pitch_52', 'Velocity_91', 'Duration_4.0.4'], ids=[4, 189, 29, 115, 156, 32, 115, 156, 36, 115, 156], bytes='', events=[Event(type=Bar, value=None, time=0, desc=0), Event(type=Position, value=0, time=0, desc=0), Event(type=Pitch, value=45, time=0, desc=32), Event(type=Velocity, value=91, time=0, desc=91), Event(type=Duration, value=4.0.4, time=0, desc=32 ticks), Event(type=Pitch, value=48, time=0, desc=32), Event(type=Velocity, value=91, time=0, desc=91), Event(type=Duration, value=4.0.4, time=0, desc=32 ticks), Event(type=Pitch, value=52, time=0, desc=32), Event(type=Velocity, value=91, time=0, desc=91), Event(type=Duration, value=4.0.4, time=0, desc=32 ticks)], are_ids_encoded=False, _ticks_bars=[0], _ticks_beats=[0, 8, 16, 24], _ids_decoded=[])]"
      ]
     },
     "execution_count": 6,
     "metadata": {},
     "output_type": "execute_result"
    }
   ],
   "source": [
    "tokens = tokenizer.encode(single_bar_path)  # automatically detects Score objects, paths, tokens\n",
    "tokens"
   ]
  },
  {
   "cell_type": "markdown",
   "metadata": {},
   "source": [
    "Base vocab tokens for sequence:"
   ]
  },
  {
   "cell_type": "code",
   "execution_count": 7,
   "metadata": {},
   "outputs": [
    {
     "data": {
      "text/plain": [
       "33"
      ]
     },
     "execution_count": 7,
     "metadata": {},
     "output_type": "execute_result"
    }
   ],
   "source": [
    "tokens[0].__len__()"
   ]
  },
  {
   "cell_type": "code",
   "execution_count": 8,
   "metadata": {},
   "outputs": [
    {
     "data": {
      "text/plain": [
       "['Bar_None',\n",
       " 'Position_0',\n",
       " 'Pitch_72',\n",
       " 'Velocity_91',\n",
       " 'Duration_0.4.8',\n",
       " 'Position_4',\n",
       " 'Pitch_71',\n",
       " 'Velocity_91',\n",
       " 'Duration_0.4.8',\n",
       " 'Position_8',\n",
       " 'Pitch_71',\n",
       " 'Velocity_91',\n",
       " 'Duration_0.4.8',\n",
       " 'Position_12',\n",
       " 'Pitch_69',\n",
       " 'Velocity_91',\n",
       " 'Duration_0.4.8',\n",
       " 'Position_16',\n",
       " 'Pitch_69',\n",
       " 'Velocity_91',\n",
       " 'Duration_0.4.8',\n",
       " 'Position_20',\n",
       " 'Pitch_67',\n",
       " 'Velocity_91',\n",
       " 'Duration_1.0.8',\n",
       " 'Position_28',\n",
       " 'Pitch_64',\n",
       " 'Velocity_91',\n",
       " 'Duration_0.2.8',\n",
       " 'Position_30',\n",
       " 'Pitch_62',\n",
       " 'Velocity_91',\n",
       " 'Duration_0.2.8']"
      ]
     },
     "execution_count": 8,
     "metadata": {},
     "output_type": "execute_result"
    }
   ],
   "source": [
    "tokens[0].tokens"
   ]
  },
  {
   "cell_type": "code",
   "execution_count": 9,
   "metadata": {},
   "outputs": [],
   "source": [
    "syMusicScore = tokenizer.decode(tokens)\n",
    "\n",
    "single_bar_path_miditok = Path('../data/midi/single_bar_example_miditok.mid')\n",
    "syMusicScore.dump_midi(single_bar_path_miditok)"
   ]
  },
  {
   "cell_type": "code",
   "execution_count": 10,
   "metadata": {},
   "outputs": [
    {
     "data": {
      "image/png": "[encoded data removed]",
      "text/plain": [
       "<IPython.core.display.Image object>"
      ]
     },
     "metadata": {
      "image/png": {
       "height": 148,
       "width": 748
      }
     },
     "output_type": "display_data"
    }
   ],
   "source": [
    "single_bar_miditok_file = m21.midi.MidiFile()\n",
    "single_bar_miditok_file.open(single_bar_path_miditok)\n",
    "single_bar_miditok_file.read()\n",
    "single_bar_miditok_file.close()\n",
    "\n",
    "single_bar_miditok_stream = m21.midi.translate.midiFileToStream(single_bar_miditok_file)\n",
    "single_bar_miditok_stream.show()"
   ]
  },
  {
   "cell_type": "code",
   "execution_count": 11,
   "metadata": {},
   "outputs": [
    {
     "data": {
      "text/html": [
       "\n",
       "        <div id=\"midiPlayerDiv703\"></div>\n",
       "        <link rel=\"stylesheet\" href=\"https://cuthbertLab.github.io/music21j/css/m21.css\">\n",
       "        \n",
       "        <script\n",
       "        src=\"https://cdnjs.cloudflare.com/ajax/libs/require.js/2.3.6/require.min.js\"\n",
       "        ></script>\n",
       "    \n",
       "        <script>\n",
       "        function midiPlayerDiv703_play() {\n",
       "            const rq = require.config({\n",
       "                paths: {\n",
       "                    'music21': 'https://cuthbertLab.github.io/music21j/releases/music21.debug',\n",
       "                }\n",
       "            });\n",
       "            rq(['music21'], function(music21) {\n",
       "                mp = new music21.miditools.MidiPlayer();\n",
       "                mp.addPlayer(\"#midiPlayerDiv703\");\n",
       "                mp.base64Load(\"data:audio/midi;base64,TVRoZAAAAAYAAQADJ2BNVHJrAAAAFAD/UQMHoSAA/1gEBAIYCM5g/y8ATVRyawAAAHMA/wMUQWNvdXN0aWMgR3JhbmQgUGlhbm8AwAAA4ABAAMAAAMAAzmCQSFunMIBIAACQR1unMIBHAACQR1unMIBHAACQRVunMIBFAACQRVunMIBFAACQQ1vOYIBDAACQQFuTWIBAAACQPluTWIA+AM5g/y8ATVRyawAAAEUA/wMUQWNvdXN0aWMgR3JhbmQgUGlhbm8AwAAA4ABAAMAAAMAAzmCQLVsAkDBbAJA0W4K7AIAtAACAMAAAgDQAzmD/LwA=\");\n",
       "            });\n",
       "        }\n",
       "        if (typeof require === 'undefined') {\n",
       "            setTimeout(midiPlayerDiv703_play, 2000);\n",
       "        } else {\n",
       "            midiPlayerDiv703_play();\n",
       "        }\n",
       "        </script>"
      ],
      "text/plain": [
       "<IPython.core.display.HTML object>"
      ]
     },
     "metadata": {},
     "output_type": "display_data"
    }
   ],
   "source": [
    "single_bar_miditok_stream.show('midi')"
   ]
  },
  {
   "cell_type": "markdown",
   "metadata": {},
   "source": [
    "## Byte Pair encoding"
   ]
  },
  {
   "cell_type": "code",
   "execution_count": 12,
   "metadata": {},
   "outputs": [
    {
     "name": "stdout",
     "output_type": "stream",
     "text": [
      "\n",
      "\n",
      "\n"
     ]
    }
   ],
   "source": [
    "vg_path = Path('../data/midi/vg_large')\n",
    "vg_tokenizer = REMI()  # using defaults parameters (constants.py)\n",
    "midi_paths = list(vg_path.glob(\"**/*.mid\"))\n",
    "vg_tokenizer.train(vocab_size=1000, files_paths=midi_paths)"
   ]
  },
  {
   "cell_type": "code",
   "execution_count": 13,
   "metadata": {},
   "outputs": [
    {
     "data": {
      "text/plain": [
       "[TokSequence(tokens=['Bar_None', 'Position_0', 'Pitch_72', 'Velocity_91', 'Duration_0.4.8', 'Position_4', 'Pitch_71', 'Velocity_91', 'Duration_0.4.8', 'Position_8', 'Pitch_71', 'Velocity_91', 'Duration_0.4.8', 'Position_12', 'Pitch_69', 'Velocity_91', 'Duration_0.4.8', 'Position_16', 'Pitch_69', 'Velocity_91', 'Duration_0.4.8', 'Position_20', 'Pitch_67', 'Velocity_91', 'Duration_1.0.8', 'Position_28', 'Pitch_64', 'Velocity_91', 'Duration_0.2.8', 'Position_30', 'Pitch_62', 'Velocity_91', 'Duration_0.2.8'], ids=[500, 270, 193, 55, 270, 856, 377, 53, 270, 660, 384, 51, 291, 217, 48, 280, 219, 46, 280], bytes='%ÞY\\x94¡âX\\x94¡æX\\x94¡êV\\x94¡îV\\x94¡òT\\x94¥úQ\\x94\\x9füO\\x94\\x9f', events=[Event(type=Bar, value=None, time=0, desc=0), Event(type=Position, value=0, time=0, desc=0), Event(type=Pitch, value=72, time=0, desc=4), Event(type=Velocity, value=91, time=0, desc=91), Event(type=Duration, value=0.4.8, time=0, desc=4 ticks), Event(type=Position, value=4, time=4, desc=4), Event(type=Pitch, value=71, time=4, desc=8), Event(type=Velocity, value=91, time=4, desc=91), Event(type=Duration, value=0.4.8, time=4, desc=4 ticks), Event(type=Position, value=8, time=8, desc=8), Event(type=Pitch, value=71, time=8, desc=12), Event(type=Velocity, value=91, time=8, desc=91), Event(type=Duration, value=0.4.8, time=8, desc=4 ticks), Event(type=Position, value=12, time=12, desc=12), Event(type=Pitch, value=69, time=12, desc=16), Event(type=Velocity, value=91, time=12, desc=91), Event(type=Duration, value=0.4.8, time=12, desc=4 ticks), Event(type=Position, value=16, time=16, desc=16), Event(type=Pitch, value=69, time=16, desc=20), Event(type=Velocity, value=91, time=16, desc=91), Event(type=Duration, value=0.4.8, time=16, desc=4 ticks), Event(type=Position, value=20, time=20, desc=20), Event(type=Pitch, value=67, time=20, desc=28), Event(type=Velocity, value=91, time=20, desc=91), Event(type=Duration, value=1.0.8, time=20, desc=8 ticks), Event(type=Position, value=28, time=28, desc=28), Event(type=Pitch, value=64, time=28, desc=30), Event(type=Velocity, value=91, time=28, desc=91), Event(type=Duration, value=0.2.8, time=28, desc=2 ticks), Event(type=Position, value=30, time=30, desc=30), Event(type=Pitch, value=62, time=30, desc=32), Event(type=Velocity, value=91, time=30, desc=91), Event(type=Duration, value=0.2.8, time=30, desc=2 ticks)], are_ids_encoded=True, _ticks_bars=[0], _ticks_beats=[0, 8, 16, 24], _ids_decoded=[]),\n",
       " TokSequence(tokens=['Bar_None', 'Position_0', 'Pitch_45', 'Velocity_91', 'Duration_4.0.4', 'Pitch_48', 'Velocity_91', 'Duration_4.0.4', 'Pitch_52', 'Velocity_91', 'Duration_4.0.4'], ids=[342, 115, 156, 32, 115, 156, 36, 115, 156], bytes='%Þ>\\x94½A\\x94½E\\x94½', events=[Event(type=Bar, value=None, time=0, desc=0), Event(type=Position, value=0, time=0, desc=0), Event(type=Pitch, value=45, time=0, desc=32), Event(type=Velocity, value=91, time=0, desc=91), Event(type=Duration, value=4.0.4, time=0, desc=32 ticks), Event(type=Pitch, value=48, time=0, desc=32), Event(type=Velocity, value=91, time=0, desc=91), Event(type=Duration, value=4.0.4, time=0, desc=32 ticks), Event(type=Pitch, value=52, time=0, desc=32), Event(type=Velocity, value=91, time=0, desc=91), Event(type=Duration, value=4.0.4, time=0, desc=32 ticks)], are_ids_encoded=True, _ticks_bars=[0], _ticks_beats=[0, 8, 16, 24], _ids_decoded=[])]"
      ]
     },
     "execution_count": 13,
     "metadata": {},
     "output_type": "execute_result"
    }
   ],
   "source": [
    "vg_tokens = vg_tokenizer.encode(single_bar_path)  # automatically detects Score objects, paths, tokens\n",
    "vg_tokens"
   ]
  },
  {
   "cell_type": "markdown",
   "metadata": {},
   "source": [
    "Trained vocab tokens for sequence:"
   ]
  },
  {
   "cell_type": "code",
   "execution_count": 14,
   "metadata": {},
   "outputs": [
    {
     "data": {
      "text/plain": [
       "19"
      ]
     },
     "execution_count": 14,
     "metadata": {},
     "output_type": "execute_result"
    }
   ],
   "source": [
    "vg_tokens[0].__len__()"
   ]
  },
  {
   "cell_type": "code",
   "execution_count": 15,
   "metadata": {},
   "outputs": [
    {
     "data": {
      "text/plain": [
       "['Bar_None',\n",
       " 'Position_0',\n",
       " 'Pitch_72',\n",
       " 'Velocity_91',\n",
       " 'Duration_0.4.8',\n",
       " 'Position_4',\n",
       " 'Pitch_71',\n",
       " 'Velocity_91',\n",
       " 'Duration_0.4.8',\n",
       " 'Position_8',\n",
       " 'Pitch_71',\n",
       " 'Velocity_91',\n",
       " 'Duration_0.4.8',\n",
       " 'Position_12',\n",
       " 'Pitch_69',\n",
       " 'Velocity_91',\n",
       " 'Duration_0.4.8',\n",
       " 'Position_16',\n",
       " 'Pitch_69',\n",
       " 'Velocity_91',\n",
       " 'Duration_0.4.8',\n",
       " 'Position_20',\n",
       " 'Pitch_67',\n",
       " 'Velocity_91',\n",
       " 'Duration_1.0.8',\n",
       " 'Position_28',\n",
       " 'Pitch_64',\n",
       " 'Velocity_91',\n",
       " 'Duration_0.2.8',\n",
       " 'Position_30',\n",
       " 'Pitch_62',\n",
       " 'Velocity_91',\n",
       " 'Duration_0.2.8']"
      ]
     },
     "execution_count": 15,
     "metadata": {},
     "output_type": "execute_result"
    }
   ],
   "source": [
    "vg_tokens[0].tokens"
   ]
  },
  {
   "cell_type": "markdown",
   "metadata": {},
   "source": [
    "We can collapse all parts into one by passing `use_programs = true` which will include program change tokens in the stream."
   ]
  },
  {
   "cell_type": "code",
   "execution_count": 26,
   "metadata": {},
   "outputs": [
    {
     "data": {
      "text/plain": [
       "TokSequence(tokens=['Bar_None', 'Position_0', 'Program_0', 'Pitch_72', 'Velocity_91', 'Duration_0.4.8', 'Program_0', 'Pitch_45', 'Velocity_91', 'Duration_4.0.4', 'Program_0', 'Pitch_48', 'Velocity_91', 'Duration_4.0.4', 'Program_0', 'Pitch_52', 'Velocity_91', 'Duration_4.0.4', 'Position_4', 'Program_0', 'Pitch_71', 'Velocity_91', 'Duration_0.4.8', 'Position_8', 'Program_0', 'Pitch_71', 'Velocity_91', 'Duration_0.4.8', 'Position_12', 'Program_0', 'Pitch_69', 'Velocity_91', 'Duration_0.4.8', 'Position_16', 'Program_0', 'Pitch_69', 'Velocity_91', 'Duration_0.4.8', 'Position_20', 'Program_0', 'Pitch_67', 'Velocity_91', 'Duration_1.0.8', 'Position_28', 'Program_0', 'Pitch_64', 'Velocity_91', 'Duration_0.2.8', 'Position_30', 'Program_0', 'Pitch_62', 'Velocity_91', 'Duration_0.2.8'], ids=[4, 189, 282, 56, 115, 128, 282, 29, 115, 156, 282, 32, 115, 156, 282, 36, 115, 156, 193, 282, 55, 115, 128, 197, 282, 55, 115, 128, 201, 282, 53, 115, 128, 205, 282, 53, 115, 128, 209, 282, 51, 115, 132, 217, 282, 48, 115, 126, 219, 282, 46, 115, 126], bytes='', events=[Event(type=Bar, value=None, time=0, desc=0), Event(type=Position, value=0, time=0, desc=0), Event(type=Program, value=0, time=0, desc=4), Event(type=Pitch, value=72, time=0, desc=4), Event(type=Velocity, value=91, time=0, desc=91), Event(type=Duration, value=0.4.8, time=0, desc=4 ticks), Event(type=Program, value=0, time=0, desc=32), Event(type=Pitch, value=45, time=0, desc=32), Event(type=Velocity, value=91, time=0, desc=91), Event(type=Duration, value=4.0.4, time=0, desc=32 ticks), Event(type=Program, value=0, time=0, desc=32), Event(type=Pitch, value=48, time=0, desc=32), Event(type=Velocity, value=91, time=0, desc=91), Event(type=Duration, value=4.0.4, time=0, desc=32 ticks), Event(type=Program, value=0, time=0, desc=32), Event(type=Pitch, value=52, time=0, desc=32), Event(type=Velocity, value=91, time=0, desc=91), Event(type=Duration, value=4.0.4, time=0, desc=32 ticks), Event(type=Position, value=4, time=4, desc=4), Event(type=Program, value=0, time=4, desc=8), Event(type=Pitch, value=71, time=4, desc=8), Event(type=Velocity, value=91, time=4, desc=91), Event(type=Duration, value=0.4.8, time=4, desc=4 ticks), Event(type=Position, value=8, time=8, desc=8), Event(type=Program, value=0, time=8, desc=12), Event(type=Pitch, value=71, time=8, desc=12), Event(type=Velocity, value=91, time=8, desc=91), Event(type=Duration, value=0.4.8, time=8, desc=4 ticks), Event(type=Position, value=12, time=12, desc=12), Event(type=Program, value=0, time=12, desc=16), Event(type=Pitch, value=69, time=12, desc=16), Event(type=Velocity, value=91, time=12, desc=91), Event(type=Duration, value=0.4.8, time=12, desc=4 ticks), Event(type=Position, value=16, time=16, desc=16), Event(type=Program, value=0, time=16, desc=20), Event(type=Pitch, value=69, time=16, desc=20), Event(type=Velocity, value=91, time=16, desc=91), Event(type=Duration, value=0.4.8, time=16, desc=4 ticks), Event(type=Position, value=20, time=20, desc=20), Event(type=Program, value=0, time=20, desc=28), Event(type=Pitch, value=67, time=20, desc=28), Event(type=Velocity, value=91, time=20, desc=91), Event(type=Duration, value=1.0.8, time=20, desc=8 ticks), Event(type=Position, value=28, time=28, desc=28), Event(type=Program, value=0, time=28, desc=30), Event(type=Pitch, value=64, time=28, desc=30), Event(type=Velocity, value=91, time=28, desc=91), Event(type=Duration, value=0.2.8, time=28, desc=2 ticks), Event(type=Position, value=30, time=30, desc=30), Event(type=Program, value=0, time=30, desc=32), Event(type=Pitch, value=62, time=30, desc=32), Event(type=Velocity, value=91, time=30, desc=91), Event(type=Duration, value=0.2.8, time=30, desc=2 ticks)], are_ids_encoded=False, _ticks_bars=[0], _ticks_beats=[0, 8, 16, 24], _ids_decoded=[])"
      ]
     },
     "execution_count": 26,
     "metadata": {},
     "output_type": "execute_result"
    }
   ],
   "source": [
    "# Our parameters\n",
    "PROGRAM_TOKENIZER_PARAMS = {\n",
    "    \"use_programs\": True,\n",
    "    # \"program_changes\" : True #This will only add Program tokens when the instrument changes rather than at every note\n",
    "\n",
    "}\n",
    "program_config = TokenizerConfig(**PROGRAM_TOKENIZER_PARAMS)\n",
    "\n",
    "# https://miditok.readthedocs.io/en/latest/tokenizations.html#remi\n",
    "program_tokenizer = REMI(program_config)\n",
    "program_tokens = program_tokenizer.encode(single_bar_path)  # automatically detects Score objects, paths, tokens\n",
    "program_tokens"
   ]
  },
  {
   "cell_type": "code",
   "execution_count": 27,
   "metadata": {},
   "outputs": [
    {
     "data": {
      "text/plain": [
       "53"
      ]
     },
     "execution_count": 27,
     "metadata": {},
     "output_type": "execute_result"
    }
   ],
   "source": [
    "program_tokens.__len__()"
   ]
  },
  {
   "cell_type": "code",
   "execution_count": 28,
   "metadata": {},
   "outputs": [
    {
     "data": {
      "text/plain": [
       "['Bar_None',\n",
       " 'Position_0',\n",
       " 'Program_0',\n",
       " 'Pitch_72',\n",
       " 'Velocity_91',\n",
       " 'Duration_0.4.8',\n",
       " 'Program_0',\n",
       " 'Pitch_45',\n",
       " 'Velocity_91',\n",
       " 'Duration_4.0.4',\n",
       " 'Program_0',\n",
       " 'Pitch_48',\n",
       " 'Velocity_91',\n",
       " 'Duration_4.0.4',\n",
       " 'Program_0',\n",
       " 'Pitch_52',\n",
       " 'Velocity_91',\n",
       " 'Duration_4.0.4',\n",
       " 'Position_4',\n",
       " 'Program_0',\n",
       " 'Pitch_71',\n",
       " 'Velocity_91',\n",
       " 'Duration_0.4.8',\n",
       " 'Position_8',\n",
       " 'Program_0',\n",
       " 'Pitch_71',\n",
       " 'Velocity_91',\n",
       " 'Duration_0.4.8',\n",
       " 'Position_12',\n",
       " 'Program_0',\n",
       " 'Pitch_69',\n",
       " 'Velocity_91',\n",
       " 'Duration_0.4.8',\n",
       " 'Position_16',\n",
       " 'Program_0',\n",
       " 'Pitch_69',\n",
       " 'Velocity_91',\n",
       " 'Duration_0.4.8',\n",
       " 'Position_20',\n",
       " 'Program_0',\n",
       " 'Pitch_67',\n",
       " 'Velocity_91',\n",
       " 'Duration_1.0.8',\n",
       " 'Position_28',\n",
       " 'Program_0',\n",
       " 'Pitch_64',\n",
       " 'Velocity_91',\n",
       " 'Duration_0.2.8',\n",
       " 'Position_30',\n",
       " 'Program_0',\n",
       " 'Pitch_62',\n",
       " 'Velocity_91',\n",
       " 'Duration_0.2.8']"
      ]
     },
     "execution_count": 28,
     "metadata": {},
     "output_type": "execute_result"
    }
   ],
   "source": [
    "program_tokens.tokens"
   ]
  }
 ],
 "metadata": {
  "kernelspec": {
   "display_name": "Python 3 (ipykernel)",
   "language": "python",
   "name": "python3"
  },
  "language_info": {
   "codemirror_mode": {
    "name": "ipython",
    "version": 3
   },
   "file_extension": ".py",
   "mimetype": "text/x-python",
   "name": "python",
   "nbconvert_exporter": "python",
   "pygments_lexer": "ipython3",
   "version": "3.11.11"
  }
 },
 "nbformat": 4,
 "nbformat_minor": 2
}

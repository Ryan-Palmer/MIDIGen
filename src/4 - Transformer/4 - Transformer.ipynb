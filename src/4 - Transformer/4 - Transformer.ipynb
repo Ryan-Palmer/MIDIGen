{
 "cells": [
  {
   "cell_type": "code",
   "execution_count": 20,
   "metadata": {},
   "outputs": [
    {
     "ename": "FileNotFoundError",
     "evalue": "[Errno 2] No such file or directory: '4 - Transformer'",
     "output_type": "error",
     "traceback": [
      "\u001b[0;31m---------------------------------------------------------------------------\u001b[0m",
      "\u001b[0;31mFileNotFoundError\u001b[0m                         Traceback (most recent call last)",
      "Cell \u001b[0;32mIn[20], line 2\u001b[0m\n\u001b[1;32m      1\u001b[0m \u001b[38;5;28;01mimport\u001b[39;00m \u001b[38;5;21;01mos\u001b[39;00m\n\u001b[0;32m----> 2\u001b[0m \u001b[43mos\u001b[49m\u001b[38;5;241;43m.\u001b[39;49m\u001b[43mchdir\u001b[49m\u001b[43m(\u001b[49m\u001b[38;5;124;43mr\u001b[39;49m\u001b[38;5;124;43m'\u001b[39;49m\u001b[38;5;124;43m4 - Transformer\u001b[39;49m\u001b[38;5;124;43m'\u001b[39;49m\u001b[43m)\u001b[49m\n\u001b[1;32m      3\u001b[0m \u001b[38;5;28;01mimport\u001b[39;00m \u001b[38;5;21;01mtorch\u001b[39;00m\n\u001b[1;32m      4\u001b[0m \u001b[38;5;28;01mimport\u001b[39;00m \u001b[38;5;21;01mtorch\u001b[39;00m\u001b[38;5;21;01m.\u001b[39;00m\u001b[38;5;21;01mnn\u001b[39;00m\u001b[38;5;21;01m.\u001b[39;00m\u001b[38;5;21;01mfunctional\u001b[39;00m \u001b[38;5;28;01mas\u001b[39;00m \u001b[38;5;21;01mF\u001b[39;00m\n",
      "\u001b[0;31mFileNotFoundError\u001b[0m: [Errno 2] No such file or directory: '4 - Transformer'"
     ]
    }
   ],
   "source": [
    "import os\n",
    "os.chdir(r'4 - Transformer')\n",
    "import torch\n",
    "import torch.nn.functional as F\n",
    "import torch.optim as optim\n",
    "import numpy as np\n",
    "import matplotlib.pyplot as plt\n",
    "import random\n",
    "from itertools import chain\n",
    "from itertools import groupby\n",
    "from functools import reduce\n",
    "from typing import Collection, List\n",
    "from pathlib import Path\n",
    "import music21 as m21\n",
    "musescore_path = '/usr/bin/mscore'\n",
    "m21.environment.set('musicxmlPath', musescore_path)\n",
    "m21.environment.set('musescoreDirectPNGPath', musescore_path)\n",
    "from midi_encoding import *\n",
    "\n",
    "device = (\n",
    "    \"cuda\"\n",
    "    if torch.cuda.is_available()\n",
    "    else \"mps\"\n",
    "    if torch.backends.mps.is_available()\n",
    "    else \"cpu\"\n",
    ")\n",
    "\n",
    "print(f\"Using {device}.\")"
   ]
  },
  {
   "cell_type": "code",
   "execution_count": null,
   "metadata": {},
   "outputs": [
    {
     "name": "stdout",
     "output_type": "stream",
     "text": [
      "Device: NVIDIA GeForce RTX 4090.\n"
     ]
    }
   ],
   "source": [
    "if device == \"cuda\":\n",
    "    print(f\"Device: {torch.cuda.get_device_name()}.\")"
   ]
  },
  {
   "cell_type": "code",
   "execution_count": null,
   "metadata": {},
   "outputs": [
    {
     "name": "stdout",
     "output_type": "stream",
     "text": [
      "Vocab length: 389\n",
      "Padding vocab 5\n",
      "Padded vocab length: 392\n"
     ]
    },
    {
     "data": {
      "text/plain": [
       "392"
      ]
     },
     "execution_count": 3,
     "metadata": {},
     "output_type": "execute_result"
    }
   ],
   "source": [
    "vocab = MusicVocab()\n",
    "vocab.size"
   ]
  },
  {
   "cell_type": "code",
   "execution_count": null,
   "metadata": {},
   "outputs": [
    {
     "data": {
      "text/plain": [
       "3839"
      ]
     },
     "execution_count": 4,
     "metadata": {},
     "output_type": "execute_result"
    }
   ],
   "source": [
    "vg_large_path = Path('../data/midi/vg_large')\n",
    "vg_large_file_names = [f for f in os.listdir(vg_large_path) if os.path.isfile(os.path.join(vg_large_path, f))]\n",
    "len(vg_large_file_names)"
   ]
  },
  {
   "cell_type": "markdown",
   "metadata": {},
   "source": [
    "### Data loading\n",
    "\n",
    "Previously we used a fixed context window to split out data into blocks, e.g. 'if we see this block of 8 tokens, what is the ninth?'.\n",
    "\n",
    "That meant we always had to init the generation with an entire block of context, mostly made of padding. We also needed to add these 'padding init' blocks to training so that the network had seen them before inference time.\n",
    "\n",
    "Now that we are working with transformers, we will take each block and split it into samples of varying lengths, e.g.\n",
    "\n",
    "Data - (1, 2, 3, 4)\n",
    "\n",
    "X(1) -> Y(2)\n",
    "\n",
    "X(1,2) -> Y(3)\n",
    "\n",
    "X(1,2,3) -> Y(4)\n",
    "\n",
    "Because we are going to drastically scale up our block size, it is no longer feasible to pre-block encode the data as every token is duplicated up to block size.\n",
    "\n",
    "We will need to load a single 1D tensor, then randomly indexes into it to choose a block.\n",
    "\n",
    "This does mean that at boundaries we will have blocks of performances overlapping (i.e. there will be blocks with a token *after* `<|eos|>`), but hopefully the network will realise that data before and after is correlated.\n",
    "\n",
    "Alternatively, we could try re-sampling if we get a block with `<|eos|>` anywhere other than the end?\n",
    "\n",
    "In this notebook we are going to encode the entire dataset at once and *then* split into train / test / validation data, rather than first split by filenames, because it occured to me that the MIDI tracks might have very different lengths.\n",
    "\n",
    "\n",
    "### Labels\n",
    "\n",
    "Because we are training every position in the sequence at once, we need a block of labels for each block of data.\n",
    "\n",
    "This is just the next block in the array (i.e. `X[1]` is the labels for `X[0]`, and `X[2]` is the labels for `X[1]` etc etc), so there is no point in encoding them separately.\n",
    "\n",
    "### Position\n",
    "\n",
    "We are going to need to add positional encodings to our data.\n",
    "\n",
    "Transformers employ a position embedding layer to distinguish between positions in a sequence.\n",
    "\n",
    "In addition to this, we want to create embeddings for the bar and beat.\n",
    "\n",
    "These can all be added together to get a hybrid 'position' vector.\n",
    "\n",
    "To allow us to calculate the bar and beat we need the absolute position of each token, which we can encode at the same time as the batches.\n",
    "\n",
    "> See `sparse_to_position_enc` - this is where we throw away timestep info, so we now 'snaphot' tidx and package alongside the token values."
   ]
  },
  {
   "cell_type": "code",
   "execution_count": null,
   "metadata": {},
   "outputs": [
    {
     "data": {
      "text/plain": [
       "torch.Size([8781624, 2])"
      ]
     },
     "execution_count": 5,
     "metadata": {},
     "output_type": "execute_result"
    }
   ],
   "source": [
    "def idx_encode(file_names):\n",
    "    # We can't shuffle the blocks afterwards as we rely on them being contiguous in order to get the targets\n",
    "    # If we didn't shuffle at all then the train and test splits would contain specific game soundtracks rather than a mixture\n",
    "    random.shuffle(file_names)\n",
    "    xs = []\n",
    "    for file_name in file_names:\n",
    "        file_path = Path(vg_large_path, file_name)\n",
    "        idx_score = midifile_to_idx_score(file_path, vocab, False)\n",
    "        if idx_score is not None: # Files which aren't 4/4 are ignored\n",
    "            xs.append(idx_score)\n",
    "    return np.concat(xs) # concat scores to create 1D tensor\n",
    "\n",
    "def load_or_create(file_names, sample_path):\n",
    "    if sample_path.exists():\n",
    "        xs = np.load(sample_path, allow_pickle=True)\n",
    "    else:\n",
    "        xs = idx_encode(file_names)\n",
    "        np.save(sample_path, xs)\n",
    "\n",
    "    return torch.tensor(xs, device=device)\n",
    "\n",
    "vg_large_samples_path = Path(f'../data/numpy/vg_large/samples_with_position_all.npy')\n",
    "\n",
    "data = load_or_create(vg_large_file_names, vg_large_samples_path)\n",
    "\n",
    "data.shape"
   ]
  },
  {
   "cell_type": "code",
   "execution_count": null,
   "metadata": {},
   "outputs": [],
   "source": [
    "X = data[0:-1]\n",
    "Y = data[1:, 0] # Drop position from Y\n",
    "# Y = data[1:]"
   ]
  },
  {
   "cell_type": "code",
   "execution_count": null,
   "metadata": {},
   "outputs": [
    {
     "data": {
      "text/plain": [
       "tensor([[  0,   0],\n",
       "        [ 46,   0],\n",
       "        [138,   0],\n",
       "        [  3,   0],\n",
       "        [138,   0],\n",
       "        [ 45,   6],\n",
       "        [134,   6],\n",
       "        [  3,   6],\n",
       "        [134,   6],\n",
       "        [ 44,   8],\n",
       "        [138,   8],\n",
       "        [  3,   8]], device='cuda:0')"
      ]
     },
     "execution_count": 7,
     "metadata": {},
     "output_type": "execute_result"
    }
   ],
   "source": [
    "X[:12]"
   ]
  },
  {
   "cell_type": "code",
   "execution_count": null,
   "metadata": {},
   "outputs": [
    {
     "data": {
      "text/plain": [
       "tensor([[  69, 1356],\n",
       "        [ 136, 1356],\n",
       "        [   3, 1356],\n",
       "        [ 136, 1356],\n",
       "        [  80, 1360],\n",
       "        [ 135, 1360],\n",
       "        [  68, 1360],\n",
       "        [ 135, 1360],\n",
       "        [  61, 1360],\n",
       "        [ 135, 1360],\n",
       "        [  49, 1360],\n",
       "        [ 135, 1360]], device='cuda:0')"
      ]
     },
     "execution_count": 8,
     "metadata": {},
     "output_type": "execute_result"
    }
   ],
   "source": [
    "X[-12:]"
   ]
  },
  {
   "cell_type": "code",
   "execution_count": null,
   "metadata": {},
   "outputs": [
    {
     "data": {
      "text/plain": [
       "'<|sos|> n42 d6 <|sep|> d6 n41 d2 <|sep|> d2 n40 d6 <|sep|>'"
      ]
     },
     "execution_count": 9,
     "metadata": {},
     "output_type": "execute_result"
    }
   ],
   "source": [
    "vocab.to_tokens(X[:, 0][:12])\n",
    "# vocab.to_tokens(X[:][:12])"
   ]
  },
  {
   "cell_type": "code",
   "execution_count": null,
   "metadata": {},
   "outputs": [
    {
     "data": {
      "text/plain": [
       "'n42 d6 <|sep|> d6 n41 d2 <|sep|> d2 n40 d6 <|sep|> d6'"
      ]
     },
     "execution_count": 10,
     "metadata": {},
     "output_type": "execute_result"
    }
   ],
   "source": [
    "vocab.to_tokens(Y[:12])"
   ]
  },
  {
   "cell_type": "code",
   "execution_count": null,
   "metadata": {},
   "outputs": [
    {
     "data": {
      "text/plain": [
       "'n65 d4 <|sep|> d4 n76 d3 n64 d3 n57 d3 n45 d3'"
      ]
     },
     "execution_count": 11,
     "metadata": {},
     "output_type": "execute_result"
    }
   ],
   "source": [
    "vocab.to_tokens(X[:, 0][-12:])\n",
    "# vocab.to_tokens(X[:][-12:])"
   ]
  },
  {
   "cell_type": "code",
   "execution_count": null,
   "metadata": {},
   "outputs": [
    {
     "data": {
      "text/plain": [
       "'d4 <|sep|> d4 n76 d3 n64 d3 n57 d3 n45 d3 <|eos|>'"
      ]
     },
     "execution_count": 12,
     "metadata": {},
     "output_type": "execute_result"
    }
   ],
   "source": [
    "vocab.to_tokens(Y[-12:])"
   ]
  },
  {
   "cell_type": "markdown",
   "metadata": {},
   "source": [
    "We are now ready to build a decoder-only transformer with positional embeddings.\n",
    "\n",
    "We will start by creating simple custom PyTorch modules following Karpathy in order to fully understand the architecture."
   ]
  },
  {
   "cell_type": "code",
   "execution_count": null,
   "metadata": {},
   "outputs": [],
   "source": [
    "n_embed = 384 # /6 heads = 64 per head\n",
    "block_size = 256\n",
    "dropout = 0.2\n",
    "\n",
    "class SelfAttentionHead(torch.nn.Module):\n",
    "\n",
    "    def __init__(self, head_size):\n",
    "        super().__init__()\n",
    "        self.key = torch.nn.Linear(n_embed, head_size, bias=False)\n",
    "        self.query = torch.nn.Linear(n_embed, head_size, bias=False)\n",
    "        self.value = torch.nn.Linear(n_embed, head_size, bias=False)\n",
    "        self.register_buffer('tril', torch.tril(torch.ones(block_size, block_size)))\n",
    "        self.dropout = torch.nn.Dropout(dropout)\n",
    "\n",
    "    def forward(self, x):\n",
    "        B, T, C = x.shape\n",
    "        \n",
    "        # Key - What it offers\n",
    "        k = self.key(x) # (B, T, C)\n",
    "\n",
    "        # Query - What it looks for\n",
    "        q = self.query(x) # (B, T, C)\n",
    "\n",
    "        # Attention scores\n",
    "        w = q @ k.transpose(-2, -1) * C ** -0.5 # i.e. math.sqrt(self.embed_size). (B, T, C) @ (B, C, T) -> (B, T, T)\n",
    "\n",
    "        w = w.masked_fill(self.tril[:T, :T] == 0, float('-inf')) # (B, T, T) Mask the future positions \n",
    "        w = F.softmax(w, dim=-1) # (B, T, T)\n",
    "        w = self.dropout(w)\n",
    "\n",
    "        # Value - What it has to communicate\n",
    "        v = self.value(x) # (B, T, C)\n",
    "        \n",
    "        # Scale the values by the attention weights\n",
    "        return w @ v # (B, T, T) @ (B, T, C) -> (B, T, C)\n",
    "    \n",
    "class MultiHeadAttention(torch.nn.Module):\n",
    "\n",
    "    def __init__(self, n_heads, head_size):\n",
    "        super().__init__()\n",
    "        self.heads = torch.nn.ModuleList([SelfAttentionHead(head_size) for _ in range(n_heads)])\n",
    "        self.proj = torch.nn.Linear(n_heads * head_size, n_embed) \n",
    "        self.dropout = torch.nn.Dropout(dropout)\n",
    "\n",
    "    def forward(self, x):\n",
    "        # Concat over the channel dimension\n",
    "        out = torch.cat([h(x) for h in self.heads], dim=-1) # Could all be done in parallel by adding a head dimension\n",
    "        out = self.proj(out)\n",
    "        return self.dropout(out)\n",
    "    \n",
    "class FeedForward(torch.nn.Module):\n",
    "\n",
    "    def __init__(self, n_embed):\n",
    "        super().__init__()\n",
    "        self.net = torch.nn.Sequential(\n",
    "            torch.nn.Linear(n_embed, 4 * n_embed), # 4x is a common expansion factor\n",
    "            torch.nn.ReLU(),\n",
    "            torch.nn.Linear(4 * n_embed, n_embed), # Project back to the residual stream\n",
    "            torch.nn.Dropout(dropout)\n",
    "        )\n",
    "\n",
    "    def forward(self, x):\n",
    "        return self.net(x)\n",
    "    \n",
    "class Block(torch.nn.Module):\n",
    "\n",
    "    def __init__(self, n_embed, n_head):\n",
    "        super().__init__()\n",
    "        head_size = n_embed // n_head\n",
    "        self.self_attn = MultiHeadAttention(n_head, head_size)\n",
    "        self.ff = FeedForward(n_embed)\n",
    "        self.layer_norm1 = torch.nn.LayerNorm(n_embed)\n",
    "        self.layer_norm2 = torch.nn.LayerNorm(n_embed)\n",
    "\n",
    "    def forward(self, x):\n",
    "        # Residual connections\n",
    "        x = x + self.self_attn(self.layer_norm1(x))\n",
    "        x = x + self.ff(self.layer_norm2(x))\n",
    "        return x"
   ]
  },
  {
   "cell_type": "code",
   "execution_count": null,
   "metadata": {},
   "outputs": [],
   "source": [
    "max_bar_position = 1024 # 4 beats per bar = 4096 beats, which at 120bpm is 34 minutes. This will hopefully be enough for any song in the training set.\n",
    "n_head = 6\n",
    "n_layer = 6\n",
    "\n",
    "class DecoderTransformer(torch.nn.Module):\n",
    "\n",
    "    def __init__(self, vocab_size):\n",
    "        super().__init__()\n",
    "        self.token_embedding = torch.nn.Embedding(vocab_size, n_embed)\n",
    "        self.positional_embedding = torch.nn.Embedding(block_size, n_embed)\n",
    "        self.beat_embedding = torch.nn.Embedding(SAMPLES_PER_BAR, n_embed)\n",
    "        self.bar_embedding = torch.nn.Embedding(max_bar_position, n_embed)\n",
    "        self.blocks = torch.nn.Sequential(*[Block(n_embed, n_head) for _ in range(n_layer)])\n",
    "        self.layer_norm = torch.nn.LayerNorm(n_embed)\n",
    "        self.lm_head = torch.nn.Linear(n_embed, vocab_size)\n",
    "\n",
    "    def forward(self, idx, targets=None):\n",
    "\n",
    "        B, T, E = idx.size()\n",
    "\n",
    "        token_idx = idx[:, :, 0] # (B,T)\n",
    "        time_idx = idx[:, :, 1] # (B,T)\n",
    "        sample_idx = time_idx % SAMPLES_PER_BAR # (B,T)\n",
    "        bar_idx = (time_idx // SAMPLES_PER_BAR) % max_bar_position # (B,T)\n",
    "\n",
    "        token_embed = self.token_embedding(token_idx) # (B,T,Embed)\n",
    "        pos_embed = self.positional_embedding(torch.arange(T, device=device)) # (T,Embed)\n",
    "        bar_embed = self.bar_embedding(bar_idx) # (B,T,Embed)\n",
    "        sample_embed = self.beat_embedding(sample_idx) # (B,T,Embed)\n",
    "        \n",
    "        x = token_embed + pos_embed + bar_embed + sample_embed\n",
    "        x = self.blocks(x)\n",
    "        x = self.layer_norm(x)\n",
    "\n",
    "        if targets is None:\n",
    "            # inference-time mini-optimization: only forward the lm_head on the very last position\n",
    "            logits = self.lm_head(x[:, [-1], :]) # note: using list [-1] to preserve the time dim\n",
    "            loss = None\n",
    "        else:\n",
    "            # if we are given some desired targets also calculate the loss\n",
    "            logits = self.lm_head(x)\n",
    "            B, T, C = logits.shape\n",
    "            logits = logits.view(B*T, C) # Flatten all the batches\n",
    "            targets = targets.view(B*T)\n",
    "            loss = F.cross_entropy(logits, targets)\n",
    "\n",
    "        return logits, loss\n",
    "    \n",
    "    @torch.no_grad()\n",
    "    def generate(self, idx, max_new_tokens=1024, temperature=1.0):\n",
    "        self.eval()\n",
    "        \n",
    "        B, T, C = idx.size()\n",
    "        # print(f'idx: {idx.size()}')\n",
    "\n",
    "        dur_start, _ = vocab.duration_range\n",
    "        \n",
    "        for _ in range(max_new_tokens):\n",
    "\n",
    "            # Get the second to last note index if it exists, otherwise return pad idx\n",
    "            if idx.size(1) > 1:\n",
    "                second_to_last_nidx = idx[:, -2, 0].unsqueeze(0) # (B, 1)\n",
    "            else:\n",
    "                second_to_last_nidx = torch.stack([torch.tensor([vocab.pad_idx], device=device) for _ in range(B)], dim=0)\n",
    "\n",
    "            # print(f'second_to_last_nidx: {second_to_last_nidx.size()}')\n",
    "            \n",
    "            last_nidx = idx[:, -1, 0] # (B, 1)\n",
    "            # print(f'last_nidx: {last_nidx.size()}')\n",
    "            last_tidx = idx[:, -1, 1] # (B, 1)\n",
    "            # print(f'last_tidx: {last_tidx.size()}')\n",
    "\n",
    "            # If two tokens ago was a separator, the last token was a time-incrementing duration\n",
    "            duration_mask = second_to_last_nidx == vocab.sep_idx # (B, 1)\n",
    "\n",
    "            # Offset the duration idx to get the actual duration, and zero out if the previous token was not a separator\n",
    "            t_inc = (last_nidx - dur_start) * duration_mask\n",
    "            # print(f't_inc: {t_inc.size()}')\n",
    "\n",
    "            # Increment the time index by the duration\n",
    "            tidx_next = last_tidx + t_inc # (B, 1)\n",
    "            # print(f'tidx: {tidx_next.size()}')\n",
    "\n",
    "            # if the sequence context is growing too long we must crop it at block_size\n",
    "            idx_cond = idx if idx.size(1) <= block_size else idx[:, -block_size:]\n",
    "\n",
    "            # forward the model to get the logits for the index in the sequence\n",
    "            logits, _ = self(idx_cond)\n",
    "\n",
    "            # pluck the logits at the final step and scale by desired temperature\n",
    "            logits = logits[:, -1, :] / temperature\n",
    "\n",
    "            # apply softmax to convert logits to (normalized) probabilities\n",
    "            probs = F.softmax(logits, dim=-1)\n",
    "\n",
    "            # sample from the distribution\n",
    "            nidx_next = torch.multinomial(probs, num_samples=1) # (B, 1)\n",
    "            # print(f'nidx: {nidx_next.size()}')\n",
    "\n",
    "            # Concat with the time index\n",
    "            idx_next = torch.cat((nidx_next, tidx_next), dim=1).unsqueeze(0) # (1, B, C)\n",
    "            # print(f'idx_next: {idx_next.size()}')\n",
    "\n",
    "            # append sampled index to the running sequence and continue\n",
    "            idx = torch.cat((idx, idx_next), dim=1) # (B, T+1, C)\n",
    "\n",
    "        self.train()\n",
    "        return idx"
   ]
  },
  {
   "cell_type": "code",
   "execution_count": null,
   "metadata": {},
   "outputs": [
    {
     "name": "stdout",
     "output_type": "stream",
     "text": [
      "11445896\n"
     ]
    }
   ],
   "source": [
    "model = DecoderTransformer(vocab_size=vocab.size)\n",
    "\n",
    "print(sum(p.numel() for p in model.parameters()))"
   ]
  },
  {
   "cell_type": "code",
   "execution_count": null,
   "metadata": {},
   "outputs": [
    {
     "name": "stdout",
     "output_type": "stream",
     "text": [
      "Model's state_dict:\n",
      "token_embedding.weight \t torch.Size([392, 384])\n",
      "positional_embedding.weight \t torch.Size([256, 384])\n",
      "beat_embedding.weight \t torch.Size([32, 384])\n",
      "bar_embedding.weight \t torch.Size([1024, 384])\n",
      "blocks.0.self_attn.heads.0.tril \t torch.Size([256, 256])\n",
      "blocks.0.self_attn.heads.0.key.weight \t torch.Size([64, 384])\n",
      "blocks.0.self_attn.heads.0.query.weight \t torch.Size([64, 384])\n",
      "blocks.0.self_attn.heads.0.value.weight \t torch.Size([64, 384])\n",
      "blocks.0.self_attn.heads.1.tril \t torch.Size([256, 256])\n",
      "blocks.0.self_attn.heads.1.key.weight \t torch.Size([64, 384])\n",
      "blocks.0.self_attn.heads.1.query.weight \t torch.Size([64, 384])\n",
      "blocks.0.self_attn.heads.1.value.weight \t torch.Size([64, 384])\n",
      "blocks.0.self_attn.heads.2.tril \t torch.Size([256, 256])\n",
      "blocks.0.self_attn.heads.2.key.weight \t torch.Size([64, 384])\n",
      "blocks.0.self_attn.heads.2.query.weight \t torch.Size([64, 384])\n",
      "blocks.0.self_attn.heads.2.value.weight \t torch.Size([64, 384])\n",
      "blocks.0.self_attn.heads.3.tril \t torch.Size([256, 256])\n",
      "blocks.0.self_attn.heads.3.key.weight \t torch.Size([64, 384])\n",
      "blocks.0.self_attn.heads.3.query.weight \t torch.Size([64, 384])\n",
      "blocks.0.self_attn.heads.3.value.weight \t torch.Size([64, 384])\n",
      "blocks.0.self_attn.heads.4.tril \t torch.Size([256, 256])\n",
      "blocks.0.self_attn.heads.4.key.weight \t torch.Size([64, 384])\n",
      "blocks.0.self_attn.heads.4.query.weight \t torch.Size([64, 384])\n",
      "blocks.0.self_attn.heads.4.value.weight \t torch.Size([64, 384])\n",
      "blocks.0.self_attn.heads.5.tril \t torch.Size([256, 256])\n",
      "blocks.0.self_attn.heads.5.key.weight \t torch.Size([64, 384])\n",
      "blocks.0.self_attn.heads.5.query.weight \t torch.Size([64, 384])\n",
      "blocks.0.self_attn.heads.5.value.weight \t torch.Size([64, 384])\n",
      "blocks.0.self_attn.proj.weight \t torch.Size([384, 384])\n",
      "blocks.0.self_attn.proj.bias \t torch.Size([384])\n",
      "blocks.0.ff.net.0.weight \t torch.Size([1536, 384])\n",
      "blocks.0.ff.net.0.bias \t torch.Size([1536])\n",
      "blocks.0.ff.net.2.weight \t torch.Size([384, 1536])\n",
      "blocks.0.ff.net.2.bias \t torch.Size([384])\n",
      "blocks.0.layer_norm1.weight \t torch.Size([384])\n",
      "blocks.0.layer_norm1.bias \t torch.Size([384])\n",
      "blocks.0.layer_norm2.weight \t torch.Size([384])\n",
      "blocks.0.layer_norm2.bias \t torch.Size([384])\n",
      "blocks.1.self_attn.heads.0.tril \t torch.Size([256, 256])\n",
      "blocks.1.self_attn.heads.0.key.weight \t torch.Size([64, 384])\n",
      "blocks.1.self_attn.heads.0.query.weight \t torch.Size([64, 384])\n",
      "blocks.1.self_attn.heads.0.value.weight \t torch.Size([64, 384])\n",
      "blocks.1.self_attn.heads.1.tril \t torch.Size([256, 256])\n",
      "blocks.1.self_attn.heads.1.key.weight \t torch.Size([64, 384])\n",
      "blocks.1.self_attn.heads.1.query.weight \t torch.Size([64, 384])\n",
      "blocks.1.self_attn.heads.1.value.weight \t torch.Size([64, 384])\n",
      "blocks.1.self_attn.heads.2.tril \t torch.Size([256, 256])\n",
      "blocks.1.self_attn.heads.2.key.weight \t torch.Size([64, 384])\n",
      "blocks.1.self_attn.heads.2.query.weight \t torch.Size([64, 384])\n",
      "blocks.1.self_attn.heads.2.value.weight \t torch.Size([64, 384])\n",
      "blocks.1.self_attn.heads.3.tril \t torch.Size([256, 256])\n",
      "blocks.1.self_attn.heads.3.key.weight \t torch.Size([64, 384])\n",
      "blocks.1.self_attn.heads.3.query.weight \t torch.Size([64, 384])\n",
      "blocks.1.self_attn.heads.3.value.weight \t torch.Size([64, 384])\n",
      "blocks.1.self_attn.heads.4.tril \t torch.Size([256, 256])\n",
      "blocks.1.self_attn.heads.4.key.weight \t torch.Size([64, 384])\n",
      "blocks.1.self_attn.heads.4.query.weight \t torch.Size([64, 384])\n",
      "blocks.1.self_attn.heads.4.value.weight \t torch.Size([64, 384])\n",
      "blocks.1.self_attn.heads.5.tril \t torch.Size([256, 256])\n",
      "blocks.1.self_attn.heads.5.key.weight \t torch.Size([64, 384])\n",
      "blocks.1.self_attn.heads.5.query.weight \t torch.Size([64, 384])\n",
      "blocks.1.self_attn.heads.5.value.weight \t torch.Size([64, 384])\n",
      "blocks.1.self_attn.proj.weight \t torch.Size([384, 384])\n",
      "blocks.1.self_attn.proj.bias \t torch.Size([384])\n",
      "blocks.1.ff.net.0.weight \t torch.Size([1536, 384])\n",
      "blocks.1.ff.net.0.bias \t torch.Size([1536])\n",
      "blocks.1.ff.net.2.weight \t torch.Size([384, 1536])\n",
      "blocks.1.ff.net.2.bias \t torch.Size([384])\n",
      "blocks.1.layer_norm1.weight \t torch.Size([384])\n",
      "blocks.1.layer_norm1.bias \t torch.Size([384])\n",
      "blocks.1.layer_norm2.weight \t torch.Size([384])\n",
      "blocks.1.layer_norm2.bias \t torch.Size([384])\n",
      "blocks.2.self_attn.heads.0.tril \t torch.Size([256, 256])\n",
      "blocks.2.self_attn.heads.0.key.weight \t torch.Size([64, 384])\n",
      "blocks.2.self_attn.heads.0.query.weight \t torch.Size([64, 384])\n",
      "blocks.2.self_attn.heads.0.value.weight \t torch.Size([64, 384])\n",
      "blocks.2.self_attn.heads.1.tril \t torch.Size([256, 256])\n",
      "blocks.2.self_attn.heads.1.key.weight \t torch.Size([64, 384])\n",
      "blocks.2.self_attn.heads.1.query.weight \t torch.Size([64, 384])\n",
      "blocks.2.self_attn.heads.1.value.weight \t torch.Size([64, 384])\n",
      "blocks.2.self_attn.heads.2.tril \t torch.Size([256, 256])\n",
      "blocks.2.self_attn.heads.2.key.weight \t torch.Size([64, 384])\n",
      "blocks.2.self_attn.heads.2.query.weight \t torch.Size([64, 384])\n",
      "blocks.2.self_attn.heads.2.value.weight \t torch.Size([64, 384])\n",
      "blocks.2.self_attn.heads.3.tril \t torch.Size([256, 256])\n",
      "blocks.2.self_attn.heads.3.key.weight \t torch.Size([64, 384])\n",
      "blocks.2.self_attn.heads.3.query.weight \t torch.Size([64, 384])\n",
      "blocks.2.self_attn.heads.3.value.weight \t torch.Size([64, 384])\n",
      "blocks.2.self_attn.heads.4.tril \t torch.Size([256, 256])\n",
      "blocks.2.self_attn.heads.4.key.weight \t torch.Size([64, 384])\n",
      "blocks.2.self_attn.heads.4.query.weight \t torch.Size([64, 384])\n",
      "blocks.2.self_attn.heads.4.value.weight \t torch.Size([64, 384])\n",
      "blocks.2.self_attn.heads.5.tril \t torch.Size([256, 256])\n",
      "blocks.2.self_attn.heads.5.key.weight \t torch.Size([64, 384])\n",
      "blocks.2.self_attn.heads.5.query.weight \t torch.Size([64, 384])\n",
      "blocks.2.self_attn.heads.5.value.weight \t torch.Size([64, 384])\n",
      "blocks.2.self_attn.proj.weight \t torch.Size([384, 384])\n",
      "blocks.2.self_attn.proj.bias \t torch.Size([384])\n",
      "blocks.2.ff.net.0.weight \t torch.Size([1536, 384])\n",
      "blocks.2.ff.net.0.bias \t torch.Size([1536])\n",
      "blocks.2.ff.net.2.weight \t torch.Size([384, 1536])\n",
      "blocks.2.ff.net.2.bias \t torch.Size([384])\n",
      "blocks.2.layer_norm1.weight \t torch.Size([384])\n",
      "blocks.2.layer_norm1.bias \t torch.Size([384])\n",
      "blocks.2.layer_norm2.weight \t torch.Size([384])\n",
      "blocks.2.layer_norm2.bias \t torch.Size([384])\n",
      "blocks.3.self_attn.heads.0.tril \t torch.Size([256, 256])\n",
      "blocks.3.self_attn.heads.0.key.weight \t torch.Size([64, 384])\n",
      "blocks.3.self_attn.heads.0.query.weight \t torch.Size([64, 384])\n",
      "blocks.3.self_attn.heads.0.value.weight \t torch.Size([64, 384])\n",
      "blocks.3.self_attn.heads.1.tril \t torch.Size([256, 256])\n",
      "blocks.3.self_attn.heads.1.key.weight \t torch.Size([64, 384])\n",
      "blocks.3.self_attn.heads.1.query.weight \t torch.Size([64, 384])\n",
      "blocks.3.self_attn.heads.1.value.weight \t torch.Size([64, 384])\n",
      "blocks.3.self_attn.heads.2.tril \t torch.Size([256, 256])\n",
      "blocks.3.self_attn.heads.2.key.weight \t torch.Size([64, 384])\n",
      "blocks.3.self_attn.heads.2.query.weight \t torch.Size([64, 384])\n",
      "blocks.3.self_attn.heads.2.value.weight \t torch.Size([64, 384])\n",
      "blocks.3.self_attn.heads.3.tril \t torch.Size([256, 256])\n",
      "blocks.3.self_attn.heads.3.key.weight \t torch.Size([64, 384])\n",
      "blocks.3.self_attn.heads.3.query.weight \t torch.Size([64, 384])\n",
      "blocks.3.self_attn.heads.3.value.weight \t torch.Size([64, 384])\n",
      "blocks.3.self_attn.heads.4.tril \t torch.Size([256, 256])\n",
      "blocks.3.self_attn.heads.4.key.weight \t torch.Size([64, 384])\n",
      "blocks.3.self_attn.heads.4.query.weight \t torch.Size([64, 384])\n",
      "blocks.3.self_attn.heads.4.value.weight \t torch.Size([64, 384])\n",
      "blocks.3.self_attn.heads.5.tril \t torch.Size([256, 256])\n",
      "blocks.3.self_attn.heads.5.key.weight \t torch.Size([64, 384])\n",
      "blocks.3.self_attn.heads.5.query.weight \t torch.Size([64, 384])\n",
      "blocks.3.self_attn.heads.5.value.weight \t torch.Size([64, 384])\n",
      "blocks.3.self_attn.proj.weight \t torch.Size([384, 384])\n",
      "blocks.3.self_attn.proj.bias \t torch.Size([384])\n",
      "blocks.3.ff.net.0.weight \t torch.Size([1536, 384])\n",
      "blocks.3.ff.net.0.bias \t torch.Size([1536])\n",
      "blocks.3.ff.net.2.weight \t torch.Size([384, 1536])\n",
      "blocks.3.ff.net.2.bias \t torch.Size([384])\n",
      "blocks.3.layer_norm1.weight \t torch.Size([384])\n",
      "blocks.3.layer_norm1.bias \t torch.Size([384])\n",
      "blocks.3.layer_norm2.weight \t torch.Size([384])\n",
      "blocks.3.layer_norm2.bias \t torch.Size([384])\n",
      "blocks.4.self_attn.heads.0.tril \t torch.Size([256, 256])\n",
      "blocks.4.self_attn.heads.0.key.weight \t torch.Size([64, 384])\n",
      "blocks.4.self_attn.heads.0.query.weight \t torch.Size([64, 384])\n",
      "blocks.4.self_attn.heads.0.value.weight \t torch.Size([64, 384])\n",
      "blocks.4.self_attn.heads.1.tril \t torch.Size([256, 256])\n",
      "blocks.4.self_attn.heads.1.key.weight \t torch.Size([64, 384])\n",
      "blocks.4.self_attn.heads.1.query.weight \t torch.Size([64, 384])\n",
      "blocks.4.self_attn.heads.1.value.weight \t torch.Size([64, 384])\n",
      "blocks.4.self_attn.heads.2.tril \t torch.Size([256, 256])\n",
      "blocks.4.self_attn.heads.2.key.weight \t torch.Size([64, 384])\n",
      "blocks.4.self_attn.heads.2.query.weight \t torch.Size([64, 384])\n",
      "blocks.4.self_attn.heads.2.value.weight \t torch.Size([64, 384])\n",
      "blocks.4.self_attn.heads.3.tril \t torch.Size([256, 256])\n",
      "blocks.4.self_attn.heads.3.key.weight \t torch.Size([64, 384])\n",
      "blocks.4.self_attn.heads.3.query.weight \t torch.Size([64, 384])\n",
      "blocks.4.self_attn.heads.3.value.weight \t torch.Size([64, 384])\n",
      "blocks.4.self_attn.heads.4.tril \t torch.Size([256, 256])\n",
      "blocks.4.self_attn.heads.4.key.weight \t torch.Size([64, 384])\n",
      "blocks.4.self_attn.heads.4.query.weight \t torch.Size([64, 384])\n",
      "blocks.4.self_attn.heads.4.value.weight \t torch.Size([64, 384])\n",
      "blocks.4.self_attn.heads.5.tril \t torch.Size([256, 256])\n",
      "blocks.4.self_attn.heads.5.key.weight \t torch.Size([64, 384])\n",
      "blocks.4.self_attn.heads.5.query.weight \t torch.Size([64, 384])\n",
      "blocks.4.self_attn.heads.5.value.weight \t torch.Size([64, 384])\n",
      "blocks.4.self_attn.proj.weight \t torch.Size([384, 384])\n",
      "blocks.4.self_attn.proj.bias \t torch.Size([384])\n",
      "blocks.4.ff.net.0.weight \t torch.Size([1536, 384])\n",
      "blocks.4.ff.net.0.bias \t torch.Size([1536])\n",
      "blocks.4.ff.net.2.weight \t torch.Size([384, 1536])\n",
      "blocks.4.ff.net.2.bias \t torch.Size([384])\n",
      "blocks.4.layer_norm1.weight \t torch.Size([384])\n",
      "blocks.4.layer_norm1.bias \t torch.Size([384])\n",
      "blocks.4.layer_norm2.weight \t torch.Size([384])\n",
      "blocks.4.layer_norm2.bias \t torch.Size([384])\n",
      "blocks.5.self_attn.heads.0.tril \t torch.Size([256, 256])\n",
      "blocks.5.self_attn.heads.0.key.weight \t torch.Size([64, 384])\n",
      "blocks.5.self_attn.heads.0.query.weight \t torch.Size([64, 384])\n",
      "blocks.5.self_attn.heads.0.value.weight \t torch.Size([64, 384])\n",
      "blocks.5.self_attn.heads.1.tril \t torch.Size([256, 256])\n",
      "blocks.5.self_attn.heads.1.key.weight \t torch.Size([64, 384])\n",
      "blocks.5.self_attn.heads.1.query.weight \t torch.Size([64, 384])\n",
      "blocks.5.self_attn.heads.1.value.weight \t torch.Size([64, 384])\n",
      "blocks.5.self_attn.heads.2.tril \t torch.Size([256, 256])\n",
      "blocks.5.self_attn.heads.2.key.weight \t torch.Size([64, 384])\n",
      "blocks.5.self_attn.heads.2.query.weight \t torch.Size([64, 384])\n",
      "blocks.5.self_attn.heads.2.value.weight \t torch.Size([64, 384])\n",
      "blocks.5.self_attn.heads.3.tril \t torch.Size([256, 256])\n",
      "blocks.5.self_attn.heads.3.key.weight \t torch.Size([64, 384])\n",
      "blocks.5.self_attn.heads.3.query.weight \t torch.Size([64, 384])\n",
      "blocks.5.self_attn.heads.3.value.weight \t torch.Size([64, 384])\n",
      "blocks.5.self_attn.heads.4.tril \t torch.Size([256, 256])\n",
      "blocks.5.self_attn.heads.4.key.weight \t torch.Size([64, 384])\n",
      "blocks.5.self_attn.heads.4.query.weight \t torch.Size([64, 384])\n",
      "blocks.5.self_attn.heads.4.value.weight \t torch.Size([64, 384])\n",
      "blocks.5.self_attn.heads.5.tril \t torch.Size([256, 256])\n",
      "blocks.5.self_attn.heads.5.key.weight \t torch.Size([64, 384])\n",
      "blocks.5.self_attn.heads.5.query.weight \t torch.Size([64, 384])\n",
      "blocks.5.self_attn.heads.5.value.weight \t torch.Size([64, 384])\n",
      "blocks.5.self_attn.proj.weight \t torch.Size([384, 384])\n",
      "blocks.5.self_attn.proj.bias \t torch.Size([384])\n",
      "blocks.5.ff.net.0.weight \t torch.Size([1536, 384])\n",
      "blocks.5.ff.net.0.bias \t torch.Size([1536])\n",
      "blocks.5.ff.net.2.weight \t torch.Size([384, 1536])\n",
      "blocks.5.ff.net.2.bias \t torch.Size([384])\n",
      "blocks.5.layer_norm1.weight \t torch.Size([384])\n",
      "blocks.5.layer_norm1.bias \t torch.Size([384])\n",
      "blocks.5.layer_norm2.weight \t torch.Size([384])\n",
      "blocks.5.layer_norm2.bias \t torch.Size([384])\n",
      "layer_norm.weight \t torch.Size([384])\n",
      "layer_norm.bias \t torch.Size([384])\n",
      "lm_head.weight \t torch.Size([392, 384])\n",
      "lm_head.bias \t torch.Size([392])\n"
     ]
    }
   ],
   "source": [
    "print(\"Model's state_dict:\")\n",
    "for param_tensor in model.state_dict():\n",
    "    print(param_tensor, \"\\t\", model.state_dict()[param_tensor].size())"
   ]
  },
  {
   "cell_type": "code",
   "execution_count": null,
   "metadata": {},
   "outputs": [],
   "source": [
    "batch_size = 32\n",
    "eval_iters = 100\n",
    "learning_rate = 1e-1\n",
    "\n",
    "model.to(device)\n",
    "optimizer = optim.SGD(model.parameters(), lr=learning_rate)\n",
    "\n",
    "n_split = int(len(data) * 0.9)\n",
    "train_data, val_data = data[:n_split], data[n_split:]\n",
    "\n",
    "def get_batch(split):\n",
    "    data = train_data if split == 'train' else val_data\n",
    "    ix = torch.randint(len(data) - block_size, (batch_size,))\n",
    "    x = torch.stack([data[i:i+block_size] for i in ix])\n",
    "    y = torch.stack([data[i+1:i+block_size+1, 0] for i in ix])\n",
    "    return x, y\n",
    "\n",
    "@torch.no_grad()\n",
    "def estimate_loss():\n",
    "    out = {}\n",
    "    model.eval()\n",
    "    for split in ['train', 'val']:\n",
    "        losses = torch.zeros(eval_iters)\n",
    "        for k in range(eval_iters):\n",
    "            X, Y = get_batch(split)\n",
    "            _, loss = model(X, Y)\n",
    "            losses[k] = loss.item()\n",
    "        out[split] = losses.mean()\n",
    "    model.train()\n",
    "    return out"
   ]
  },
  {
   "cell_type": "code",
   "execution_count": null,
   "metadata": {},
   "outputs": [],
   "source": [
    "model_load_path = Path('../data/model/midi_transformer_pos_5.tar')\n",
    "model_save_path = Path('../data/model/midi_transformer_pos_5.tar')\n",
    "\n",
    "average_log_losses = {\n",
    "    \"train\" : [],\n",
    "    \"val\" : []\n",
    "}\n",
    "\n",
    "def save_checkpoint(iter):\n",
    "    losses = estimate_loss()\n",
    "    train_loss = losses['train']\n",
    "    val_loss = losses['val']\n",
    "    average_log_losses['train'].append(train_loss.log10().item())\n",
    "    average_log_losses['val'].append(val_loss.log10().item())\n",
    "    print(f'Iteration {iter}, Train Loss: {train_loss:.4f}, Val Loss: {val_loss:.4f}')\n",
    "    torch.save({\n",
    "        'iter': iter,\n",
    "        'model_state_dict': model.state_dict(),\n",
    "        'optimizer_state_dict': optimizer.state_dict(),\n",
    "        'losses': average_log_losses,\n",
    "    }, model_save_path)"
   ]
  },
  {
   "cell_type": "code",
   "execution_count": null,
   "metadata": {},
   "outputs": [
    {
     "name": "stdout",
     "output_type": "stream",
     "text": [
      "Loaded model from iteration 564000\n"
     ]
    }
   ],
   "source": [
    "eval_interval = 500\n",
    "iterations = 800000\n",
    "start_iter = 0\n",
    "\n",
    "if model_load_path.exists():\n",
    "    checkpoint = torch.load(model_load_path)\n",
    "    model.load_state_dict(checkpoint['model_state_dict'])\n",
    "    optimizer.load_state_dict(checkpoint['optimizer_state_dict'])\n",
    "    average_log_losses = checkpoint['losses']\n",
    "    iter = checkpoint['iter']\n",
    "    start_iter = iter + 1\n",
    "    print(f\"Loaded model from iteration {iter}\")\n"
   ]
  },
  {
   "cell_type": "code",
   "execution_count": null,
   "metadata": {},
   "outputs": [],
   "source": [
    "model.train()\n",
    "\n",
    "remaining_iters = iterations - start_iter\n",
    "if remaining_iters != -1:\n",
    "    for iter in range(remaining_iters):\n",
    "\n",
    "        offset_iter = iter + start_iter\n",
    "        if offset_iter % eval_interval == 0:\n",
    "            save_checkpoint(offset_iter)\n",
    "\n",
    "        # Configure minibatch\n",
    "        Xb, Yb = get_batch('train')\n",
    "\n",
    "        # Forward pass\n",
    "        logits, loss = model(Xb, Yb)\n",
    "\n",
    "        # Backward pass\n",
    "        optimizer.zero_grad(set_to_none=True)\n",
    "        loss.backward()\n",
    "        optimizer.step()\n",
    "\n",
    "    save_checkpoint(iterations)"
   ]
  },
  {
   "cell_type": "code",
   "execution_count": 21,
   "metadata": {},
   "outputs": [
    {
     "name": "stdout",
     "output_type": "stream",
     "text": [
      "Final training loss: 1.374287140035283\n"
     ]
    }
   ],
   "source": [
    "print('Final training loss:', 10 ** average_log_losses['train'][-1])"
   ]
  },
  {
   "cell_type": "code",
   "execution_count": 22,
   "metadata": {},
   "outputs": [
    {
     "name": "stdout",
     "output_type": "stream",
     "text": [
      "Final validation loss: 1.4221142612393005\n"
     ]
    }
   ],
   "source": [
    "print('Final validation loss:', 10 ** average_log_losses['val'][-1])"
   ]
  },
  {
   "cell_type": "code",
   "execution_count": 23,
   "metadata": {},
   "outputs": [
    {
     "data": {
      "text/plain": [
       "[<matplotlib.lines.Line2D at 0x7fc194f12050>]"
      ]
     },
     "execution_count": 23,
     "metadata": {},
     "output_type": "execute_result"
    },
    {
     "data": {
      "image/png": "[encoded data removed]",
      "text/plain": [
       "<Figure size 640x480 with 1 Axes>"
      ]
     },
     "metadata": {
      "image/png": {
       "height": 413,
       "width": 547
      }
     },
     "output_type": "display_data"
    }
   ],
   "source": [
    "plt.plot(average_log_losses['train'])"
   ]
  },
  {
   "cell_type": "code",
   "execution_count": 24,
   "metadata": {},
   "outputs": [
    {
     "data": {
      "text/plain": [
       "[<matplotlib.lines.Line2D at 0x7fc194e1a020>]"
      ]
     },
     "execution_count": 24,
     "metadata": {},
     "output_type": "execute_result"
    },
    {
     "data": {
      "image/png": "[encoded data removed]",
      "text/plain": [
       "<Figure size 640x480 with 1 Axes>"
      ]
     },
     "metadata": {
      "image/png": {
       "height": 413,
       "width": 547
      }
     },
     "output_type": "display_data"
    }
   ],
   "source": [
    "plt.plot(average_log_losses['val'])"
   ]
  },
  {
   "cell_type": "code",
   "execution_count": 25,
   "metadata": {},
   "outputs": [],
   "source": [
    "init_idx = torch.zeros((1,1,2), dtype=torch.long, device=device)\n",
    "generated_tokens = model.generate(init_idx, max_new_tokens=512).cpu()\n"
   ]
  },
  {
   "cell_type": "code",
   "execution_count": 26,
   "metadata": {},
   "outputs": [
    {
     "data": {
      "text/plain": [
       "torch.Size([1, 513, 2])"
      ]
     },
     "execution_count": 26,
     "metadata": {},
     "output_type": "execute_result"
    }
   ],
   "source": [
    "generated_tokens.shape"
   ]
  },
  {
   "cell_type": "code",
   "execution_count": 27,
   "metadata": {},
   "outputs": [
    {
     "data": {
      "text/plain": [
       "'<|sos|> n57 d4 <|sep|> d4 n60 d4 n55 d4 <|sep|> d8 n62 d4 n57 d4 n55 d4 <|sep|> d8 n67 d12 n57 d12 n57 d12 n57 d12 n57 d4 <|sep|> d4 n63 d4 n55 d4 <|sep|> d8 n50 d4 <|sep|> d8 n55 d4 <|sep|> d8 n59 d4 <|sep|> d4 n55 d12 n55 d4 <|sep|> d12 n62 d4 n57 d2 <|sep|> d4 n62 d4 <|sep|> d8 n62 d4 n61 d4 <|sep|> d8 n62 d12 n55 d12 <|sep|> d12 n64 d8 n55 d4 <|sep|> d4 n62 d12 n58 d8 n57 d4 <|sep|> d8 n62 d16 n52 d20 <|sep|> d8 n70 d12 n64 d12 <|sep|> d12 n64 d8 n57 d4 <|sep|> d8 n61 d8 <|sep|> d8 n64 d8 n60 d8 n57 d8 <|sep|> d8 n57 d8 <|sep|> d8 n61 d8 n57 d8 <|sep|> d4 n53 d4 <|sep|> d4 n57 d4 <|sep|> d4 n57 d4 <|sep|> d8 n62 d12 n57 d12 n57 d12 n54 d12 <|sep|> d12 n57 d8 n52 d8 <|sep|> d8 n58 d8 <|sep|> d4 n62 d8 n57 d8 n53 d8 <|sep|> d8 n58 d12 n57 d12 n54 d12 <|sep|> d12 n57 d8 n53 d8 <|sep|> d8 n53 d8 <|sep|> d8 n62 d8 <|sep|> d8 n53 d8 <|sep|> d8 n62 d8 n57 d8 n53 d8 n48 d8 <|sep|> d8 n62 d8 n57 d8 n50 d8 <|sep|> d8 n50 d8 <|sep|> d8 n62 d8 n57 d8 <|sep|> d8 n69 d8 n57 d8 n53 d8 <|sep|> d8 n55 d8 <|sep|> d8 n57 d8 n57 d8 n57 d8 <|sep|> d8 n57 d8 <|sep|> d8 n50 d8 <|sep|> d8 n71 d8 n62 d8 <|sep|> d8 n69 d16 n64 d8 n57 d8 n48 d8 <|sep|> d8 n60 d8 <|sep|> d8 n62 d8 n57 d8 n55 d8 <|sep|> d8 n62 d8 n59 d8 <|sep|> d8 n57 d8 <|sep|> d8 n59 d8 <|sep|> d8 n66 d8 n62 d8 n59 d8 <|sep|> d8 n50 d8 <|sep|> d8 n62 d8 n57 d8 <|sep|> d8 n67 d8 <|sep|> d8 n64 d8 <|sep|> d8 n64 d8 n62 d8 n57 d8 <|sep|> d8 n62 d8 <|sep|> d8 n62 d8 n54 d8 <|sep|> d8 n54 d8 n50 d8 <|sep|> d8 n57 d4 <|sep|> d8 n64 d8 n55 d8 <|sep|> d8 n62 d8 <|sep|> d8 n62 d4 <|sep|> d8 n62 d8 <|sep|> d8 n62 d8 <|sep|> d8 n62 d8 <|sep|> d8 n69 d8 n62 d8 n57 d4 <|sep|> d8 n76 d8 <|sep|> d8 n68 d8 <|sep|> d8 n62 d8 <|sep|> d8 n64 d4 n59 d4 n45 d8 <|sep|> d8 n71 d8 n64 d4 <|sep|> d8 n67 d8 n64 d8 n64 d8 n55 d8 <|sep|> d8 n60 d8 <|sep|> d8 n64 d8 n52 d8 <|sep|> d4 n64 d8 <|sep|> d8 n64 d4 <|sep|> d4 n64 d8 n56 d8 <|sep|> d8 n64 d4 <|sep|> d8 n64 d2 <|sep|> d8 n64 d8 <|sep|> d8 n64 d8 n62 d8 <|sep|> d8 n64 d8 <|sep|> d8 n64 d8 n64 d8 n55 d8 <|sep|> d8 n60 d8 <|sep|> d8 n64 d8 n57 d8 <|sep|> d8 n64 d8 <|sep|> d8 n61 d8 n57 d8 <|sep|> d8 n62 d8 <|sep|> d8 n64 d8 n60 d8 <|sep|> d8 n64 d8 <|sep|> d8 n67 d8 n64 d8 n62 d8'"
      ]
     },
     "execution_count": 27,
     "metadata": {},
     "output_type": "execute_result"
    }
   ],
   "source": [
    "score = generated_tokens[0, :, 0]\n",
    "vocab.to_tokens(score)"
   ]
  },
  {
   "cell_type": "code",
   "execution_count": 28,
   "metadata": {},
   "outputs": [
    {
     "data": {
      "image/png": "[encoded data removed]",
      "text/plain": [
       "<Figure size 1000x600 with 1 Axes>"
      ]
     },
     "metadata": {
      "image/png": {
       "height": 540,
       "width": 812
      }
     },
     "output_type": "display_data"
    }
   ],
   "source": [
    "generated_stream = idx_to_stream_enc(np.array(score), vocab)\n",
    "generated_stream.plot()"
   ]
  },
  {
   "cell_type": "code",
   "execution_count": 29,
   "metadata": {},
   "outputs": [
    {
     "data": {
      "text/html": [
       "\n",
       "        <div id=\"midiPlayerDiv757\"></div>\n",
       "        <link rel=\"stylesheet\" href=\"https://cuthbertLab.github.io/music21j/css/m21.css\">\n",
       "        \n",
       "        <script\n",
       "        src=\"https://cdnjs.cloudflare.com/ajax/libs/require.js/2.3.6/require.min.js\"\n",
       "        ></script>\n",
       "    \n",
       "        <script>\n",
       "        function midiPlayerDiv757_play() {\n",
       "            const rq = require.config({\n",
       "                paths: {\n",
       "                    'music21': 'https://cuthbertLab.github.io/music21j/releases/music21.debug',\n",
       "                }\n",
       "            });\n",
       "            rq(['music21'], function(music21) {\n",
       "                mp = new music21.miditools.MidiPlayer();\n",
       "                mp.addPlayer(\"#midiPlayerDiv757\");\n",
       "                mp.base64Load(\"data:audio/midi;base64,TVRoZAAAAAYAAQACJ2BNVHJrAAAAGgD/UQMHoSAA/1kCAAAA/1gEBAIYCM5g/y8ATVRyawAABWwA/wMFUGlhbm8AwAAA4ABAAMAAzmCQOVqnMIA5AACQN1oAkDxapzCANwAAgDwApzCQN1oAkDlaAJA+WqcwgDcAAIA5AACAPgCnMJA5WgCQQ1qnMIA5AACQN1oAkD9apzCANwAAgD8ApzCAQwAAkDJapzCAMgCnMJA3WqcwgDcApzCQO1qnMIA7AACQN1qnMIA3AM5gkDlaAJA+WpNYgDkAk1iAPgAAkD5apzCAPgCnMJA9WgCQPlqnMIA9AACAPgCnMJA3WgCQPlr2EIA3AACAPgAAkDdaAJBAWqcwgDcAAJA5WgCQOloAkD5apzCAQAAAgDkApzCAOgAAkD5aAJA0WqcwgD4ApzCQQFoAkEZazmCAPgCnMIA0AACAQAAAgEYAAJA5WgCQQFqnMIA5AKcwgEAAAJA9Ws5ggD0AAJA5WgCQPFoAkEBazmCAOQAAgDwAAIBAAACQOVrOYIA5AACQOVoAkD1apzCQNVqnMIA5AACAPQAAgDUAAJA5WqcwgDkAAJA5WqcwgDkApzCQNloAkDlaAJA+WvYQgDYAAIA5AACAPgAAkDRaAJA5Ws5ggDQAAIA5AACQOlqnMJA1WgCQOVoAkD5apzCAOgCnMIA1AACAOQAAgD4AAJA2WgCQOVoAkDpa9hCANgAAgDkAAIA6AACQNVoAkDlazmCANQAAgDkAAJA1Ws5ggDUAAJA+Ws5ggD4AAJA1Ws5ggDUAAJAwWgCQNVoAkDlaAJA+Ws5ggDAAAIA1AACAOQAAgD4AAJAyWgCQOVoAkD5azmCAMgAAgDkAAIA+AACQMlrOYIAyAACQOVoAkD5azmCAOQAAgD4AAJA1WgCQOVoAkEVazmCANQAAgDkAAIBFAACQN1rOYIA3AACQOVrOYIA5AACQOVrOYIA5AACQMlrOYIAyAACQPloAkEdazmCAPgAAgEcAAJAwWgCQOVoAkEBaAJBFWs5ggDAAAIA5AACAQAAAkDxazmCARQAAgDwAAJA3WgCQOVoAkD5azmCANwAAgDkAAIA+AACQO1oAkD5azmCAOwAAgD4AAJA5Ws5ggDkAAJA7Ws5ggDsAAJA7WgCQPloAkEJazmCAOwAAgD4AAIBCAACQMlrOYIAyAACQOVoAkD5azmCAOQAAgD4AAJBDWs5ggEMAAJBAWs5ggEAAAJA5WgCQPloAkEBazmCAOQAAgD4AAIBAAACQPlrOYIA+AACQNloAkD5azmCANgAAgD4AAJAyWgCQNlrOYIAyAACANgAAkDlapzCAOQCnMJA3WgCQQFrOYIA3AACAQAAAkD5azmCAPgAAkD5apzCAPgCnMJA+Ws5ggD4AAJA+Ws5ggD4AAJA+Ws5ggD4AAJA5WgCQPloAkEVapzCAOQCnMIA+AACARQAAkExazmCATAAAkERazmCARAAAkD5azmCAPgAAkDtaAJBAWgCQLVqnMIA7AACAQACnMIAtAACQQFoAkEdapzCAQACnMIBHAACQN1oAkEBaAJBDWs5ggDcAAIBAAACAQwAAkDxazmCAPAAAkDRaAJBAWqcwkEBapzCANAAAgEAApzCAQAAAkEBapzCAQAAAkDhaAJBAWs5ggDgAAIBAAACQQFqnMIBAAKcwkEBak1iAQAC7CJBAWs5ggEAAAJA+WgCQQFrOYIA+AACAQAAAkEBazmCAQAAAkDdaAJBAWs5ggDcAAIBAAACQPFrOYIA8AACQOVoAkEBazmCAOQAAgEAAAJBAWs5ggEAAAJA5WgCQPVrOYIA5AACAPQAAkD5azmCAPgAAkDxaAJBAWs5ggDwAAIBAAACQQFrOYIBAAACQPloAkEBaAJBDWs5ggD4AAIBAAACAQwDOYP8vAA==\");\n",
       "            });\n",
       "        }\n",
       "        if (typeof require === 'undefined') {\n",
       "            setTimeout(midiPlayerDiv757_play, 2000);\n",
       "        } else {\n",
       "            midiPlayerDiv757_play();\n",
       "        }\n",
       "        </script>"
      ],
      "text/plain": [
       "<IPython.core.display.HTML object>"
      ]
     },
     "metadata": {},
     "output_type": "display_data"
    }
   ],
   "source": [
    "generated_stream.show('midi')"
   ]
  }
 ],
 "metadata": {
  "kernelspec": {
   "display_name": "Python 3 (ipykernel)",
   "language": "python",
   "name": "python3"
  },
  "language_info": {
   "codemirror_mode": {
    "name": "ipython",
    "version": 3
   },
   "file_extension": ".py",
   "mimetype": "text/x-python",
   "name": "python",
   "nbconvert_exporter": "python",
   "pygments_lexer": "ipython3",
   "version": "3.10.14"
  }
 },
 "nbformat": 4,
 "nbformat_minor": 2
}

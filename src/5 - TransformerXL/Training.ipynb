{
 "cells": [
  {
   "cell_type": "code",
   "execution_count": 1,
   "metadata": {},
   "outputs": [
    {
     "name": "stdout",
     "output_type": "stream",
     "text": [
      "Using cuda.\n"
     ]
    }
   ],
   "source": [
    "import os\n",
    "os.chdir(r'5 - TransformerXL')\n",
    "import torch\n",
    "import torch.nn.functional as F\n",
    "import torch.optim as optim\n",
    "import numpy as np\n",
    "import matplotlib.pyplot as plt\n",
    "import random\n",
    "from torch.utils.data import Dataset, DataLoader, Sampler\n",
    "from torch.utils.tensorboard import SummaryWriter\n",
    "from itertools import chain, cycle, groupby\n",
    "from functools import reduce\n",
    "from typing import Collection, List\n",
    "from pathlib import Path\n",
    "import music21 as m21\n",
    "musescore_path = '/usr/bin/mscore'\n",
    "m21.environment.set('musicxmlPath', musescore_path)\n",
    "m21.environment.set('musescoreDirectPNGPath', musescore_path)\n",
    "from midi_encoding import *\n",
    "from einops import rearrange, repeat, pack, unpack, einsum\n",
    "import faiss\n",
    "import time\n",
    "import math\n",
    "\n",
    "device = (\n",
    "    \"cuda\"\n",
    "    if torch.cuda.is_available()\n",
    "    else \"mps\"\n",
    "    if torch.backends.mps.is_available()\n",
    "    else \"cpu\"\n",
    ")\n",
    "\n",
    "print(f\"Using {device}.\")"
   ]
  },
  {
   "cell_type": "code",
   "execution_count": 2,
   "metadata": {},
   "outputs": [
    {
     "name": "stdout",
     "output_type": "stream",
     "text": [
      "Device: NVIDIA GeForce RTX 4090.\n"
     ]
    }
   ],
   "source": [
    "if device == \"cuda\":\n",
    "    print(f\"Device: {torch.cuda.get_device_name()}.\")"
   ]
  },
  {
   "cell_type": "code",
   "execution_count": 3,
   "metadata": {},
   "outputs": [
    {
     "name": "stdout",
     "output_type": "stream",
     "text": [
      "Tue Sep  3 08:21:31 2024       \n",
      "+-----------------------------------------------------------------------------------------+\n",
      "| NVIDIA-SMI 560.35.02              Driver Version: 560.94         CUDA Version: 12.6     |\n",
      "|-----------------------------------------+------------------------+----------------------+\n",
      "| GPU  Name                 Persistence-M | Bus-Id          Disp.A | Volatile Uncorr. ECC |\n",
      "| Fan  Temp   Perf          Pwr:Usage/Cap |           Memory-Usage | GPU-Util  Compute M. |\n",
      "|                                         |                        |               MIG M. |\n",
      "|=========================================+========================+======================|\n",
      "|   0  NVIDIA GeForce RTX 4090        On  |   00000000:01:00.0  On |                  Off |\n",
      "|  0%   31C    P8              6W /  450W |    1907MiB /  24564MiB |      4%      Default |\n",
      "|                                         |                        |                  N/A |\n",
      "+-----------------------------------------+------------------------+----------------------+\n",
      "                                                                                         \n",
      "+-----------------------------------------------------------------------------------------+\n",
      "| Processes:                                                                              |\n",
      "|  GPU   GI   CI        PID   Type   Process name                              GPU Memory |\n",
      "|        ID   ID                                                               Usage      |\n",
      "|=========================================================================================|\n",
      "|    0   N/A  N/A        29      G   /Xwayland                                   N/A      |\n",
      "|    0   N/A  N/A        37      G   /Xwayland                                   N/A      |\n",
      "|    0   N/A  N/A        37      G   /Xwayland                                   N/A      |\n",
      "+-----------------------------------------------------------------------------------------+\n"
     ]
    }
   ],
   "source": [
    "!nvidia-smi"
   ]
  },
  {
   "cell_type": "code",
   "execution_count": 4,
   "metadata": {},
   "outputs": [
    {
     "data": {
      "text/plain": [
       "392"
      ]
     },
     "execution_count": 4,
     "metadata": {},
     "output_type": "execute_result"
    }
   ],
   "source": [
    "vocab = MusicVocab()\n",
    "vocab.size"
   ]
  },
  {
   "cell_type": "code",
   "execution_count": 5,
   "metadata": {},
   "outputs": [],
   "source": [
    "class ContiguousBatchSampler(Sampler):\n",
    "    def __init__(self, dataset):\n",
    "        self.dataset = dataset\n",
    "        self.batches = []\n",
    "    \n",
    "    def precompute_indices(self, batch_size):\n",
    "        \n",
    "        file_count = len(self.dataset.file_lengths)\n",
    "        if file_count < batch_size:\n",
    "            raise ValueError('The number of files must be greater than or equal to the batch size, as files must be spread across a single batch dimension.')\n",
    "        \n",
    "        file_idxs = list(range(batch_size))\n",
    "        file_positions = [0] * batch_size\n",
    "\n",
    "        while True:\n",
    "            batch = []\n",
    "            for batch_idx in range(batch_size):\n",
    "                \n",
    "                current_file_idx = file_idxs[batch_idx]\n",
    "                current_file_position = file_positions[batch_idx]\n",
    "                current_file_length = self.dataset.file_lengths[current_file_idx]\n",
    "                \n",
    "                # Check if the current file is exhausted\n",
    "                if current_file_position == current_file_length:\n",
    "                    # Find the next file that hasn't been started\n",
    "                    files_exhausted = True\n",
    "                    min_file_index = max(file_idxs) + 1\n",
    "                    for next_file_idx in range(min_file_index, file_count):\n",
    "                        if self.dataset.file_lengths[next_file_idx] > 0:\n",
    "                            current_file_idx = next_file_idx\n",
    "                            current_file_position = 0\n",
    "                            file_idxs[batch_idx] = current_file_idx\n",
    "                            file_positions[batch_idx] = current_file_position\n",
    "                            files_exhausted = False\n",
    "                            break\n",
    "                    \n",
    "                    if files_exhausted:\n",
    "                        return\n",
    "\n",
    "                batch.append([current_file_idx, current_file_position])                \n",
    "                file_positions[batch_idx] += 1\n",
    "\n",
    "            self.batches.append(batch)\n",
    "\n",
    "    def __iter__(self):\n",
    "        for batch in cycle(self.batches):\n",
    "            yield batch\n",
    "\n",
    "    def __len__(self):\n",
    "        return len(self.batches)"
   ]
  },
  {
   "cell_type": "code",
   "execution_count": 6,
   "metadata": {},
   "outputs": [],
   "source": [
    "class MidiDataset(Dataset):\n",
    "    def __init__(self, file_names, midi_path, score_path, sample_length, max_file_length):\n",
    "        self.file_names = file_names\n",
    "        self.data = None\n",
    "        self.file_lengths = None\n",
    "        self.total_samples = 0\n",
    "        self.sample_length = sample_length\n",
    "        self.midi_path = midi_path\n",
    "        self.score_path = score_path\n",
    "        self.max_file_length = max_file_length\n",
    "\n",
    "    @torch.no_grad()\n",
    "    def load_samples(self):\n",
    "        data = []\n",
    "        file_lengths = []\n",
    "        for file_name in self.file_names:\n",
    "\n",
    "            midi_file_path = Path(self.midi_path, file_name)\n",
    "            score_file_path = Path(self.score_path, file_name)\n",
    "            encoded_file_path = Path(self.score_path, f'{file_name}.npy')\n",
    "\n",
    "            if (encoded_file_path.exists()):\n",
    "                # print(f'Loading {score_file_path}')\n",
    "                idx_score = np.load(encoded_file_path, allow_pickle=True)\n",
    "            else:\n",
    "                # print(f'Processing {midi_file_path}')\n",
    "                idx_score = midifile_to_idx_score(midi_file_path, vocab, True)\n",
    "                if (idx_score is None): # Skip files that could not be processed\n",
    "                    # print(f'Could not process {midi_file_path}')\n",
    "                    continue\n",
    "                np.save(score_file_path, idx_score)\n",
    "\n",
    "            samples = []\n",
    "            \n",
    "            # Split idx_score into blocks of size sample_length, padding the last blocks if necessary\n",
    "            for i in range(0, len(idx_score), self.sample_length):\n",
    "                block = idx_score[i:i + self.sample_length]\n",
    "                if len(block) < self.sample_length:\n",
    "                    last_tidx = block[-1, 1]\n",
    "                    pad_tidx = last_tidx + 1\n",
    "                    padding_count = self.sample_length - len(block)\n",
    "                    padding = np.stack([[vocab.pad_idx, pad_tidx]] * padding_count)\n",
    "                    block = np.concatenate([block, padding])\n",
    "\n",
    "                samples.append(block)\n",
    "\n",
    "            # Skip files that are empty or too long\n",
    "            if len(samples) == 0 or len(samples) > self.max_file_length:\n",
    "                continue\n",
    "            \n",
    "            data.append(torch.tensor(np.array(samples), device=device))\n",
    "            file_lengths.append(len(samples))\n",
    "        \n",
    "        self.total_samples = sum(file_lengths)\n",
    "        self.data = torch.nested.nested_tensor(data, device=device)\n",
    "        self.file_lengths = torch.tensor(file_lengths, device=device)\n",
    "    \n",
    "    def __len__(self):\n",
    "        return self.total_samples\n",
    "    \n",
    "    def __getitem__(self, idx):\n",
    "        file_idx = idx[0]\n",
    "        sample_idx = idx[1]\n",
    "        sample = self.data[file_idx, sample_idx] # = self.data[idx]\n",
    "        return file_idx, sample"
   ]
  },
  {
   "cell_type": "code",
   "execution_count": 7,
   "metadata": {},
   "outputs": [
    {
     "data": {
      "text/plain": [
       "3839"
      ]
     },
     "execution_count": 7,
     "metadata": {},
     "output_type": "execute_result"
    }
   ],
   "source": [
    "vg_large_path = Path('../data/midi/vg_large')\n",
    "vg_large_file_names = [f for f in os.listdir(vg_large_path) if os.path.isfile(os.path.join(vg_large_path, f))]\n",
    "\n",
    "# Ensure files are shuffled directly after assignment.\n",
    "# If they are shuffled in a different cell, and that cell is run multiple times, the order will change as we are shuffling the already-shuffled list.\n",
    "random.seed(42)\n",
    "random.shuffle(vg_large_file_names)\n",
    "\n",
    "len(vg_large_file_names)"
   ]
  },
  {
   "cell_type": "markdown",
   "metadata": {},
   "source": [
    "I think we will have to go with splitting on filenames again this time, even though this doesn't equate to the same split in volume of training data (as not all tracks are the same length).\n",
    "\n",
    "We avoided this with the vanilla transformer by appending all files into one mega-performance and splitting that, but here we need to have files assigned and locked to a given batch dimension."
   ]
  },
  {
   "cell_type": "code",
   "execution_count": 8,
   "metadata": {},
   "outputs": [
    {
     "name": "stdout",
     "output_type": "stream",
     "text": [
      "Train file names: 3071, Valid file names: 384, Test file names: 384\n",
      "Loading train samples\n"
     ]
    },
    {
     "name": "stderr",
     "output_type": "stream",
     "text": [
      "/opt/conda/lib/python3.10/site-packages/torch/nested/__init__.py:166: UserWarning: The PyTorch API of nested tensors is in prototype stage and will change in the near future. (Triggered internally at /opt/conda/conda-bld/pytorch_1716905979055/work/aten/src/ATen/NestedTensorImpl.cpp:178.)\n",
      "  return _nested.nested_tensor(\n"
     ]
    },
    {
     "name": "stdout",
     "output_type": "stream",
     "text": [
      "Loading valid samples\n",
      "Loading test samples\n"
     ]
    }
   ],
   "source": [
    "sample_length = 256\n",
    "max_file_length = 32\n",
    "\n",
    "midi_path = Path('../data/midi/vg_large')\n",
    "score_path = Path(f'../data/numpy/vg_large/all')\n",
    "\n",
    "n1 = int(0.8 * len(vg_large_file_names))\n",
    "n2 = int(0.9 * len(vg_large_file_names))\n",
    "train_filenames = vg_large_file_names[:n1]\n",
    "valid_filenames = vg_large_file_names[n1:n2]\n",
    "test_filenames = vg_large_file_names[n2:]\n",
    "\n",
    "print(f'Train file names: {len(train_filenames)}, Valid file names: {len(valid_filenames)}, Test file names: {len(test_filenames)}')\n",
    "\n",
    "train_dataset = MidiDataset(train_filenames, midi_path, score_path, sample_length, max_file_length)\n",
    "valid_dataset = MidiDataset(valid_filenames, midi_path, score_path, sample_length, max_file_length)\n",
    "test_dataset = MidiDataset(test_filenames, midi_path, score_path, sample_length, max_file_length)\n",
    "\n",
    "print(f'Loading train samples')\n",
    "train_dataset.load_samples()\n",
    "\n",
    "print(f'Loading valid samples')\n",
    "valid_dataset.load_samples()\n",
    "\n",
    "print(f'Loading test samples')\n",
    "test_dataset.load_samples()"
   ]
  },
  {
   "cell_type": "code",
   "execution_count": 9,
   "metadata": {},
   "outputs": [
    {
     "name": "stdout",
     "output_type": "stream",
     "text": [
      "Train files: 2198, Valid files: 275, Test files: 282\n"
     ]
    }
   ],
   "source": [
    "print(f'Train files: {len(train_dataset.file_lengths)}, Valid files: {len(valid_dataset.file_lengths)}, Test files: {len(test_dataset.file_lengths)}')"
   ]
  },
  {
   "cell_type": "code",
   "execution_count": 10,
   "metadata": {},
   "outputs": [
    {
     "name": "stdout",
     "output_type": "stream",
     "text": [
      "Precomputing indices\n"
     ]
    }
   ],
   "source": [
    "# Batch size can be changed for a second phase of training quite quickly, it only requires re-computing the indices, not re-loading the data.\n",
    "batch_size = 32\n",
    "train_sampler = ContiguousBatchSampler(train_dataset)\n",
    "valid_sampler = ContiguousBatchSampler(valid_dataset)\n",
    "test_sampler = ContiguousBatchSampler(test_dataset)\n",
    "\n",
    "print(f'Precomputing indices')\n",
    "train_sampler.precompute_indices(batch_size)\n",
    "valid_sampler.precompute_indices(batch_size)\n",
    "test_sampler.precompute_indices(batch_size)\n",
    "\n",
    "train_data_loader = DataLoader(train_dataset, batch_sampler=train_sampler)\n",
    "valid_data_loader = DataLoader(valid_dataset, batch_sampler=valid_sampler)\n",
    "test_data_loader = DataLoader(test_dataset, batch_sampler=test_sampler)"
   ]
  },
  {
   "cell_type": "code",
   "execution_count": 11,
   "metadata": {},
   "outputs": [],
   "source": [
    "import faiss.contrib.torch_utils\n",
    "\n",
    "cache_size_gb = 8\n",
    "resources = faiss.StandardGpuResources() \n",
    "resources.setTempMemory(cache_size_gb * 1024 * 1024 * 1024)"
   ]
  },
  {
   "cell_type": "code",
   "execution_count": 12,
   "metadata": {},
   "outputs": [],
   "source": [
    "class KNN():\n",
    "\n",
    "    @torch.no_grad()\n",
    "    def __init__(self, dim, max_memories, db_filepath):\n",
    "        self.dim = dim\n",
    "        self.max_memories = max_memories\n",
    "        self.shape = (max_memories, 2, dim)\n",
    "        self.db_offset = 0\n",
    "        self.db = torch.zeros(self.shape, dtype = torch.float32, device=device) # np.memmap(db_filepath, mode = 'w+', dtype = np.float32, shape = self.shape)\n",
    "        self.index = faiss.GpuIndexFlatL2(resources, dim)\n",
    "\n",
    "    @torch.no_grad()\n",
    "    def add_to_db(self, new_data):\n",
    "        new_data_len = new_data.shape[0] # (t)\n",
    "\n",
    "        if new_data_len > self.max_memories:\n",
    "            raise ValueError('Batch size exceeds memory limit.')\n",
    "\n",
    "        ids = torch.arange(new_data_len) + self.db_offset\n",
    "\n",
    "        self.db[ids] = new_data.detach()#.cpu().numpy()\n",
    "        self.db_offset += new_data_len\n",
    "        # Write to file\n",
    "        # self.db.flush()\n",
    "\n",
    "    @torch.no_grad()\n",
    "    def add(self, new_data):\n",
    "        # new_data = (t, 2, c)\n",
    "        self.add_to_db(new_data)\n",
    "        keys, vals = new_data.unbind(dim=-2) # Only keys are used in knn index\n",
    "        self.index.add(keys.detach().contiguous()) # (t, c)\n",
    "\n",
    "    @torch.no_grad()\n",
    "    def search(self, query, top_k):   \n",
    "             \n",
    "        T, C = query.shape\n",
    "\n",
    "        # If we have enough memories, search and retrieve, otherwise return zeros\",\n",
    "        if self.index.ntotal >= top_k:\n",
    "            # The tooltip says the args are (n, x, k) but that's the CPP api, it's actually (x, k) in Python (n is the first dim of x anyway so can be inferred).\n",
    "            distances, indices = self.index.search(query.detach(), top_k)\n",
    "            kvs = self.db[indices]\n",
    "        else:\n",
    "            kvs = torch.zeros((T, top_k, 2, C), device=device)\n",
    "\n",
    "        return kvs\n",
    "\n",
    "    @torch.no_grad()\n",
    "    def clear(self):\n",
    "        self.index.reset()\n",
    "        # self.db[:] = 0\n",
    "        self.db = torch.zeros(self.shape, dtype = torch.float32, device=device)\n",
    "        self.db_offset = 0\n",
    "        # print('Flushing DB')\n",
    "        # self.db.flush() # Is this necessary?\n",
    "        # print('Db Flushed')\n"
   ]
  },
  {
   "cell_type": "code",
   "execution_count": 13,
   "metadata": {},
   "outputs": [],
   "source": [
    "class XLRelativePosition(torch.nn.Module):\n",
    "  def __init__(\n",
    "      self,\n",
    "      n_buckets,\n",
    "      max_distance,\n",
    "      n_head,\n",
    "      scaling_factor):\n",
    "    \n",
    "    super().__init__()\n",
    "    self.scale = scaling_factor\n",
    "    self.num_buckets = n_buckets\n",
    "    self.max_distance = max_distance\n",
    "    self.relative_attention_embedding = torch.nn.Embedding(n_buckets, n_head)\n",
    "\n",
    "  def relative_position_bucket(self, relative_position_matrix):\n",
    "    inv_rel_pos = -relative_position_matrix\n",
    "    masked_rel_pos = torch.max(inv_rel_pos, torch.zeros_like(inv_rel_pos, device=device))\n",
    "\n",
    "    max_exact = self.num_buckets // 2\n",
    "\n",
    "    is_small = masked_rel_pos < max_exact\n",
    "    val_if_large = max_exact + (torch.log(masked_rel_pos.float() / max_exact) / math.log(self.max_distance / max_exact) * (self.num_buckets - max_exact)).long()\n",
    "\n",
    "    # Clip the values to the number of buckets - 1\n",
    "    val_if_large = torch.min(val_if_large, torch.full_like(val_if_large, self.num_buckets - 1, device=device))\n",
    "\n",
    "    return torch.where(is_small, masked_rel_pos, val_if_large)\n",
    "\n",
    "  def forward(self, block_size):\n",
    "    block_pos = torch.arange(block_size, dtype=torch.long, device=device)\n",
    "    context_pos = torch.arange(-block_size, block_size, dtype=torch.long, device=device) # XL memory, context is twice block size, and current position starts in the middle.\n",
    "    block_rel_pos = rearrange(block_pos, 'i -> i 1')\n",
    "    context_rel_pos = rearrange(context_pos, 'j -> 1 j')\n",
    "    rel_pos = context_rel_pos - block_rel_pos\n",
    "\n",
    "    position_bucket_indices = self.relative_position_bucket(rel_pos)\n",
    "\n",
    "    rp_values = self.relative_attention_embedding(position_bucket_indices)\n",
    "    rp_values = rearrange(rp_values, 'i j h -> () h i j')\n",
    "    \n",
    "    return rp_values * self.scale"
   ]
  },
  {
   "cell_type": "code",
   "execution_count": 14,
   "metadata": {},
   "outputs": [],
   "source": [
    "class XLAttention(torch.nn.Module):\n",
    "\n",
    "    def __init__(self, n_embed, n_head, dropout):\n",
    "        super().__init__()\n",
    "        self.n_embed = n_embed\n",
    "        self.n_head = n_head\n",
    "        self.head_size = n_embed // n_head\n",
    "        head_total_size = n_head * self.head_size\n",
    "        self.key = torch.nn.Linear(n_embed, head_total_size, bias=False)\n",
    "        self.query = torch.nn.Linear(n_embed, head_total_size, bias=False)\n",
    "        self.value = torch.nn.Linear(n_embed, head_total_size, bias=False)\n",
    "        self.project = torch.nn.Linear(head_total_size, n_embed)\n",
    "        self.dropout = torch.nn.Dropout(dropout)\n",
    "\n",
    "    def forward(self, relative_positions, x, xl_memory):\n",
    "\n",
    "        B, T, C = x.shape\n",
    "\n",
    "        q = self.query(x)\n",
    "        k = self.key(x)\n",
    "        v = self.value(x)\n",
    "\n",
    "        # Chris's implementation does `queries = queries * (self.head_size ** -0.5)` here but I don't think it is correct.\n",
    "\n",
    "        k_xl, v_xl = xl_memory.unbind(dim = -2) # assume stacked\n",
    "        k = torch.cat((k_xl, k), dim = -2) # prepend XL memory\n",
    "        v = torch.cat((v_xl, v), dim = -2) # prepend XL memory\n",
    "\n",
    "        ### LOCAL ATTENTION\n",
    "\n",
    "        # Split heads\n",
    "        q = rearrange(q, 'b t (h d) -> b h t d', h = self.n_head)\n",
    "        k = rearrange(k, 'b t (h d) -> b h t d', h = self.n_head)\n",
    "        v = rearrange(v, 'b t (h d) -> b h t d', h = self.n_head)\n",
    "\n",
    "        w = einsum(q, k, 'b h i d, b h j d -> b h i j')\n",
    "        i, j = w.shape[-2:]\n",
    "\n",
    "        # Add relative positional encoding and scale\n",
    "        w = w + relative_positions[..., -i:, -j:]\n",
    "        w = w * (self.head_size ** -0.5)\n",
    "        \n",
    "        mask = torch.ones((i,j), dtype = torch.bool, device=device).triu(j-i+1) # Can't cache this as its shape depends on whether we have XL memory or not.\n",
    "        w = w.masked_fill(mask, float('-inf'))\n",
    "\n",
    "        self.dropout(w)\n",
    "        w = F.softmax(w, dim=-1)\n",
    "\n",
    "        weighted_values = w@v # b h t d\n",
    "        # Concat heads\n",
    "        weighted_values = rearrange(weighted_values, 'b h t d -> b t (h d)')\n",
    "        \n",
    "        out = self.project(weighted_values)\n",
    "\n",
    "        # new XL memories\n",
    "\n",
    "        # Concatenate key and value heads\n",
    "        k = rearrange(k, 'b h t d -> b t (h d)', h = self.n_head)\n",
    "        v = rearrange(v, 'b h t d -> b t (h d)', h = self.n_head)\n",
    "        current_kv = torch.stack((k, v), dim=-2) # b t 2 (h d)\n",
    "\n",
    "        new_xl_memory = current_kv[:, -T:]\n",
    "\n",
    "        return self.dropout(out), new_xl_memory"
   ]
  },
  {
   "cell_type": "code",
   "execution_count": 15,
   "metadata": {},
   "outputs": [],
   "source": [
    "class KNN_XLAttention(torch.nn.Module):\n",
    "\n",
    "    def __init__(self, db_filepath, sample_length, max_file_length, top_k, n_embed, n_head, dropout):\n",
    "        super().__init__()\n",
    "        self.n_embed = n_embed\n",
    "        self.top_k = top_k\n",
    "        self.n_head = n_head\n",
    "        head_size = n_embed // n_head\n",
    "        self.scale_factor = head_size ** -0.5\n",
    "        self.key = torch.nn.Linear(n_embed, n_embed, bias=False)\n",
    "        self.query = torch.nn.Linear(n_embed, n_embed, bias=False)\n",
    "        self.value = torch.nn.Linear(n_embed, n_embed, bias=False)\n",
    "        self.project = torch.nn.Linear(n_embed, n_embed)\n",
    "        self.dropout = torch.nn.Dropout(dropout)\n",
    "        self.db_filepath = db_filepath\n",
    "\n",
    "        # Memory per batch dim, e.g. 32 sequences at 256 per sequence is 8192 memories per batch dim.\n",
    "        self.max_memories = max_file_length * sample_length\n",
    "        self.knn = None\n",
    "        self.current_file_idxs = None\n",
    "\n",
    "        # Could print the gate bias as it is only 1 layer of head dim (but what is a good value?)\n",
    "        self.gate_bias = torch.nn.Parameter(torch.randn(self.n_head, 1, 1))\n",
    "    \n",
    "    def clear_memory(self):\n",
    "        if self.knn != None:\n",
    "            for knn in self.knn.values():\n",
    "                knn.clear()\n",
    "        self.knn = None\n",
    "        self.current_file_idxs = None\n",
    "\n",
    "    def forward(self, batch_file_idxs, relative_positions, x, xl_memory, inference_mode=False):\n",
    "\n",
    "        B, T, C = x.shape\n",
    "\n",
    "        if self.knn is None:\n",
    "            self.knn = {i: KNN(dim=self.n_embed, max_memories=self.max_memories, db_filepath=Path(f'{self.db_filepath}/batch_dim-{i}.db')) for i in range(B)}\n",
    "\n",
    "        # Clear batch dim's knn memory if file changes\n",
    "        if self.current_file_idxs != None:\n",
    "            for i in range(B):\n",
    "                if self.current_file_idxs[i] != batch_file_idxs[i]:\n",
    "                    # print(f'Clearing knn memory for batch dim {i}')\n",
    "                    self.knn[i].clear()\n",
    "\n",
    "        self.current_file_idxs = batch_file_idxs\n",
    "\n",
    "        q = self.query(x)\n",
    "        k = self.key(x)\n",
    "        v = self.value(x)\n",
    "\n",
    "        # This helps to mitigate drift in the embeddings which can cause the historical keys to become less aligned to the current queries.\n",
    "        q = F.normalize(q, dim=-1)\n",
    "        k = F.normalize(k, dim=-1)\n",
    "\n",
    "        k_xl, v_xl = xl_memory.unbind(dim = -2) # assume stacked\n",
    "        k = torch.cat((k_xl, k), dim = -2) # prepend XL memory\n",
    "        v = torch.cat((v_xl, v), dim = -2) # prepend XL memory\n",
    "\n",
    "        ### LOCAL ATTENTION\n",
    "\n",
    "        # Split heads\n",
    "        q = rearrange(q, 'b t (h d) -> b h t d', h = self.n_head)\n",
    "        k = rearrange(k, 'b t (h d) -> b h t d', h = self.n_head)\n",
    "        v = rearrange(v, 'b t (h d) -> b h t d', h = self.n_head)\n",
    "\n",
    "        w = einsum(q, k, 'b h i d, b h j d -> b h i j')\n",
    "        i, j = w.shape[-2:]\n",
    "        \n",
    "        # Add relative positional encoding and scale\n",
    "\n",
    "        w = w + relative_positions[..., -i:, -j:]\n",
    "        w = w * self.scale_factor\n",
    "\n",
    "        mask = torch.ones((i,j), dtype = torch.bool, device=device).triu(j-i+1) # Can't cache this as its shape depends on whether we have XL memory or not.\n",
    "        w = w.masked_fill(mask, float('-inf'))\n",
    "        \n",
    "        self.dropout(w)\n",
    "        w = F.softmax(w, dim=-1)\n",
    "\n",
    "        weighted_values = w@v # b h t d\n",
    "\n",
    "        ### KNN ATTENTION\n",
    "        knn_mask = torch.tensor([self.knn[i].index.ntotal >= self.top_k for i in range(B)], dtype=torch.bool, device=device)\n",
    "\n",
    "        # Only do knn if there are at least some memories\n",
    "        if knn_mask.any():\n",
    "\n",
    "            # t1 = time.time()\n",
    "            # print (\"Begin KNN operations\")\n",
    "\n",
    "            # Convert queries to search form\n",
    "            q = rearrange(q, 'b h t d -> b t (h d)')\n",
    "\n",
    "            mem_kv = torch.stack([self.knn[i].search(q[i], top_k=self.top_k) for i in range(B)], dim = 0) # b, t, k, 2, c\n",
    "            \n",
    "            mem_k, mem_v = mem_kv.unbind(dim = -2)\n",
    "            mem_k = rearrange(mem_k, 'b t k (h d) -> b h t k d', h=self.n_head)\n",
    "            mem_v = rearrange(mem_v, 'b t k (h d) -> b h t k d', h=self.n_head)\n",
    "\n",
    "            # Convert queries to attention form\n",
    "            q = rearrange(q, 'b t (h d) -> b h t d', h = self.n_head)\n",
    "\n",
    "            # Sum over d for each combination of batch, head, time and top k to get qk affinities, and hence weights for each k. resulting in a tensor of shape (b, h, t, k).\n",
    "            mem_w = einsum(q, mem_k, 'b h t d, b h t k d -> b h t k')\n",
    "            mem_w = mem_w * self.scale_factor\n",
    "\n",
    "            self.dropout(mem_w)\n",
    "            mem_w = F.softmax(mem_w, dim=-1)\n",
    "\n",
    "            # Weighted sum over the top k dimension for each combination of b, h, and t, resulting in a tensor of shape (b, h, t, d). Equivalent to doing w@v for each k and summing.\n",
    "            mem_weighted_values = einsum(mem_w, mem_v, 'b h t k, b h t k d -> b h t d')\n",
    "\n",
    "            ## Combined attention\n",
    "            \n",
    "            # Assume every memory has content. Empty memories will be masked out below.\n",
    "            combined_weighted_values = mem_weighted_values * self.gate_bias + weighted_values * (1 - self.gate_bias)\n",
    "\n",
    "            # Mask out combined weighted values where knn memory *is* empty and non-combined values where it *is not* empty, then merge them.\n",
    "            combined_weighted_values = combined_weighted_values * knn_mask.view(B, 1, 1, 1) + weighted_values * (~knn_mask).view(B, 1, 1, 1)\n",
    "\n",
    "            # Concat heads\n",
    "            combined_weighted_values = rearrange(combined_weighted_values, 'b h t d -> b t (h d)')\n",
    "            out = self.project(combined_weighted_values)\n",
    "\n",
    "            # t2 = time.time()\n",
    "            # print (\"End KNN operations, time taken:\", t2-t1)\n",
    "\n",
    "        else:\n",
    "            # Concat heads\n",
    "            weighted_values = rearrange(weighted_values, 'b h t d -> b t (h d)')\n",
    "            out = self.project(weighted_values)\n",
    "\n",
    "\n",
    "        # New XL memories\n",
    "\n",
    "        # Concatenate key and value heads\n",
    "        k = rearrange(k, 'b h t d -> b t (h d)', h = self.n_head)\n",
    "        v = rearrange(v, 'b h t d -> b t (h d)', h = self.n_head)\n",
    "        current_kv = torch.stack((k, v), dim=-2) # b t 2 c\n",
    "\n",
    "        new_xl_memory = current_kv[:, -T:]\n",
    "        # print(f'new mem shape:{new_xl_memory.shape}')\n",
    "        for i in range(B):\n",
    "            if inference_mode:\n",
    "                # During inference, we advance one token at a time.\n",
    "                trimmed_xl_memory = new_xl_memory[i][-1].unsqueeze(0)\n",
    "                self.knn[i].add(trimmed_xl_memory)\n",
    "            else:\n",
    "                # During training, we advance a whole sequence block at a time.\n",
    "                self.knn[i].add(new_xl_memory[i])\n",
    "\n",
    "        return self.dropout(out), new_xl_memory"
   ]
  },
  {
   "cell_type": "code",
   "execution_count": 16,
   "metadata": {},
   "outputs": [],
   "source": [
    "class FeedForward(torch.nn.Module):\n",
    "\n",
    "    def __init__(self, n_embed, dropout):\n",
    "        super().__init__()\n",
    "        self.net = torch.nn.Sequential(\n",
    "            torch.nn.Linear(n_embed, 4 * n_embed), # 4x is a common expansion factor\n",
    "            torch.nn.GELU(),\n",
    "            torch.nn.Dropout(dropout),\n",
    "            torch.nn.Linear(4 * n_embed, n_embed) # Project back to the residual stream\n",
    "        )\n",
    "\n",
    "    def forward(self, x):\n",
    "        return self.net(x)\n",
    "    \n",
    "class Block(torch.nn.Module):\n",
    "\n",
    "    def __init__(self, n_embed, n_head, dropout):\n",
    "        super().__init__()\n",
    "        self.attention = XLAttention(\n",
    "                            n_embed,\n",
    "                            n_head,\n",
    "                            dropout)\n",
    "        self.ff = FeedForward(n_embed, dropout)\n",
    "        self.layer_norm1 = torch.nn.LayerNorm(n_embed)\n",
    "        self.layer_norm2 = torch.nn.LayerNorm(n_embed)\n",
    "\n",
    "    def forward(self, rel_pos, x, xl_memories):\n",
    "        # Residual connections\n",
    "        attn_out, new_xl_memories = self.attention(relative_positions=rel_pos, x=self.layer_norm1(x), xl_memory=xl_memories)\n",
    "        x = x + attn_out\n",
    "        x = x + self.ff(self.layer_norm2(x))\n",
    "        return x, new_xl_memories\n",
    "    \n",
    "class KNNBlock(torch.nn.Module):\n",
    "\n",
    "    def __init__(self, db_filepath, sample_length, max_file_length, n_embed, n_head, top_k, dropout):\n",
    "        super().__init__()\n",
    "        self.attention = KNN_XLAttention(\n",
    "                            db_filepath,\n",
    "                            sample_length, \n",
    "                            max_file_length,\n",
    "                            top_k,\n",
    "                            n_embed,\n",
    "                            n_head,\n",
    "                            dropout)\n",
    "        self.ff = FeedForward(n_embed, dropout)\n",
    "        self.layer_norm1 = torch.nn.LayerNorm(n_embed)\n",
    "        self.layer_norm2 = torch.nn.LayerNorm(n_embed)\n",
    "\n",
    "    def forward(self, batch_file_idxs, relative_positions, x, xl_memory = None, inference_mode=False):\n",
    "        # Residual connections\n",
    "        attn_out, new_xl_memories = self.attention(batch_file_idxs=batch_file_idxs, relative_positions=relative_positions, x=self.layer_norm1(x), xl_memory=xl_memory, inference_mode=inference_mode)\n",
    "        x = x + attn_out\n",
    "        x = x + self.ff(self.layer_norm2(x))\n",
    "        return x, new_xl_memories"
   ]
  },
  {
   "cell_type": "code",
   "execution_count": 17,
   "metadata": {},
   "outputs": [],
   "source": [
    "class DecoderTransformer_KNN_XL(torch.nn.Module):\n",
    "\n",
    "    def __init__(\n",
    "            self,\n",
    "            db_filepath,\n",
    "            vocab,\n",
    "            sample_length,\n",
    "            max_file_length,\n",
    "            use_knn = False,\n",
    "            n_embed = 384, # /6 heads = 64 per head\n",
    "            n_head = 6, \n",
    "            n_layer = 6, \n",
    "            max_bar_position = 1024,\n",
    "            top_k = 16,\n",
    "            dropout = 0.2,\n",
    "            n_rel_pos_buckets = 32,\n",
    "            rel_pos_max_distance = 128):\n",
    "        \n",
    "        super().__init__()\n",
    "        self.vocab = vocab\n",
    "        self.n_embed = n_embed\n",
    "        head_size = n_embed // n_head\n",
    "        scaling_factor = head_size ** 0.5\n",
    "        self.sample_length = sample_length\n",
    "        self.use_knn = use_knn\n",
    "        self.n_layer = n_layer\n",
    "        self.max_bar_position = max_bar_position\n",
    "        self.current_file_idxs = None\n",
    "        self.token_embedding = torch.nn.Embedding(self.vocab.size, n_embed)\n",
    "        self.rel_pos = XLRelativePosition(n_buckets = n_rel_pos_buckets, max_distance = rel_pos_max_distance, n_head = n_head, scaling_factor = scaling_factor)\n",
    "        self.rel_pos_knn = XLRelativePosition(n_buckets = n_rel_pos_buckets, max_distance = rel_pos_max_distance, n_head = n_head, scaling_factor = scaling_factor)\n",
    "        self.beat_embedding = torch.nn.Embedding(SAMPLES_PER_BAR, n_embed)\n",
    "        self.bar_embedding = torch.nn.Embedding(max_bar_position, n_embed)\n",
    "        \n",
    "        self.blocks = torch.nn.ModuleList([])\n",
    "        for i in range(n_layer): # 0 -> (n_layer - 1)\n",
    "\n",
    "            if self.isKNNLayer(i):\n",
    "                self.blocks.append(KNNBlock(db_filepath=db_filepath, sample_length=sample_length, max_file_length=max_file_length, n_embed=n_embed, n_head=n_head, top_k=top_k, dropout=dropout))\n",
    "            else:\n",
    "                self.blocks.append(Block(n_embed=n_embed, n_head=n_head, dropout=dropout))\n",
    "            \n",
    "        self.layer_norm = torch.nn.LayerNorm(n_embed)\n",
    "        self.lm_head = torch.nn.Linear(n_embed, self.vocab.size)\n",
    "\n",
    "    def isKNNLayer(self, i):\n",
    "        if self.use_knn:\n",
    "            return (i+1) == self.n_layer - 3 # zero based index\n",
    "        else:\n",
    "            return False\n",
    "\n",
    "    def forward(self, batch_file_idxs, x, xl_memories=None, targets=None):\n",
    "\n",
    "        B, T, C = x.shape\n",
    "\n",
    "        inference_mode = targets is None\n",
    "        first_pass = xl_memories is None\n",
    "\n",
    "        # Could split these out in one go using the unbind function\n",
    "        token_idx = x[:, :, 0] # (B,T)\n",
    "        time_idx = x[:, :, 1] # (B,T)\n",
    "\n",
    "        sample_idx = time_idx % SAMPLES_PER_BAR # (B,T)\n",
    "        bar_idx = (time_idx // SAMPLES_PER_BAR) % self.max_bar_position # (B,T)\n",
    "\n",
    "        rel_pos = self.rel_pos(T)\n",
    "        rel_pos_knn = self.rel_pos_knn(T)\n",
    "\n",
    "        token_embed = self.token_embedding(token_idx) # (B,T,Embed)\n",
    "        bar_embed = self.bar_embedding(bar_idx) # (B,T,Embed)\n",
    "        sample_embed = self.beat_embedding(sample_idx) # (B,T,Embed)\n",
    "\n",
    "        x = token_embed + bar_embed + sample_embed\n",
    "\n",
    "        # If no XL memories, initialise them as 0 and reset the KNN memory\n",
    "        if xl_memories is None:\n",
    "            self.current_file_idxs = None\n",
    "            xl_memories = []\n",
    "            empty_batch_mem = torch.zeros((B, T, 2, self.n_embed), dtype=torch.long, device=device)\n",
    "            for layer, block in enumerate(self.blocks):\n",
    "                xl_memories.append(empty_batch_mem.detach().clone())\n",
    "                if self.isKNNLayer(layer):\n",
    "                    block.attention.clear_memory()\n",
    "\n",
    "        # If any file has changed (and it isn't the first run), replace the XL memory for that specific batch dim in every layer with 0\n",
    "        if self.current_file_idxs != None:\n",
    "            empty_mem = torch.zeros((T, 2, self.n_embed), dtype=torch.long, device=device)\n",
    "            for batch_dim, current_file_idx in enumerate(self.current_file_idxs):\n",
    "                if current_file_idx != batch_file_idxs[batch_dim]:\n",
    "                    # print(f\"Clearing XL mem for batch dim {batch_dim}\")\n",
    "                    for layer in range(self.n_layer):\n",
    "                        xl_memories[layer][batch_dim] = empty_mem.detach().clone()\n",
    "        \n",
    "        self.current_file_idxs = batch_file_idxs\n",
    "\n",
    "        # Store the XL memories for each pass\n",
    "        new_xl_memories = []\n",
    "\n",
    "        for i, block in enumerate(self.blocks):\n",
    "            if self.isKNNLayer(i):\n",
    "                x, xl_mem = block(batch_file_idxs, rel_pos_knn, x, xl_memories[i], inference_mode=(inference_mode and not first_pass))\n",
    "            else:\n",
    "                x, xl_mem = block(rel_pos, x, xl_memories[i])\n",
    "\n",
    "            new_xl_memories.append(xl_mem.detach())\n",
    "\n",
    "        x = self.layer_norm(x)\n",
    "\n",
    "        # TODO: Convert this section to use einops rearrange\n",
    "        if inference_mode:\n",
    "            # inference-time mini-optimization: only forward the lm_head on the very last position\n",
    "            logits = self.lm_head(x[:, [-1], :]) # note: using list [-1] to preserve the time dim\n",
    "            loss = None\n",
    "        else:\n",
    "            # if we are given some desired targets also calculate the loss\n",
    "            logits = self.lm_head(x)\n",
    "            B, T, C = logits.shape\n",
    "            logits = logits.reshape(B*T, C) # Flatten all the batches\n",
    "            targets = targets.reshape(B*T)\n",
    "            loss = F.cross_entropy(logits, targets)\n",
    "\n",
    "        return logits, loss, new_xl_memories\n",
    "\n",
    "    @torch.no_grad()\n",
    "    def generate(self, x, max_new_tokens=1024, temperature=1.0):\n",
    "        self.eval()\n",
    "        \n",
    "        B, T, C = x.size()\n",
    "        \n",
    "        # We will just have one 'file' per dimension we are generating so that the knn memory is created and persists for the whole generation.\n",
    "        file_idxs = torch.arange(B, device=device)\n",
    "        xl_memories = None\n",
    "        dur_start, _ = vocab.duration_range\n",
    "        \n",
    "        for _ in range(max_new_tokens):\n",
    "\n",
    "            # Get the second to last note index if it exists, otherwise return pad idx\n",
    "            if x.size(1) > 1:\n",
    "                second_to_last_nidx = x[:, -2, 0].unsqueeze(0) # (B, 1)\n",
    "            else:\n",
    "                second_to_last_nidx = torch.stack([torch.tensor([vocab.pad_idx], device=device) for _ in range(B)], dim=0)\n",
    "\n",
    "            # print(f'second_to_last_nidx: {second_to_last_nidx.size()}')\n",
    "            \n",
    "            # Could probably use unbind here\n",
    "            last_nidx = x[:, -1, 0] # (B, 1)\n",
    "            # print(f'last_nidx: {last_nidx.size()}')\n",
    "            last_tidx = x[:, -1, 1] # (B, 1)\n",
    "            # print(f'last_tidx: {last_tidx.size()}')\n",
    "\n",
    "            # If two tokens ago was a separator, the last token was a time-incrementing duration\n",
    "            duration_mask = second_to_last_nidx == vocab.sep_idx # (B, 1)\n",
    "\n",
    "            # Offset the duration idx to get the actual duration, and zero out if the previous token was not a separator\n",
    "            t_inc = (last_nidx - dur_start) * duration_mask\n",
    "            # print(f't_inc: {t_inc.size()}')\n",
    "\n",
    "            # Increment the time index by the duration\n",
    "            tidx_next = last_tidx + t_inc # (B, 1)\n",
    "            # print(f'tidx: {tidx_next.size()}')\n",
    "\n",
    "            # if the sequence context is growing too long we must crop it at block_size\n",
    "            x_cropped = x if x.size(1) <= self.sample_length else x[:, -self.sample_length:]\n",
    "\n",
    "            # forward the model to get the logits for the index in the sequence\n",
    "            logits, _, xl_memories = self(file_idxs, x_cropped, xl_memories)\n",
    "\n",
    "            # pluck the logits at the final step and scale by desired temperature\n",
    "            logits = logits[:, -1, :] / temperature\n",
    "\n",
    "            # apply softmax to convert logits to (normalized) probabilities\n",
    "            probs = F.softmax(logits, dim=-1)\n",
    "\n",
    "            # sample from the distribution\n",
    "            nidx_next = torch.multinomial(probs, num_samples=1) # (B, 1)\n",
    "            # print(f'nidx: {nidx_next.size()}')\n",
    "\n",
    "            # Concat with the time index\n",
    "            idx_next = torch.cat((nidx_next, tidx_next), dim=1).unsqueeze(0) # (B, C)\n",
    "            # print(f'idx_next: {idx_next.size()}')\n",
    "\n",
    "            # append sampled index to the running sequence and continue\n",
    "            x = torch.cat((x, idx_next), dim=1) # (B, T+1, C)\n",
    "\n",
    "        self.train()\n",
    "        return x"
   ]
  },
  {
   "cell_type": "code",
   "execution_count": 266,
   "metadata": {},
   "outputs": [
    {
     "name": "stdout",
     "output_type": "stream",
     "text": [
      "11347976\n"
     ]
    }
   ],
   "source": [
    "model = DecoderTransformer_KNN_XL(db_filepath=Path('../data/numpy/knn-demo'), vocab=vocab, sample_length=sample_length, max_file_length=max_file_length, use_knn=False)\n",
    "\n",
    "print(sum(p.numel() for p in model.parameters()))"
   ]
  },
  {
   "cell_type": "code",
   "execution_count": 267,
   "metadata": {},
   "outputs": [
    {
     "name": "stdout",
     "output_type": "stream",
     "text": [
      "Model's state_dict:\n",
      "token_embedding.weight \t torch.Size([392, 384])\n",
      "rel_pos.relative_attention_embedding.weight \t torch.Size([32, 6])\n",
      "rel_pos_knn.relative_attention_embedding.weight \t torch.Size([32, 6])\n",
      "beat_embedding.weight \t torch.Size([32, 384])\n",
      "bar_embedding.weight \t torch.Size([1024, 384])\n",
      "blocks.0.attention.key.weight \t torch.Size([384, 384])\n",
      "blocks.0.attention.query.weight \t torch.Size([384, 384])\n",
      "blocks.0.attention.value.weight \t torch.Size([384, 384])\n",
      "blocks.0.attention.project.weight \t torch.Size([384, 384])\n",
      "blocks.0.attention.project.bias \t torch.Size([384])\n",
      "blocks.0.ff.net.0.weight \t torch.Size([1536, 384])\n",
      "blocks.0.ff.net.0.bias \t torch.Size([1536])\n",
      "blocks.0.ff.net.3.weight \t torch.Size([384, 1536])\n",
      "blocks.0.ff.net.3.bias \t torch.Size([384])\n",
      "blocks.0.layer_norm1.weight \t torch.Size([384])\n",
      "blocks.0.layer_norm1.bias \t torch.Size([384])\n",
      "blocks.0.layer_norm2.weight \t torch.Size([384])\n",
      "blocks.0.layer_norm2.bias \t torch.Size([384])\n",
      "blocks.1.attention.key.weight \t torch.Size([384, 384])\n",
      "blocks.1.attention.query.weight \t torch.Size([384, 384])\n",
      "blocks.1.attention.value.weight \t torch.Size([384, 384])\n",
      "blocks.1.attention.project.weight \t torch.Size([384, 384])\n",
      "blocks.1.attention.project.bias \t torch.Size([384])\n",
      "blocks.1.ff.net.0.weight \t torch.Size([1536, 384])\n",
      "blocks.1.ff.net.0.bias \t torch.Size([1536])\n",
      "blocks.1.ff.net.3.weight \t torch.Size([384, 1536])\n",
      "blocks.1.ff.net.3.bias \t torch.Size([384])\n",
      "blocks.1.layer_norm1.weight \t torch.Size([384])\n",
      "blocks.1.layer_norm1.bias \t torch.Size([384])\n",
      "blocks.1.layer_norm2.weight \t torch.Size([384])\n",
      "blocks.1.layer_norm2.bias \t torch.Size([384])\n",
      "blocks.2.attention.key.weight \t torch.Size([384, 384])\n",
      "blocks.2.attention.query.weight \t torch.Size([384, 384])\n",
      "blocks.2.attention.value.weight \t torch.Size([384, 384])\n",
      "blocks.2.attention.project.weight \t torch.Size([384, 384])\n",
      "blocks.2.attention.project.bias \t torch.Size([384])\n",
      "blocks.2.ff.net.0.weight \t torch.Size([1536, 384])\n",
      "blocks.2.ff.net.0.bias \t torch.Size([1536])\n",
      "blocks.2.ff.net.3.weight \t torch.Size([384, 1536])\n",
      "blocks.2.ff.net.3.bias \t torch.Size([384])\n",
      "blocks.2.layer_norm1.weight \t torch.Size([384])\n",
      "blocks.2.layer_norm1.bias \t torch.Size([384])\n",
      "blocks.2.layer_norm2.weight \t torch.Size([384])\n",
      "blocks.2.layer_norm2.bias \t torch.Size([384])\n",
      "blocks.3.attention.key.weight \t torch.Size([384, 384])\n",
      "blocks.3.attention.query.weight \t torch.Size([384, 384])\n",
      "blocks.3.attention.value.weight \t torch.Size([384, 384])\n",
      "blocks.3.attention.project.weight \t torch.Size([384, 384])\n",
      "blocks.3.attention.project.bias \t torch.Size([384])\n",
      "blocks.3.ff.net.0.weight \t torch.Size([1536, 384])\n",
      "blocks.3.ff.net.0.bias \t torch.Size([1536])\n",
      "blocks.3.ff.net.3.weight \t torch.Size([384, 1536])\n",
      "blocks.3.ff.net.3.bias \t torch.Size([384])\n",
      "blocks.3.layer_norm1.weight \t torch.Size([384])\n",
      "blocks.3.layer_norm1.bias \t torch.Size([384])\n",
      "blocks.3.layer_norm2.weight \t torch.Size([384])\n",
      "blocks.3.layer_norm2.bias \t torch.Size([384])\n",
      "blocks.4.attention.key.weight \t torch.Size([384, 384])\n",
      "blocks.4.attention.query.weight \t torch.Size([384, 384])\n",
      "blocks.4.attention.value.weight \t torch.Size([384, 384])\n",
      "blocks.4.attention.project.weight \t torch.Size([384, 384])\n",
      "blocks.4.attention.project.bias \t torch.Size([384])\n",
      "blocks.4.ff.net.0.weight \t torch.Size([1536, 384])\n",
      "blocks.4.ff.net.0.bias \t torch.Size([1536])\n",
      "blocks.4.ff.net.3.weight \t torch.Size([384, 1536])\n",
      "blocks.4.ff.net.3.bias \t torch.Size([384])\n",
      "blocks.4.layer_norm1.weight \t torch.Size([384])\n",
      "blocks.4.layer_norm1.bias \t torch.Size([384])\n",
      "blocks.4.layer_norm2.weight \t torch.Size([384])\n",
      "blocks.4.layer_norm2.bias \t torch.Size([384])\n",
      "blocks.5.attention.key.weight \t torch.Size([384, 384])\n",
      "blocks.5.attention.query.weight \t torch.Size([384, 384])\n",
      "blocks.5.attention.value.weight \t torch.Size([384, 384])\n",
      "blocks.5.attention.project.weight \t torch.Size([384, 384])\n",
      "blocks.5.attention.project.bias \t torch.Size([384])\n",
      "blocks.5.ff.net.0.weight \t torch.Size([1536, 384])\n",
      "blocks.5.ff.net.0.bias \t torch.Size([1536])\n",
      "blocks.5.ff.net.3.weight \t torch.Size([384, 1536])\n",
      "blocks.5.ff.net.3.bias \t torch.Size([384])\n",
      "blocks.5.layer_norm1.weight \t torch.Size([384])\n",
      "blocks.5.layer_norm1.bias \t torch.Size([384])\n",
      "blocks.5.layer_norm2.weight \t torch.Size([384])\n",
      "blocks.5.layer_norm2.bias \t torch.Size([384])\n",
      "layer_norm.weight \t torch.Size([384])\n",
      "layer_norm.bias \t torch.Size([384])\n",
      "lm_head.weight \t torch.Size([392, 384])\n",
      "lm_head.bias \t torch.Size([392])\n"
     ]
    }
   ],
   "source": [
    "print(\"Model's state_dict:\")\n",
    "for param_tensor in model.state_dict():\n",
    "    print(param_tensor, \"\\t\", model.state_dict()[param_tensor].size())"
   ]
  },
  {
   "cell_type": "code",
   "execution_count": 268,
   "metadata": {},
   "outputs": [],
   "source": [
    "learning_rate = 1e-3\n",
    "weight_decay = 1e-3\n",
    "\n",
    "model.to(device)\n",
    "optimizer = torch.optim.Adam(model.parameters(), lr=learning_rate, weight_decay=weight_decay)"
   ]
  },
  {
   "cell_type": "code",
   "execution_count": 269,
   "metadata": {},
   "outputs": [],
   "source": [
    "eval_iters = 100\n",
    "\n",
    "@torch.no_grad()\n",
    "def estimate_loss(data_loader):\n",
    "    model.eval()\n",
    "        \n",
    "    xl_memories = None\n",
    "    losses = torch.zeros(eval_iters)\n",
    "    \n",
    "    # Not working\n",
    "    # Start at a random point in the data, making sure we have enough data to evaluate\n",
    "    # offset = random.randint(0, len(data_loader.dataset) - (eval_iters + 1))\n",
    "    # data_iter = itertools.islice(iter(data_loader), offset, None)\n",
    "\n",
    "    data_iter = iter(data_loader)\n",
    "\n",
    "    for k in range(eval_iters):\n",
    "        file_idxs, batch = next(data_iter)\n",
    "        X, Y = batch[:, :-1], batch[:, 1:, 0] # drop absolute position from Y\n",
    "        _, loss, xl_memories = model(file_idxs, X, xl_memories, Y)\n",
    "        losses[k] = loss.item()\n",
    "\n",
    "    model.train()\n",
    "    \n",
    "    return losses.mean()"
   ]
  },
  {
   "cell_type": "code",
   "execution_count": 270,
   "metadata": {},
   "outputs": [],
   "source": [
    "model_name = 'midi_transformer_xl-base-1'\n",
    "model_load_path = Path(f'../data/checkpoints/{model_name}.dat')\n",
    "model_save_path = Path(f'../data/checkpoints/{model_name}.dat')\n",
    "log_dir = Path(f'../tensorboard/{model_name}')\n",
    "tensorboard_writer = SummaryWriter(log_dir)\n",
    "\n",
    "average_log_losses = {  \n",
    "    \"train\" : [],\n",
    "    \"val\" : []\n",
    "}\n",
    "\n",
    "epochs = 0\n",
    "\n",
    "def save_checkpoint(iterations):\n",
    "    train_loss = estimate_loss(train_data_loader)\n",
    "    val_loss = estimate_loss(valid_data_loader)\n",
    "    tensorboard_writer.add_scalar('Loss/train', train_loss, iterations)\n",
    "    tensorboard_writer.add_scalar('Loss/val', val_loss, iterations)\n",
    "    train_log_loss = train_loss.log10().item()\n",
    "    val_log_loss = val_loss.log10().item()\n",
    "    average_log_losses['train'].append(train_log_loss)\n",
    "    average_log_losses['val'].append(val_log_loss)\n",
    "    print(f'Epoch {epochs} / Iteration {iterations}: Train Loss: {train_loss:.4f}, Val Loss: {val_loss:.4f}')\n",
    "    torch.save({\n",
    "        'iter': iterations,\n",
    "        'model_state_dict': model.state_dict(),\n",
    "        'optimizer_state_dict': optimizer.state_dict(),\n",
    "        'losses': average_log_losses,\n",
    "        'epochs': epochs\n",
    "    }, model_save_path)"
   ]
  },
  {
   "cell_type": "code",
   "execution_count": 271,
   "metadata": {},
   "outputs": [
    {
     "name": "stdout",
     "output_type": "stream",
     "text": [
      "Loaded model from iteration 50000\n"
     ]
    }
   ],
   "source": [
    "eval_interval = 200\n",
    "total_iterations = 120000\n",
    "start_iter = 0\n",
    "\n",
    "if model_load_path.exists():\n",
    "    checkpoint = torch.load(model_load_path)\n",
    "    model.load_state_dict(checkpoint['model_state_dict'])\n",
    "    optimizer.load_state_dict(checkpoint['optimizer_state_dict'])\n",
    "    average_log_losses = checkpoint['losses']\n",
    "    iterations = checkpoint['iter']\n",
    "    epochs = checkpoint['epochs']\n",
    "    start_iter = iterations + 1\n",
    "    print(f\"Loaded model from iteration {iterations}\")"
   ]
  },
  {
   "cell_type": "code",
   "execution_count": 272,
   "metadata": {},
   "outputs": [
    {
     "name": "stdout",
     "output_type": "stream",
     "text": [
      "Training from epoch 148 for 69999 iterations\n",
      "Epoch 150 / Iteration 50200: Train Loss: 0.9852, Val Loss: 1.0267\n",
      "Epoch 150 / Iteration 50400: Train Loss: 0.9787, Val Loss: 1.0012\n",
      "Epoch 150 / Iteration 50600: Train Loss: 0.9778, Val Loss: 0.9991\n",
      "Epoch 152 / Iteration 50800: Train Loss: 0.9489, Val Loss: 1.0057\n",
      "Epoch 152 / Iteration 51000: Train Loss: 0.9858, Val Loss: 1.0107\n",
      "Epoch 152 / Iteration 51200: Train Loss: 0.9904, Val Loss: 1.0106\n",
      "Epoch 152 / Iteration 51400: Train Loss: 0.9903, Val Loss: 1.0112\n",
      "Epoch 154 / Iteration 51600: Train Loss: 0.9641, Val Loss: 0.9985\n",
      "Epoch 154 / Iteration 51800: Train Loss: 0.9724, Val Loss: 0.9961\n",
      "Epoch 154 / Iteration 52000: Train Loss: 0.9841, Val Loss: 1.0029\n",
      "Epoch 156 / Iteration 52200: Train Loss: 0.9521, Val Loss: 1.0058\n",
      "Epoch 156 / Iteration 52400: Train Loss: 0.9803, Val Loss: 1.0052\n",
      "Epoch 156 / Iteration 52600: Train Loss: 0.9880, Val Loss: 1.0119\n",
      "Epoch 156 / Iteration 52800: Train Loss: 0.9881, Val Loss: 1.0079\n",
      "Epoch 158 / Iteration 53000: Train Loss: 0.9608, Val Loss: 0.9970\n",
      "Epoch 158 / Iteration 53200: Train Loss: 0.9856, Val Loss: 1.0052\n",
      "Epoch 158 / Iteration 53400: Train Loss: 0.9809, Val Loss: 0.9984\n",
      "Epoch 160 / Iteration 53600: Train Loss: 0.9650, Val Loss: 1.0160\n",
      "Epoch 160 / Iteration 53800: Train Loss: 0.9761, Val Loss: 1.0034\n",
      "Epoch 160 / Iteration 54000: Train Loss: 0.9760, Val Loss: 0.9949\n",
      "Epoch 160 / Iteration 54200: Train Loss: 0.9815, Val Loss: 0.9999\n",
      "Epoch 162 / Iteration 54400: Train Loss: 0.9733, Val Loss: 1.0104\n",
      "Epoch 162 / Iteration 54600: Train Loss: 0.9968, Val Loss: 1.0153\n",
      "Epoch 162 / Iteration 54800: Train Loss: 0.9711, Val Loss: 0.9912\n",
      "Epoch 164 / Iteration 55000: Train Loss: 0.9786, Val Loss: 1.0216\n",
      "Epoch 164 / Iteration 55200: Train Loss: 0.9794, Val Loss: 1.0081\n",
      "Epoch 164 / Iteration 55400: Train Loss: 0.9928, Val Loss: 1.0116\n",
      "Epoch 164 / Iteration 55600: Train Loss: 0.9833, Val Loss: 1.0016\n",
      "Epoch 166 / Iteration 55800: Train Loss: 0.9665, Val Loss: 1.0073\n",
      "Epoch 166 / Iteration 56000: Train Loss: 0.9826, Val Loss: 1.0060\n",
      "Epoch 166 / Iteration 56200: Train Loss: 0.9816, Val Loss: 1.0037\n",
      "Epoch 168 / Iteration 56400: Train Loss: 0.9585, Val Loss: 0.9932\n",
      "Epoch 168 / Iteration 56600: Train Loss: 0.9742, Val Loss: 1.0048\n",
      "Epoch 168 / Iteration 56800: Train Loss: 0.9799, Val Loss: 0.9993\n",
      "Epoch 168 / Iteration 57000: Train Loss: 0.9890, Val Loss: 1.0095\n",
      "Epoch 170 / Iteration 57200: Train Loss: 0.9578, Val Loss: 1.0015\n",
      "Epoch 170 / Iteration 57400: Train Loss: 0.9835, Val Loss: 1.0059\n",
      "Epoch 170 / Iteration 57600: Train Loss: 0.9722, Val Loss: 0.9933\n",
      "Epoch 172 / Iteration 57800: Train Loss: 0.9733, Val Loss: 1.0021\n",
      "Epoch 172 / Iteration 58000: Train Loss: 0.9646, Val Loss: 0.9959\n",
      "Epoch 172 / Iteration 58200: Train Loss: 0.9729, Val Loss: 0.9931\n",
      "Epoch 172 / Iteration 58400: Train Loss: 0.9770, Val Loss: 0.9950\n",
      "Epoch 174 / Iteration 58600: Train Loss: 0.9497, Val Loss: 1.0053\n"
     ]
    }
   ],
   "source": [
    "# import torch.profiler\n",
    "\n",
    "model.train()\n",
    "\n",
    "remaining_iters = total_iterations - start_iter\n",
    "if remaining_iters != -1:\n",
    "\n",
    "    # Start with no memory, from the first batch.\n",
    "    # Could load memories and offset batch index if we wanted to resume training with the same memories.\n",
    "\n",
    "    print(f\"Training from epoch {epochs} for {remaining_iters} iterations\")\n",
    "    \n",
    "    xl_memories = None\n",
    "    initial_file_idxs = None\n",
    "    train_data = iter(train_data_loader)\n",
    "    offset_iter = start_iter\n",
    "    # # Initialize the profiler\n",
    "    # with torch.profiler.profile(\n",
    "    #     activities=[\n",
    "    #         torch.profiler.ProfilerActivity.CPU,\n",
    "    #         torch.profiler.ProfilerActivity.CUDA,\n",
    "    #     ],\n",
    "    #     schedule=torch.profiler.schedule(wait=1, warmup=1, active=3),\n",
    "    #     on_trace_ready=torch.profiler.tensorboard_trace_handler(log_dir),\n",
    "    #     record_shapes=True,\n",
    "    #     profile_memory=True,\n",
    "    #     with_stack=True\n",
    "    # ) as prof:\n",
    "    for iteration in range(remaining_iters):\n",
    "        offset_iter = iteration + start_iter\n",
    "\n",
    "        # print(f'Iteration {offset_iter}')\n",
    "\n",
    "        if offset_iter % eval_interval == 0:\n",
    "            # Because we don't explicitly clear xl and knn mem here, there is always a risk that the eval loop leaves the file idx\n",
    "            # the same as the train loop, but with memories of the 'future' which aren't cleared. It could also break the epoch counter.\n",
    "            # The risk would be much smaller with a bigger data set, but with vg_large we loop through the data quite quickly.\n",
    "            save_checkpoint(offset_iter)\n",
    "\n",
    "        # Configure minibatch\n",
    "        file_idxs, batch = next(train_data)\n",
    "\n",
    "        if initial_file_idxs is None:\n",
    "            initial_file_idxs = file_idxs\n",
    "\n",
    "        if torch.equal(initial_file_idxs, file_idxs):\n",
    "            epochs += 1\n",
    "        \n",
    "        X, Y = batch[:, :-1], batch[:, 1:, 0]\n",
    "\n",
    "        # Forward pass\n",
    "        logits, loss, xl_memories = model(file_idxs, X, xl_memories, Y)\n",
    "\n",
    "        # Backward pass\n",
    "        optimizer.zero_grad(set_to_none=True)\n",
    "        loss.backward()\n",
    "        optimizer.step()\n",
    "\n",
    "        # prof.step()\n",
    "\n",
    "    save_checkpoint(offset_iter + 1)\n",
    "\n",
    "    # Print profiler results\n",
    "    # print(prof.key_averages().table(sort_by=\"cuda_time_total\", row_limit=10))"
   ]
  },
  {
   "cell_type": "code",
   "execution_count": null,
   "metadata": {},
   "outputs": [
    {
     "name": "stdout",
     "output_type": "stream",
     "text": [
      "Final training loss: 0.9990528821823103\n"
     ]
    }
   ],
   "source": [
    "print('Final training loss:', 10 ** average_log_losses['train'][-1])"
   ]
  },
  {
   "cell_type": "code",
   "execution_count": null,
   "metadata": {},
   "outputs": [
    {
     "name": "stdout",
     "output_type": "stream",
     "text": [
      "Final validation loss: 1.035185814925996\n"
     ]
    }
   ],
   "source": [
    "print('Final validation loss:', 10 ** average_log_losses['val'][-1])"
   ]
  },
  {
   "cell_type": "code",
   "execution_count": null,
   "metadata": {},
   "outputs": [
    {
     "data": {
      "text/plain": [
       "[<matplotlib.lines.Line2D at 0x7f8ed542b610>]"
      ]
     },
     "execution_count": 253,
     "metadata": {},
     "output_type": "execute_result"
    },
    {
     "data": {
      "image/png": "[encoded data removed]",
      "text/plain": [
       "<Figure size 640x480 with 1 Axes>"
      ]
     },
     "metadata": {
      "image/png": {
       "height": 413,
       "width": 556
      }
     },
     "output_type": "display_data"
    }
   ],
   "source": [
    "plt.plot(average_log_losses['train'][1:])"
   ]
  },
  {
   "cell_type": "code",
   "execution_count": null,
   "metadata": {},
   "outputs": [
    {
     "data": {
      "text/plain": [
       "[<matplotlib.lines.Line2D at 0x7f8ed6210490>]"
      ]
     },
     "execution_count": 254,
     "metadata": {},
     "output_type": "execute_result"
    },
    {
     "data": {
      "image/png": "[encoded data removed]",
      "text/plain": [
       "<Figure size 640x480 with 1 Axes>"
      ]
     },
     "metadata": {
      "image/png": {
       "height": 413,
       "width": 556
      }
     },
     "output_type": "display_data"
    }
   ],
   "source": [
    "plt.plot(average_log_losses['val'][1:])"
   ]
  },
  {
   "cell_type": "code",
   "execution_count": null,
   "metadata": {},
   "outputs": [],
   "source": [
    "init_idx = torch.zeros((1,1,2), dtype=torch.long, device=device)\n",
    "generated_tokens = model.generate(init_idx, max_new_tokens=512).cpu()"
   ]
  },
  {
   "cell_type": "code",
   "execution_count": null,
   "metadata": {},
   "outputs": [
    {
     "data": {
      "text/plain": [
       "torch.Size([1, 513, 2])"
      ]
     },
     "execution_count": 256,
     "metadata": {},
     "output_type": "execute_result"
    }
   ],
   "source": [
    "generated_tokens.shape"
   ]
  },
  {
   "cell_type": "code",
   "execution_count": null,
   "metadata": {},
   "outputs": [
    {
     "data": {
      "text/plain": [
       "'<|sos|> n44 n92 d10 n44 d10 n44 d10 n44 d10 n44 d10 n44 d10 n44 d10 n44 d10 n44 d10 n44 d10 n44 d10 n44 d6 n44 d10 n44 d10 n46 d10 n44 d10 n44 d10 n44 d10 n44 d10 n44 d10 n44 d10 n44 d10 n44 d10 n44 d10 n44 d4 n44 d10 n44 d10 n44 d10 n44 d10 n44 d10 n44 d10 n44 d10 n44 d10 n44 d10 n44 d10 n44 d10 n44 d10 n44 d10 n44 d10 n44 d10 n44 d10 n44 d10 n44 d10 n44 d10 n44 d18 n44 d10 n44 d10 n44 d10 n44 d10 n47 d10 n44 d10 n44 d10 n44 d12 n44 d10 n44 d6 n46 d10 n44 d10 n44 d10 n44 n55 d10 n44 d4 n44 d10 n44 d10 n44 d10 n44 d10 n44 d10 n44 d10 n44 d10 n44 d10 n44 d1 n44 d10 n44 d10 n44 d10 n44 d10 n44 d10 n44 d10 n44 n87 d10 n44 d10 n44 d10 n44 d10 n44 d10 n44 d10 n44 d10 n44 d168 d10 n44 d10 n44 d10 n44 n75 d186 d1 n44 d12 n44 d10 n44 d10 n44 d10 n44 d10 n44 d10 n44 d10 n44 d10 n44 d10 n44 d10 n44 d10 n44 d10 n44 d10 n44 d10 n44 d10 n32 d10 n44 d10 n44 d10 n44 d10 n44 d10 n44 d10 n44 d10 n44 d10 n44 d10 n44 d10 n44 d10 n44 d6 n44 d10 n44 d10 n44 d10 n44 n51 d10 n44 d10 n44 d10 n44 d10 n44 d10 n44 d10 n44 d10 n44 d10 n44 d10 <|sep|> d10 n44 d10 n44 n44 d10 n49 d10 n44 d10 n49 d18 n44 d10 n44 d10 <|sep|> d10 n80 d10 n75 d10 n75 d14 n75 d14 n75 d10 n75 d56 n75 d14 n75 d10 n75 d10 n75 d10 n75 n71 d20 n75 n75 d2 n75 d6 n75 d10 n71 d10 n76 d10 n73 d10 n75 d10 n71 d84 n72 d12 n75 d10 n75 d2 n72 d10 n75 d10 n75 d10 n75 d10 n70 d10 n73 d10 n75 d6 n75 d10 n75 d10 n75 d10 n42 d10 n77 d10 n68 d10 n75 d2 n73 d2 n73 d10 n75 d10 n71 d10 n75 d10 n75 d10 n75 d10 n75 d10 n76 d10 n68 d10 n75 d8 n74 d10 n75 d10 n72 d10 n71 d10 n75 d10 <|eos|> d179 d10 n75 d10 n71 d10 n74 d10 n75 d10 n74 d10 n75 d10 n76 d10 n73 d10 n74 d10 n80 d10 n75 d10 n68 d10 n101 d10 n37 d10 n75 d10 n73 d10 n75 d10 n75 d10 n74 d10 n75 d10 n75 d6 n72 d10 n75 d10 n75 d10 n74 d6 n75 d10 n75 d10 n75 d10 n64 d10 n75 d10 n44 d10 n70 d10 n75 d10 n37 d22 n85 d3 n74 d10 n75 d10 n75 d10 n75 d10 n34 d10 n75 d10 n75 d10 n73 d10 n73 d10 n75 d10 n75 d10 n70 d10 n75 d10 n76 d10 n74 d10 n75 d10 n75 d10 n75 d10 n73 d2 n73 d10 n70 d10 n43 d10 n75 d10 n51 d10 n77 d6 n73 d10 n75 n63 d10 n32 d10'"
      ]
     },
     "execution_count": 257,
     "metadata": {},
     "output_type": "execute_result"
    }
   ],
   "source": [
    "score = generated_tokens[0, :, 0]\n",
    "vocab.to_tokens(score)"
   ]
  },
  {
   "cell_type": "code",
   "execution_count": null,
   "metadata": {},
   "outputs": [
    {
     "ename": "IndexError",
     "evalue": "index 138 is out of bounds for axis 2 with size 128",
     "output_type": "error",
     "traceback": [
      "\u001b[0;31m---------------------------------------------------------------------------\u001b[0m",
      "\u001b[0;31mIndexError\u001b[0m                                Traceback (most recent call last)",
      "Cell \u001b[0;32mIn[258], line 1\u001b[0m\n\u001b[0;32m----> 1\u001b[0m generated_stream \u001b[38;5;241m=\u001b[39m \u001b[43midx_to_stream_enc\u001b[49m\u001b[43m(\u001b[49m\u001b[43mnp\u001b[49m\u001b[38;5;241;43m.\u001b[39;49m\u001b[43marray\u001b[49m\u001b[43m(\u001b[49m\u001b[43mscore\u001b[49m\u001b[43m)\u001b[49m\u001b[43m,\u001b[49m\u001b[43m \u001b[49m\u001b[43mvocab\u001b[49m\u001b[43m)\u001b[49m\n\u001b[1;32m      2\u001b[0m generated_stream\u001b[38;5;241m.\u001b[39mplot()\n",
      "File \u001b[0;32m/src/5 - TransformerXL/midi_encoding.py:365\u001b[0m, in \u001b[0;36midx_to_stream_enc\u001b[0;34m(idx_score, vocab)\u001b[0m\n\u001b[1;32m    363\u001b[0m \u001b[38;5;28;01mdef\u001b[39;00m \u001b[38;5;21midx_to_stream_enc\u001b[39m(idx_score, vocab):\n\u001b[1;32m    364\u001b[0m     position_score \u001b[38;5;241m=\u001b[39m idx_to_position_enc(idx_score, vocab)\n\u001b[0;32m--> 365\u001b[0m     sparse_score \u001b[38;5;241m=\u001b[39m \u001b[43mposition_to_sparse_enc\u001b[49m\u001b[43m(\u001b[49m\u001b[43mposition_score\u001b[49m\u001b[43m)\u001b[49m\n\u001b[1;32m    366\u001b[0m     \u001b[38;5;28;01mreturn\u001b[39;00m sparse_to_stream_enc(sparse_score)\n",
      "File \u001b[0;32m/src/5 - TransformerXL/midi_encoding.py:337\u001b[0m, in \u001b[0;36mposition_to_sparse_enc\u001b[0;34m(note_position_score)\u001b[0m\n\u001b[1;32m    335\u001b[0m  \u001b[38;5;66;03m# (timesteps, instruments, pitches)\u001b[39;00m\n\u001b[1;32m    336\u001b[0m initial_sparse_score \u001b[38;5;241m=\u001b[39m np\u001b[38;5;241m.\u001b[39mzeros((score_length, \u001b[38;5;241m1\u001b[39m, MIDI_NOTE_COUNT))\n\u001b[0;32m--> 337\u001b[0m _, final_sparse_score \u001b[38;5;241m=\u001b[39m \u001b[43mreduce\u001b[49m\u001b[43m(\u001b[49m\u001b[43mdecode_note_position_step\u001b[49m\u001b[43m,\u001b[49m\u001b[43m \u001b[49m\u001b[43mnote_position_score\u001b[49m\u001b[43m,\u001b[49m\u001b[43m \u001b[49m\u001b[43m(\u001b[49m\u001b[38;5;241;43m0\u001b[39;49m\u001b[43m,\u001b[49m\u001b[43m \u001b[49m\u001b[43minitial_sparse_score\u001b[49m\u001b[43m)\u001b[49m\u001b[43m)\u001b[49m\n\u001b[1;32m    339\u001b[0m \u001b[38;5;28;01mreturn\u001b[39;00m final_sparse_score\n",
      "File \u001b[0;32m/src/5 - TransformerXL/midi_encoding.py:332\u001b[0m, in \u001b[0;36mposition_to_sparse_enc.<locals>.decode_note_position_step\u001b[0;34m(acc, note_pos_step)\u001b[0m\n\u001b[1;32m    330\u001b[0m     \u001b[38;5;28;01mreturn\u001b[39;00m (timestep \u001b[38;5;241m+\u001b[39m duration, sparse_score)\n\u001b[1;32m    331\u001b[0m \u001b[38;5;28;01melse\u001b[39;00m:\n\u001b[0;32m--> 332\u001b[0m     sparse_score[timestep, instrument, note] \u001b[38;5;241m=\u001b[39m duration\n\u001b[1;32m    333\u001b[0m     \u001b[38;5;28;01mreturn\u001b[39;00m (timestep, sparse_score)\n",
      "\u001b[0;31mIndexError\u001b[0m: index 138 is out of bounds for axis 2 with size 128"
     ]
    }
   ],
   "source": [
    "generated_stream = idx_to_stream_enc(np.array(score), vocab)\n",
    "generated_stream.plot()"
   ]
  },
  {
   "cell_type": "code",
   "execution_count": null,
   "metadata": {},
   "outputs": [
    {
     "data": {
      "text/html": [
       "\n",
       "        <div id=\"midiPlayerDiv4937790\"></div>\n",
       "        <link rel=\"stylesheet\" href=\"https://cuthbertLab.github.io/music21j/css/m21.css\">\n",
       "        \n",
       "        <script\n",
       "        src=\"https://cdnjs.cloudflare.com/ajax/libs/require.js/2.3.6/require.min.js\"\n",
       "        ></script>\n",
       "    \n",
       "        <script>\n",
       "        function midiPlayerDiv4937790_play() {\n",
       "            const rq = require.config({\n",
       "                paths: {\n",
       "                    'music21': 'https://cuthbertLab.github.io/music21j/releases/music21.debug',\n",
       "                }\n",
       "            });\n",
       "            rq(['music21'], function(music21) {\n",
       "                mp = new music21.miditools.MidiPlayer();\n",
       "                mp.addPlayer(\"#midiPlayerDiv4937790\");\n",
       "                mp.base64Load(\"data:audio/midi;base64,TVRoZAAAAAYAAQACJ2BNVHJrAAAAGgD/UQMHoSAA/1kCAAAA/1gEBAIYCM5g/y8ATVRyawAABSEA/wMFUGlhbm8AwAAA4ABAAMAA9hCQTloAkE9azmCATgAAgE8AAJBLWs5ggEsAAJBOWgCQT1qnMJBOWqcwgE4AAIBPAACATgAAkEpapzCASgAAkExapzCQTVqnMIBMAKcwgE0AAJBNWs5ggE0AAJBNWqcwkElapzCATQAAgEkAAJBHWpNYgEcAk1iQQloAkEVapzCQT1oAkFZazmCAQgAAgEUAAIBPAACAVgAAkEhaAJBMWs5ggEgAAIBMAACQTVqnMJBKWqcwgE0AAIBKAACQSlqnMIBKAACQTFqnMJBPWqcwgEwApzCQTFqnMIBPAACQTFqnMIBMAACQVFqnMIBMAACQUVqnMIBUAACQQlqnMIBRAACAQgAAkFFaAJBWWgCQN1oAkFNapzCQVlqTWIBRAJNYgFYAAIBWAKcwkE9apzCANwAAgFMApzCATwAAkEpapzCQUVqnMIBKAACAUQAAkFFapzCAUQAAkE5aAJBaWgCQMlqnMJBPWqcwgE4AAIBaAKcwkFRapzCAMgCnMIBUAACQVFqnMJBRWqcwgFQAAJBKWqcwgFEAAIBKAACQTVoAkDJapzCQT1qTWIBNAJNYgE8ApzCATwAAkExapzCAMgCnMIBMAACQT1qnMJBPWqcwgE8AAIBPAACQT1qTWJBNWpNYgE8AAIBNAACQT1qnMJBIWqcwgE8ApzCASAAAkE9a4jiATwC7CJBFWqcwgEUAAJBRWgCQMloAkE5apzCQTFqnMIBRAACATACnMJBPWqcwgDIAAIBOAKcwgE8AAJBOWqcwgE4AAJBOWqcwgE4AAJBOWqcwgE4AAJBPWgCQUVqnMJBIWqcwgEgApzCATwAAkEtapzCQT1qnMIBLAACQQ1qnMIBDAACQRVqnMIBPAACARQAAkE5apzCAUQAAgE4AAJA5WgCQTVqnMJBIWqcwgEgApzCQQ1qnMIA5AKcwgEMAAJBKWqcwkEpapzCASgAAkDdapzCATQAAgDcAAJBHWgCQSlqnMJBCWqcwgEcAAIBKAACAQgCnMJBHWqcwgEoApzCARwAAkEpapzCASgAAkEpapzCASgAAkE1apzCATQAAkC9aAJA0WgCQTFqnMJBPWs5ggE8AAJBPWqcwgC8AAIA0AACATACnMIBPAACQT1qnMJBOWqcwgE8AAIBOAACQT1qnMIBPAACQMloAkDpaAJBRWqcwkEpapzCASgAAkEdapzCARwAAkExapzCAMgAAgDoApzCATAAAkE5apzCQVlqnMIBOAACAVgAAkFdapzCAUQAAgFcAAJAwWgCQN1oAkE9apzCQT1oAkFZazmCATwAAgFYAAJBPWqcwgDAAAIA3AACATwCnMIBPAACQT1oAkFZapzCQRlqnMIBPAACAVgAAgEYAAJBPWqcwgE8AAJAyWgCQWVqnMJBbWqcwgFsAAJBDWqcwgEMAAJBPWqcwgDIAAIBZAACQQ1qnMIBPAACAQwAAkENapzCAQwAAkENapzCAQwAAkEVapzCARQAAkDBaAJA2WgCQO1oAkEhaAJBTWqcwkE9azmCATwAAkFRapzCAMAAAgDYAAIA7AACASAAAgFMApzCAVAAAkE9apzCQTlqnMIBPAACATgAAkFZapzCAVgAAkE5aAJAwWgCQMloAkDdapzCATgAAkE9azmCATwAAkExapzCAMAAAgDIAAIA3AACQT1qnMIBMAJNYkDBaAJAyWgCQVlqTWIBPALsIgDAAAIAyAACAVgDOYP8vAA==\");\n",
       "            });\n",
       "        }\n",
       "        if (typeof require === 'undefined') {\n",
       "            setTimeout(midiPlayerDiv4937790_play, 2000);\n",
       "        } else {\n",
       "            midiPlayerDiv4937790_play();\n",
       "        }\n",
       "        </script>"
      ],
      "text/plain": [
       "<IPython.core.display.HTML object>"
      ]
     },
     "metadata": {},
     "output_type": "display_data"
    }
   ],
   "source": [
    "generated_stream.show('midi')"
   ]
  },
  {
   "cell_type": "code",
   "execution_count": null,
   "metadata": {},
   "outputs": [
    {
     "ename": "TypeError",
     "evalue": "'NoneType' object is not subscriptable",
     "output_type": "error",
     "traceback": [
      "\u001b[0;31m---------------------------------------------------------------------------\u001b[0m",
      "\u001b[0;31mTypeError\u001b[0m                                 Traceback (most recent call last)",
      "Cell \u001b[0;32mIn[228], line 4\u001b[0m\n\u001b[1;32m      2\u001b[0m random_test_path \u001b[38;5;241m=\u001b[39m Path(midi_path, random_test_midi_file)\n\u001b[1;32m      3\u001b[0m random_test_idx_score \u001b[38;5;241m=\u001b[39m midifile_to_idx_score(random_test_path, vocab)\n\u001b[0;32m----> 4\u001b[0m random_test_intro \u001b[38;5;241m=\u001b[39m \u001b[43mrandom_test_idx_score\u001b[49m\u001b[43m[\u001b[49m\u001b[43m:\u001b[49m\u001b[43msample_length\u001b[49m\u001b[43m]\u001b[49m\n\u001b[1;32m      5\u001b[0m random_test_intro_stream \u001b[38;5;241m=\u001b[39m idx_to_stream_enc(np\u001b[38;5;241m.\u001b[39marray(random_test_intro[:, \u001b[38;5;241m0\u001b[39m]), vocab)\n\u001b[1;32m      6\u001b[0m random_test_intro_stream\u001b[38;5;241m.\u001b[39mplot()\n",
      "\u001b[0;31mTypeError\u001b[0m: 'NoneType' object is not subscriptable"
     ]
    }
   ],
   "source": [
    "random_test_midi_file = random.choice(test_filenames)\n",
    "random_test_path = Path(midi_path, random_test_midi_file)\n",
    "random_test_idx_score = midifile_to_idx_score(random_test_path, vocab)\n",
    "random_test_intro = random_test_idx_score[:sample_length]\n",
    "random_test_intro_stream = idx_to_stream_enc(np.array(random_test_intro[:, 0]), vocab)\n",
    "random_test_intro_stream.plot()"
   ]
  },
  {
   "cell_type": "code",
   "execution_count": null,
   "metadata": {},
   "outputs": [
    {
     "data": {
      "text/html": [
       "\n",
       "        <div id=\"midiPlayerDiv4935462\"></div>\n",
       "        <link rel=\"stylesheet\" href=\"https://cuthbertLab.github.io/music21j/css/m21.css\">\n",
       "        \n",
       "        <script\n",
       "        src=\"https://cdnjs.cloudflare.com/ajax/libs/require.js/2.3.6/require.min.js\"\n",
       "        ></script>\n",
       "    \n",
       "        <script>\n",
       "        function midiPlayerDiv4935462_play() {\n",
       "            const rq = require.config({\n",
       "                paths: {\n",
       "                    'music21': 'https://cuthbertLab.github.io/music21j/releases/music21.debug',\n",
       "                }\n",
       "            });\n",
       "            rq(['music21'], function(music21) {\n",
       "                mp = new music21.miditools.MidiPlayer();\n",
       "                mp.addPlayer(\"#midiPlayerDiv4935462\");\n",
       "                mp.base64Load(\"data:audio/midi;base64,TVRoZAAAAAYAAQACJ2BNVHJrAAAAGgD/UQMHoSAA/1kCAAAA/1gEBAIYCM5g/y8ATVRyawAAAtEA/wMFUGlhbm8AwAAA4ABAAMAAgrsAkEpapzCASgAAkExapzCATAAAkDZaAJBOWpNYgDYAk1iQMlqTWIAyAJNYgE4AAJA5WgCQUVqnMIA5AACQMlqTWIAyAACQMlqTWIBRAACAMgAAkDZaAJBPWpNYgDYAk1iATwAAkDJaAJBOWpNYgDIAk1iATgAAkDpaAJBMWqcwgDoAAIBMAACQMloAkE9ak1iAMgCTWIBPAACQNloAkE5ak1iANgCTWJAyWpNYgDIAk1iQO1qnMIBOAACAOwAAkDJaAJBKWpNYgDIAAIBKAJNYkDZaAJBFWpNYgDYAk1iQMlqTWIAyAJNYkDxapzCARQAAgDwAAJAyWgCQQ1qTWIAyAACAQwAAkEVak1iARQAAkC9aAJBHWpNYgC8Ak1iQK1qTWIArAJNYgEcAAJA3WgCQSlqnMIA3AACQK1qTWIArAACQK1qTWIBKAACAKwAAkC9aAJBMWpNYgC8Ak1iATAAAkCxaAJBKWpNYgCwAk1iASgAAkDRaAJBJWqcwgDQAAIBJAACQL1oAkEpak1iALwCTWIBKAACQMVoAkExak1iAMQCTWJAtWpNYgC0Ak1iQN1qnMIBMAACANwAAkC1aAJBOWpNYgC0AAIBOAJNYkC1aAJBAWgCQTFqTWIAtAACAQAAAkEJak1iAQgAAkEBaAJAtWpNYgEAAAJA+WpNYgEwAAIA+AACQPVqTWIA9AACQO1qTWIAtAACAOwAAkDFaAJA5WgCQSloAkExak1iAMQAAgDkAAIBKAACATAAAkDdak1iANwAAkDZaAJBOWpNYgDYAk1iQMlqTWIAyAJNYgE4AAJA5WgCQUVqnMIA5AACQMlqTWIAyAACQMlqTWIBRAACAMgAAkDZaAJBSWpNYgDYAk1iAUgAAkDJaAJBRWpNYgDIAk1iAUQAAkDpaAJBPWqcwgDoAAIBPAM5g/y8A\");\n",
       "            });\n",
       "        }\n",
       "        if (typeof require === 'undefined') {\n",
       "            setTimeout(midiPlayerDiv4935462_play, 2000);\n",
       "        } else {\n",
       "            midiPlayerDiv4935462_play();\n",
       "        }\n",
       "        </script>"
      ],
      "text/plain": [
       "<IPython.core.display.HTML object>"
      ]
     },
     "metadata": {},
     "output_type": "display_data"
    }
   ],
   "source": [
    "random_test_intro_stream.show('midi')"
   ]
  },
  {
   "cell_type": "code",
   "execution_count": null,
   "metadata": {},
   "outputs": [
    {
     "data": {
      "image/png": "[encoded data removed]",
      "text/plain": [
       "<Figure size 1000x600 with 1 Axes>"
      ]
     },
     "metadata": {
      "image/png": {
       "height": 540,
       "width": 812
      }
     },
     "output_type": "display_data"
    }
   ],
   "source": [
    "random_test_init = torch.tensor(random_test_intro, device=device).unsqueeze(0)\n",
    "random_test_continued = model.generate(random_test_init, max_new_tokens=512).cpu()[0, :, 0]\n",
    "random_test_continued_stream = idx_to_stream_enc(np.array(random_test_continued), vocab)\n",
    "random_test_continued_stream.plot()"
   ]
  },
  {
   "cell_type": "code",
   "execution_count": null,
   "metadata": {},
   "outputs": [
    {
     "data": {
      "text/html": [
       "\n",
       "        <div id=\"midiPlayerDiv4936920\"></div>\n",
       "        <link rel=\"stylesheet\" href=\"https://cuthbertLab.github.io/music21j/css/m21.css\">\n",
       "        \n",
       "        <script\n",
       "        src=\"https://cdnjs.cloudflare.com/ajax/libs/require.js/2.3.6/require.min.js\"\n",
       "        ></script>\n",
       "    \n",
       "        <script>\n",
       "        function midiPlayerDiv4936920_play() {\n",
       "            const rq = require.config({\n",
       "                paths: {\n",
       "                    'music21': 'https://cuthbertLab.github.io/music21j/releases/music21.debug',\n",
       "                }\n",
       "            });\n",
       "            rq(['music21'], function(music21) {\n",
       "                mp = new music21.miditools.MidiPlayer();\n",
       "                mp.addPlayer(\"#midiPlayerDiv4936920\");\n",
       "                mp.base64Load(\"data:audio/midi;base64,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\");\n",
       "            });\n",
       "        }\n",
       "        if (typeof require === 'undefined') {\n",
       "            setTimeout(midiPlayerDiv4936920_play, 2000);\n",
       "        } else {\n",
       "            midiPlayerDiv4936920_play();\n",
       "        }\n",
       "        </script>"
      ],
      "text/plain": [
       "<IPython.core.display.HTML object>"
      ]
     },
     "metadata": {},
     "output_type": "display_data"
    }
   ],
   "source": [
    "random_test_continued_stream.show('midi')"
   ]
  }
 ],
 "metadata": {
  "kernelspec": {
   "display_name": "Python 3 (ipykernel)",
   "language": "python",
   "name": "python3"
  },
  "language_info": {
   "codemirror_mode": {
    "name": "ipython",
    "version": 3
   },
   "file_extension": ".py",
   "mimetype": "text/x-python",
   "name": "python",
   "nbconvert_exporter": "python",
   "pygments_lexer": "ipython3",
   "version": "3.10.14"
  }
 },
 "nbformat": 4,
 "nbformat_minor": 2
}

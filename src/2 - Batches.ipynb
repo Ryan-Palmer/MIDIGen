{
 "cells": [
  {
   "cell_type": "code",
   "execution_count": 1,
   "metadata": {},
   "outputs": [
    {
     "name": "stdout",
     "output_type": "stream",
     "text": [
      "Using cuda.\n"
     ]
    }
   ],
   "source": [
    "import torch\n",
    "\n",
    "device = (\n",
    "    \"cuda\"\n",
    "    if torch.cuda.is_available()\n",
    "    else \"mps\"\n",
    "    if torch.backends.mps.is_available()\n",
    "    else \"cpu\"\n",
    ")\n",
    "\n",
    "print(f\"Using {device}.\")"
   ]
  },
  {
   "cell_type": "code",
   "execution_count": 2,
   "metadata": {},
   "outputs": [
    {
     "name": "stdout",
     "output_type": "stream",
     "text": [
      "Device: NVIDIA GeForce RTX 4090.\n"
     ]
    }
   ],
   "source": [
    "if device == \"cuda\":\n",
    "    print(f\"Device: {torch.cuda.get_device_name()}.\")"
   ]
  },
  {
   "cell_type": "markdown",
   "metadata": {},
   "source": [
    "To start with lets bring in our import / encode / decode functions from last time."
   ]
  },
  {
   "cell_type": "code",
   "execution_count": 3,
   "metadata": {},
   "outputs": [],
   "source": [
    "import numpy as np\n",
    "from itertools import chain\n",
    "from itertools import groupby\n",
    "from functools import reduce\n",
    "from typing import Collection, List\n",
    "from pathlib import Path\n",
    "import music21 as m21\n",
    "\n",
    "musescore_path = '/usr/bin/mscore'\n",
    "m21.environment.set('musicxmlPath', musescore_path)\n",
    "m21.environment.set('musescoreDirectPNGPath', musescore_path)\n",
    "\n",
    "BEATS_PER_BAR = 4 # beats per bar\n",
    "DIVISIONS_PER_QUARTER = 4 # i.e. 4 beats per bar and 4 divisions per beat gives 16 divisions per bar\n",
    "MIDI_NOTE_COUNT = 128\n",
    "MAX_NOTE_DUR = (8*BEATS_PER_BAR*DIVISIONS_PER_QUARTER)\n",
    "SEPARATOR_IDX = -1 # separator value for numpy encoding\n",
    "PIANO_RANGE = (21, 108)\n",
    "SOS = '<|sos|>' # Start of sequence\n",
    "EOS = '<|eos|>' # End of sequence\n",
    "SEP = '<|sep|>' # End of timestep (required for polyphony). Note index -1\n",
    " # SEP token must be last, i.e. one place before note tokens, so that adding the note offset still works when encoding\n",
    "SPECIAL_TOKENS = [SOS, EOS, SEP]\n",
    "MIDI_NOTE_COUNT = 128\n",
    "NOTE_TOKENS = [f'n{i}' for i in range(MIDI_NOTE_COUNT)]\n",
    "DURATION_SIZE = 8 * BEATS_PER_BAR * DIVISIONS_PER_QUARTER + 1 # 8 bars of sixteenth (semiquaver) notes + 1 for 0 length\n",
    "DURATION_TOKENS = [f'd{i}' for i in range(DURATION_SIZE)]\n",
    "NOTE_START, NOTE_END = NOTE_TOKENS[0], NOTE_TOKENS[-1]\n",
    "DURATION_START, DURATION_END = DURATION_TOKENS[0], DURATION_TOKENS[-1]\n",
    "ALL_TOKENS = SPECIAL_TOKENS + NOTE_TOKENS + DURATION_TOKENS\n",
    "ALL_TOKENS[0:8]\n",
    "TIMESIG = f'{BEATS_PER_BAR}/4'\n",
    "\n",
    "class MusicVocab():\n",
    "    def __init__(self):\n",
    "        itos = SPECIAL_TOKENS + NOTE_TOKENS + DURATION_TOKENS\n",
    "        # Ensure that the vocab is a multiple of 8 for fp16 training\n",
    "        if len(itos)%8 != 0:\n",
    "            itos = itos + [f'dummy{i}' for i in range(len(itos)%8)]\n",
    "        self.itos = itos\n",
    "        self.stoi = {v:k for k,v in enumerate(self.itos)}\n",
    "\n",
    "    def to_indices(self, t:Collection[str]) -> List[int]:\n",
    "        \"Convert a list of tokens `t` to their indices.\"\n",
    "        return [self.stoi[w] for w in t]\n",
    "\n",
    "    def to_tokens(self, nums:Collection[int], sep=' ') -> List[str]:\n",
    "        \"Convert a list of indices to their tokens.\"\n",
    "        items = [self.itos[i] for i in nums]\n",
    "        return sep.join(items) if sep is not None else items\n",
    "\n",
    "    @property\n",
    "    def bos_idx(self): return self.stoi[SOS]\n",
    "    @property\n",
    "    def eos_idx(self): return self.stoi[EOS]\n",
    "    @property\n",
    "    def sep_idx(self): return self.stoi[SEP]\n",
    "    @property\n",
    "    def note_position_enc_range(self): return (self.stoi[SEP], self.stoi[DURATION_END]+1)\n",
    "    @property\n",
    "    def note_range(self): return self.stoi[NOTE_START], self.stoi[NOTE_END]+1\n",
    "    @property\n",
    "    def duration_range(self): return self.stoi[DURATION_START], self.stoi[DURATION_END]+1\n",
    "\n",
    "def stream_to_sparse_enc(stream_score, note_size=MIDI_NOTE_COUNT, sample_freq=DIVISIONS_PER_QUARTER, max_note_dur=MAX_NOTE_DUR):    \n",
    "    # Time is measured in quarter notes since the start of the piece\n",
    "    # Original states that we are assuming 4/4 time but I don't see why that would be the case. BPB isn't used here.\n",
    "\n",
    "    # (MusicAutobot author:) TODO: need to order by instruments most played and filter out percussion or include the channel\n",
    "    highest_time = max(\n",
    "        stream_score.flatten().getElementsByClass('Note').stream().highestTime,\n",
    "        stream_score.flatten().getElementsByClass('Chord').stream().highestTime)\n",
    "    \n",
    "    # Calculate the maximum number of time steps\n",
    "    max_timestep = round(highest_time * sample_freq) + 1\n",
    "    sparse_score = np.zeros((max_timestep, len(stream_score.parts), note_size), dtype=np.int32)\n",
    "\n",
    "    # Convert a note to a tuple of (pitch,offset,duration)\n",
    "    def note_data(pitch, note):\n",
    "        return (pitch.midi, int(round(note.offset*sample_freq)), int(round(note.duration.quarterLength*sample_freq)))\n",
    "\n",
    "    for idx, part in enumerate(stream_score.parts):\n",
    "        \n",
    "        notes = chain.from_iterable(\n",
    "            [note_data(elem.pitch, elem)] if isinstance(elem, m21.note.Note)\n",
    "            else [note_data(p, elem) for p in elem.pitches] if isinstance(elem, m21.chord.Chord) \n",
    "            else []\n",
    "            for elem in part.flatten()\n",
    "        )\n",
    "\n",
    "        # sort flattened note list by timestep (1), duration (2) so that hits are not overwritten and longer notes have priority\n",
    "        notes_sorted = sorted(notes, key=lambda x: (x[1], x[2])) \n",
    "\n",
    "        for note in notes_sorted:\n",
    "            if note is not None:\n",
    "                pitch, timestep, duration = note\n",
    "                clamped_duration = max_note_dur if max_note_dur is not None and duration > max_note_dur else duration\n",
    "                sparse_score[timestep, idx, pitch] = clamped_duration\n",
    "    \n",
    "    return sparse_score\n",
    "\n",
    "# Pass in the 'one-hot' encoded numpy score\n",
    "def sparse_to_position_enc(sparse_score, skip_last_rest=True):\n",
    "\n",
    "    def encode_timestep(acc, timestep):\n",
    "        encoded_timesteps, wait_count = acc\n",
    "        encoded_timestep = timestep_to_position_enc(timestep) # pass in all notes for both instruments, merged list returned\n",
    "        if len(encoded_timestep) == 0: # i.e. all zeroes at time step\n",
    "            wait_count += 1\n",
    "        else:\n",
    "            if wait_count > 0:\n",
    "                encoded_timesteps.append([SEPARATOR_IDX, wait_count])\n",
    "            encoded_timesteps.extend(encoded_timestep)\n",
    "            wait_count = 1\n",
    "        return encoded_timesteps, wait_count\n",
    "    \n",
    "    encoded_timesteps, final_wait_count = reduce(encode_timestep, sparse_score, ([], 0))\n",
    "\n",
    "    if final_wait_count > 0 and not skip_last_rest:\n",
    "        encoded_timesteps.append([SEPARATOR_IDX, final_wait_count]) # add trailing rests\n",
    "\n",
    "    return np.array(encoded_timesteps).reshape(-1, 2) # reshaping. Just in case result is empty\n",
    "    \n",
    "def timestep_to_position_enc(timestep, note_range=PIANO_RANGE):\n",
    "\n",
    "    note_min, note_max = note_range\n",
    "\n",
    "    def encode_note_data(note_data, active_note_idx):\n",
    "        instrument, pitch = active_note_idx\n",
    "        duration = timestep[instrument, pitch]\n",
    "        if pitch >= note_min and pitch < note_max:\n",
    "            note_data.append([pitch, duration, instrument])\n",
    "        return note_data\n",
    "    \n",
    "    active_note_idxs = zip(*timestep.nonzero())\n",
    "    encoded_notes = reduce(encode_note_data, active_note_idxs, [])\n",
    "    sorted_notes = sorted(encoded_notes, key=lambda x: x[0], reverse=True) # sort by note (highest to lowest)\n",
    "\n",
    "    # Dropping instrument information for simplicity.\n",
    "    # MusicAutobot allows different encoding schemes which include instrument number and split pitch into class / octave.\n",
    "    return [n[:2] for n in sorted_notes]\n",
    "\n",
    "def position_to_idx_enc(note_position_score, vocab):\n",
    "    note_idx_score = note_position_score.copy()\n",
    "    note_min_idx, _ = vocab.note_range\n",
    "    dur_min_idx, _ = vocab.duration_range\n",
    "    \n",
    "    # Replace note and duration tokens with their index in vocab. \n",
    "    # Tokens are the same order as notes and note_min_idx offset is constant so we can apply in one go.\n",
    "    # Using broadcasting to add the 1D [note_min_idx, dur_min_idx] to the 2D note_idx_score.\n",
    "    note_idx_score += np.array([note_min_idx, dur_min_idx])\n",
    "    \n",
    "    prefix =  np.array([vocab.bos_idx])\n",
    "    suffix = np.array([vocab.eos_idx])\n",
    "\n",
    "    return np.concatenate([prefix, note_idx_score.reshape(-1), suffix])\n",
    "\n",
    "def import_midi_file(file_path):\n",
    "    midifile = m21.midi.MidiFile()\n",
    "    if isinstance(file_path, bytes):\n",
    "        midifile.readstr(file_path)\n",
    "    else:\n",
    "        midifile.open(file_path)\n",
    "        midifile.read()\n",
    "        midifile.close()\n",
    "    return midifile\n",
    "\n",
    "def midifile_to_stream(midifile): \n",
    "    return m21.midi.translate.midiFileToStream(midifile)\n",
    "\n",
    "def midifile_to_idx_score(file_path, vocab):\n",
    "    midifile = import_midi_file(file_path)\n",
    "    stream = midifile_to_stream(midifile)\n",
    "    sparse_score = stream_to_sparse_enc(stream)\n",
    "    note_pos_score = sparse_to_position_enc(sparse_score)\n",
    "    return position_to_idx_enc(note_pos_score, vocab)\n",
    "\n",
    "# Combining notes with different durations into a single chord may overwrite conflicting durations.\n",
    "def group_notes_by_duration(notes):\n",
    "    get_note_quarter_length = lambda note: note.duration.quarterLength\n",
    "    sorted_notes = sorted(notes, key=get_note_quarter_length)\n",
    "    return [list(g) for k,g in groupby(sorted_notes, get_note_quarter_length)]\n",
    "\n",
    "def sparse_instrument_to_stream_part(sparse_instrument_score, step_duration):\n",
    "    part = m21.stream.Part()\n",
    "    part.append(m21.instrument.Piano())\n",
    "    \n",
    "    for t_idx, pitch_values in enumerate(sparse_instrument_score):\n",
    "\n",
    "        def decode_sparse_note(notes, pitch_index):\n",
    "            note = m21.note.Note(pitch_index)\n",
    "            quarters = sparse_instrument_score[t_idx, pitch_index]\n",
    "            note.duration = m21.duration.Duration(float(quarters) * step_duration.quarterLength)\n",
    "            notes.append(note)\n",
    "            return notes\n",
    "        \n",
    "        pitch_idxs = np.nonzero(pitch_values)[0]\n",
    "\n",
    "        if len(pitch_idxs) != 0: \n",
    "            notes = reduce(decode_sparse_note, pitch_idxs, [])\n",
    "            for note_group in group_notes_by_duration(notes):\n",
    "                note_position = t_idx*step_duration.quarterLength\n",
    "                if len(note_group) == 1:\n",
    "                    part.insert(note_position, note_group[0])\n",
    "                else:\n",
    "                    chord = m21.chord.Chord(note_group)\n",
    "                    part.insert(note_position, chord)\n",
    "\n",
    "    return part\n",
    "\n",
    "def sparse_to_stream_enc(sparse_score, bpm=120):\n",
    "    step_duration = m21.duration.Duration(1. / DIVISIONS_PER_QUARTER)\n",
    "    stream = m21.stream.Score()\n",
    "    stream.append(m21.meter.TimeSignature(TIMESIG))\n",
    "    stream.append(m21.tempo.MetronomeMark(number=bpm))\n",
    "\n",
    "    # Not required here but left as example of options available\n",
    "    stream.append(m21.key.KeySignature(0))\n",
    "    \n",
    "    for inst in range(sparse_score.shape[1]):\n",
    "        part = sparse_instrument_to_stream_part(sparse_score[:,inst,:], step_duration)\n",
    "        stream.append(part)\n",
    "    \n",
    "    # Again, not required yet but left as example\n",
    "    stream = stream.transpose(0)\n",
    "    \n",
    "    return stream\n",
    "\n",
    "def position_to_sparse_enc(note_position_score):\n",
    "\n",
    "    # Add all the separator durations as they denote the elapsed time\n",
    "    score_length = sum(timestep[1] for timestep in note_position_score if timestep[0] == SEPARATOR_IDX) + 1\n",
    "    \n",
    "    # Single instrument as we discarded the instrument information when encoding\n",
    "    # We will adapt to handle multiple instruments later\n",
    "    instrument = 0\n",
    "\n",
    "    def decode_note_position_step(acc, note_pos_step):\n",
    "        timestep, sparse_score = acc\n",
    "        note, duration = note_pos_step.tolist()\n",
    "        if note < SEPARATOR_IDX:  # Skip special token\n",
    "            return acc\n",
    "        elif note == SEPARATOR_IDX:  # Time elapsed\n",
    "            return (timestep + duration, sparse_score)\n",
    "        else:\n",
    "            sparse_score[timestep, instrument, note] = duration\n",
    "            return (timestep, sparse_score)\n",
    "\n",
    "     # (timesteps, instruments, pitches)\n",
    "    initial_sparse_score = np.zeros((score_length, 1, MIDI_NOTE_COUNT))\n",
    "    _, final_sparse_score = reduce(decode_note_position_step, note_position_score, (0, initial_sparse_score))\n",
    "\n",
    "    return final_sparse_score\n",
    "\n",
    "# No validation of note position encoding included to keep it simple for now\n",
    "def idx_to_position_enc(idx_score, vocab):\n",
    "    \n",
    "    # Filter out special tokens\n",
    "    notes_durs_start, notes_durs_end = vocab.note_position_enc_range # range of non-special token values\n",
    "    notes_durations_idx_score = idx_score[np.where((idx_score >= notes_durs_start) & (idx_score < notes_durs_end))]\n",
    "\n",
    "    # Reshape into pairs of (note, duration). If odd number of tokens, discard the last token.\n",
    "    if notes_durations_idx_score.shape[0] % 2 != 0:\n",
    "        notes_durations_idx_score = notes_durations_idx_score[:-1]\n",
    "\n",
    "    position_score = notes_durations_idx_score.copy().reshape(-1, 2)\n",
    "    \n",
    "    # Shift token index values to note and duration values\n",
    "    if position_score.shape[0] == 0: \n",
    "        return position_score\n",
    "    else:\n",
    "        note_min_idx, _ = vocab.note_range\n",
    "        dur_min_idx, _ = vocab.duration_range\n",
    "        position_score -= np.array([note_min_idx, dur_min_idx])\n",
    "        return position_score\n",
    "\n",
    "def idx_to_stream_enc(idx_score, vocab):\n",
    "    position_score = idx_to_position_enc(idx_score, vocab)\n",
    "    sparse_score = position_to_sparse_enc(position_score)\n",
    "    return sparse_to_stream_enc(sparse_score)"
   ]
  },
  {
   "cell_type": "markdown",
   "metadata": {},
   "source": [
    "And a quick test..."
   ]
  },
  {
   "cell_type": "code",
   "execution_count": 4,
   "metadata": {},
   "outputs": [
    {
     "data": {
      "image/png": "[encoded data removed]",
      "text/plain": [
       "<Figure size 1000x600 with 1 Axes>"
      ]
     },
     "metadata": {},
     "output_type": "display_data"
    }
   ],
   "source": [
    "vocab = MusicVocab()\n",
    "single_bar_path = Path('data/midi/single_bar_example.mid')\n",
    "single_bar_idx_score = midifile_to_idx_score(single_bar_path, vocab)\n",
    "single_bar_stream = idx_to_stream_enc(single_bar_idx_score, vocab)\n",
    "single_bar_stream.plot()"
   ]
  },
  {
   "cell_type": "markdown",
   "metadata": {},
   "source": [
    "# Loading Data\n",
    "\n",
    "We have two options when loading data from multiple sources into training batches.\n",
    "\n",
    "1. Concatenate all the sources into one long sequence, with a separator token between (`<|eos|>` in our case). We can then just window through the sequence to pick batches.\n",
    "\n",
    "2. Treat each source as a single batch, and pad shorter sequences to the length of the longest so they are all consistent.\n",
    "\n",
    "`1.` is simpler to implement, although it does make it harder for the model to distinguish between sequence boundaries as it has to learn that nothing before an `<|eos|>` token is relevant to anything after it.\n",
    "\n",
    "`2.` on the other hand has explicit sequence boundaries, but wastes training resources processing `<|pad|>` tokens.\n",
    "\n",
    "For this reason, lets go with `1.`\n",
    "\n",
    "The process will be\n",
    "\n",
    "- Load each file\n",
    "- Tokenise it\n",
    "- Split them into x samples and y labels\n",
    "- Concatenate all the xs into one long collection of samples and the ys into one collection of labels\n",
    "\n",
    "> If we assign labels *before* we concatenate then we avoid having anything follow `<|eos|>` in the training data."
   ]
  },
  {
   "cell_type": "code",
   "execution_count": 5,
   "metadata": {},
   "outputs": [
    {
     "data": {
      "text/plain": [
       "['Ace Attorney_3DS_Phoenix Wright Ace Attorney Spirit of Justice_Cheerful People.mid',\n",
       " 'Animal Crossing_3DS_Animal Crossing New Leaf_100 AM.mid',\n",
       " \"Banjo-Kazooie_GBA_Banjo-Kazooie Grunty's Revenge_Breegull Beach.mid\"]"
      ]
     },
     "execution_count": 5,
     "metadata": {},
     "output_type": "execute_result"
    }
   ],
   "source": [
    "import os\n",
    "vg_path = Path('data/midi/vg')\n",
    "file_names = [f for f in os.listdir(vg_path) if os.path.isfile(os.path.join(vg_path, f))]\n",
    "file_names[0:3]"
   ]
  },
  {
   "cell_type": "markdown",
   "metadata": {},
   "source": [
    "### Bigram revisited\n",
    "\n",
    "To start with, let's do a simple bigram encoding as we did in the previous workbook, but this time on the bigger dataset."
   ]
  },
  {
   "cell_type": "code",
   "execution_count": 6,
   "metadata": {},
   "outputs": [
    {
     "data": {
      "text/plain": [
       "((137086,), (137086,))"
      ]
     },
     "execution_count": 6,
     "metadata": {},
     "output_type": "execute_result"
    }
   ],
   "source": [
    "def bigram_encode(file_names, vocab):\n",
    "    xs, ys = [], []\n",
    "    for file_name in file_names:\n",
    "        file_path = Path(vg_path, file_name)\n",
    "        idx_score = midifile_to_idx_score(file_path, vocab)\n",
    "        xs.append(idx_score[:-1])\n",
    "        ys.append(idx_score[1:])\n",
    "    return np.concatenate(xs), np.concatenate(ys)\n",
    "\n",
    "xs, ys = bigram_encode(file_names, vocab)\n",
    "xs.shape, ys.shape"
   ]
  },
  {
   "cell_type": "code",
   "execution_count": 7,
   "metadata": {},
   "outputs": [
    {
     "name": "stdout",
     "output_type": "stream",
     "text": [
      "x: <|sos|>, y:n31\n",
      "x: n31, y:d3\n",
      "x: d3, y:<|sep|>\n",
      "x: <|sep|>, y:d4\n",
      "x: d4, y:n31\n"
     ]
    }
   ],
   "source": [
    "for _, (x, y) in enumerate(zip(xs[:5], ys[:5])):\n",
    "    print(f'x: {vocab.to_tokens([x])}, y:{vocab.to_tokens([y])}')"
   ]
  },
  {
   "cell_type": "markdown",
   "metadata": {},
   "source": [
    "# MLP\n",
    "\n",
    "We are going to try to roughly follow part 2 of Karpathy's Makemore and use a simple MLP to improve our bigram results (alogn with a much bigger data set!)\n",
    "\n",
    "Spoiler alert, it still won't be very good, but we might see a glimmer of improvement....\n",
    "\n",
    "### Expanding the context"
   ]
  },
  {
   "cell_type": "markdown",
   "metadata": {},
   "source": [
    "In our bigram encoding, we asked 'if the input sequence is `[a]`, what is the output token?'.\n",
    "\n",
    "Now we want to expand the input context - i.e. we are asking 'if the input is `[a, b, c]`, what is the output token?'\n",
    "\n",
    "We still want to only move the window forward by one token for each example to get the most we can out of our dataset."
   ]
  },
  {
   "cell_type": "code",
   "execution_count": 8,
   "metadata": {},
   "outputs": [
    {
     "data": {
      "text/plain": [
       "((137006, 3), 137006)"
      ]
     },
     "execution_count": 8,
     "metadata": {},
     "output_type": "execute_result"
    }
   ],
   "source": [
    "block_size = 3\n",
    "\n",
    "def block_encode(file_names, vocab, block_size=block_size):\n",
    "    xs, ys = [], []\n",
    "    for file_name in file_names:\n",
    "        file_path = Path(vg_path, file_name)\n",
    "        idx_score = midifile_to_idx_score(file_path, vocab)\n",
    "        for i in range(0, len(idx_score) - block_size, 1):\n",
    "            xs.append(idx_score[i:i+block_size])\n",
    "            ys.append(idx_score[i+block_size])\n",
    "    return np.stack(xs), ys # stack xs to create 2D tensor\n",
    "\n",
    "xs, ys = block_encode(file_names, vocab)\n",
    "xs.shape, len(ys)"
   ]
  },
  {
   "cell_type": "code",
   "execution_count": 9,
   "metadata": {},
   "outputs": [
    {
     "name": "stdout",
     "output_type": "stream",
     "text": [
      "x: <|sos|> n31 d3, y:<|sep|>\n",
      "x: n31 d3 <|sep|>, y:d4\n",
      "x: d3 <|sep|> d4, y:n31\n",
      "x: <|sep|> d4 n31, y:d3\n",
      "x: d4 n31 d3, y:<|sep|>\n"
     ]
    }
   ],
   "source": [
    "for _, (x, y) in enumerate(zip(xs[:5], ys[:5])):\n",
    "    print(f'x: {vocab.to_tokens(x)}, y:{vocab.to_tokens([y])}')"
   ]
  },
  {
   "cell_type": "code",
   "execution_count": 10,
   "metadata": {},
   "outputs": [
    {
     "name": "stdout",
     "output_type": "stream",
     "text": [
      "x: d1 <|sep|> d1, y:n76\n",
      "x: <|sep|> d1 n76, y:d1\n",
      "x: d1 n76 d1, y:n71\n",
      "x: n76 d1 n71, y:d1\n",
      "x: d1 n71 d1, y:<|eos|>\n"
     ]
    }
   ],
   "source": [
    "for _, (x, y) in enumerate(zip(xs[-5:], ys[-5:])):\n",
    "    print(f'x: {vocab.to_tokens(x)}, y:{vocab.to_tokens([y])}')"
   ]
  },
  {
   "cell_type": "code",
   "execution_count": 11,
   "metadata": {},
   "outputs": [],
   "source": [
    "X = torch.tensor(xs, device=device)\n",
    "Y = torch.tensor(ys, device=device)"
   ]
  },
  {
   "cell_type": "code",
   "execution_count": 12,
   "metadata": {},
   "outputs": [
    {
     "data": {
      "text/plain": [
       "(torch.Size([137006, 3]), torch.int64, torch.Size([137006]), torch.int64)"
      ]
     },
     "execution_count": 12,
     "metadata": {},
     "output_type": "execute_result"
    }
   ],
   "source": [
    "X.shape, X.dtype, Y.shape, Y.dtype"
   ]
  },
  {
   "cell_type": "markdown",
   "metadata": {},
   "source": [
    "#### Embeddings\n",
    "\n",
    "Embeddings are just a lookup from vocab index to tensor. The length of the tensor compared to the number of distinct tokens determines how much compression we are asking the model to perform.\n",
    "\n",
    "We can start by initialising the lookup as random numbers. It will ultimately be trained as the first layer of our MLP."
   ]
  },
  {
   "cell_type": "code",
   "execution_count": 17,
   "metadata": {},
   "outputs": [],
   "source": [
    "vocab_size = len(vocab.itos)\n",
    "embed_size = 2\n",
    "C = torch.randn((vocab_size, embed_size), device=device)"
   ]
  },
  {
   "cell_type": "markdown",
   "metadata": {},
   "source": [
    "> To pick out a value we could index into this tensor directly, or multiply by a one-hot encoded index as we did in the last notebook.\n",
    "\n",
    "We can index into `C` using `X` directly to essentially convert X into embedding values."
   ]
  },
  {
   "cell_type": "code",
   "execution_count": 18,
   "metadata": {},
   "outputs": [
    {
     "data": {
      "text/plain": [
       "torch.Size([137006, 3, 2])"
      ]
     },
     "execution_count": 18,
     "metadata": {},
     "output_type": "execute_result"
    }
   ],
   "source": [
    "emb = C[X]\n",
    "emb.shape"
   ]
  },
  {
   "cell_type": "markdown",
   "metadata": {},
   "source": [
    "### Hidden layer\n",
    "\n",
    "We have a context window of 3 and an embedding size of 2, so 6 inputs per example.\n",
    "\n",
    "These need to be connected to each neuron in our hidden layer."
   ]
  },
  {
   "cell_type": "code",
   "execution_count": 25,
   "metadata": {},
   "outputs": [],
   "source": [
    "neurons = 100\n",
    "\n",
    "W1 = torch.randn((embed_size*block_size, neurons), device=device)\n",
    "b1 = torch.randn((neurons), device=device)"
   ]
  },
  {
   "cell_type": "markdown",
   "metadata": {},
   "source": [
    "We also need to transform the `[137006, 3, 2]` tensor to `137006, 6`."
   ]
  },
  {
   "cell_type": "code",
   "execution_count": 29,
   "metadata": {},
   "outputs": [
    {
     "data": {
      "text/plain": [
       "torch.Size([137006, 6])"
      ]
     },
     "execution_count": 29,
     "metadata": {},
     "output_type": "execute_result"
    }
   ],
   "source": [
    "emb_flattened = emb.view(-1, (block_size*embed_size))\n",
    "emb_flattened.shape"
   ]
  },
  {
   "cell_type": "markdown",
   "metadata": {},
   "source": [
    "Now we can multiply the embeddings by our hidden layer weights and pass them through the `tanh` non-linearity to get our activations."
   ]
  },
  {
   "cell_type": "code",
   "execution_count": 33,
   "metadata": {},
   "outputs": [
    {
     "data": {
      "text/plain": [
       "torch.Size([137006, 100])"
      ]
     },
     "execution_count": 33,
     "metadata": {},
     "output_type": "execute_result"
    }
   ],
   "source": [
    "h = torch.tanh(emb_flattened @ W1 + b1)\n",
    "h.shape"
   ]
  },
  {
   "cell_type": "markdown",
   "metadata": {},
   "source": [
    "Here are our activations:"
   ]
  },
  {
   "cell_type": "code",
   "execution_count": 34,
   "metadata": {},
   "outputs": [
    {
     "data": {
      "text/plain": [
       "tensor([[ 1.0000,  0.9989, -0.9550,  ...,  0.9323,  0.9991, -0.9905],\n",
       "        [ 0.9114, -0.3525, -0.9556,  ..., -0.9815,  0.9968,  0.8886],\n",
       "        [ 0.8629,  0.4826,  0.9614,  ...,  0.9995,  0.2493, -0.6779],\n",
       "        ...,\n",
       "        [ 0.3838, -0.7313, -0.9820,  ..., -0.2550,  0.4922,  0.9995],\n",
       "        [ 0.9997,  0.7281, -0.9544,  ...,  0.9944,  0.9679, -0.8925],\n",
       "        [-0.8263,  0.0251, -0.4203,  ..., -0.9872,  0.9885,  0.8777]],\n",
       "       device='cuda:0')"
      ]
     },
     "execution_count": 34,
     "metadata": {},
     "output_type": "execute_result"
    }
   ],
   "source": [
    "h"
   ]
  },
  {
   "cell_type": "markdown",
   "metadata": {},
   "source": [
    "Now we need our output layer"
   ]
  },
  {
   "cell_type": "code",
   "execution_count": 35,
   "metadata": {},
   "outputs": [
    {
     "data": {
      "text/plain": [
       "torch.Size([137006, 264])"
      ]
     },
     "execution_count": 35,
     "metadata": {},
     "output_type": "execute_result"
    }
   ],
   "source": [
    "W2 = torch.randn((neurons, vocab_size), device=device)\n",
    "b2 = torch.randn((vocab_size), device=device)\n",
    "\n",
    "logits = h @ W2 + b2\n",
    "logits.shape"
   ]
  },
  {
   "cell_type": "code",
   "execution_count": 36,
   "metadata": {},
   "outputs": [
    {
     "data": {
      "text/plain": [
       "torch.Size([137006, 264])"
      ]
     },
     "execution_count": 36,
     "metadata": {},
     "output_type": "execute_result"
    }
   ],
   "source": [
    "counts = logits.exp()\n",
    "prob = counts / counts.sum(1, keepdim=True)\n",
    "prob.shape"
   ]
  },
  {
   "cell_type": "markdown",
   "metadata": {},
   "source": [
    "Now we want to pluck out the 'correct' result from the 264 probabilities, given by `Y`. Then we can see how confident we were."
   ]
  },
  {
   "cell_type": "code",
   "execution_count": 38,
   "metadata": {},
   "outputs": [
    {
     "data": {
      "text/plain": [
       "tensor(21.7972, device='cuda:0')"
      ]
     },
     "execution_count": 38,
     "metadata": {},
     "output_type": "execute_result"
    }
   ],
   "source": [
    "loss = -prob[torch.arange(len(Y)), Y].log().mean() # Get the Yth element of each row to calculate the negative log likelihood\n",
    "loss"
   ]
  }
 ],
 "metadata": {
  "kernelspec": {
   "display_name": "Python 3 (ipykernel)",
   "language": "python",
   "name": "python3"
  },
  "language_info": {
   "codemirror_mode": {
    "name": "ipython",
    "version": 3
   },
   "file_extension": ".py",
   "mimetype": "text/x-python",
   "name": "python",
   "nbconvert_exporter": "python",
   "pygments_lexer": "ipython3",
   "version": "3.10.14"
  }
 },
 "nbformat": 4,
 "nbformat_minor": 2
}

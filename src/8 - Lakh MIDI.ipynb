{
 "cells": [
  {
   "cell_type": "markdown",
   "metadata": {},
   "source": [
    "# Lakh MIDI DataSet\n",
    "\n",
    "Things to consider\n",
    "\n",
    "- Multi-threaded encoding\n",
    "- Filter out drums (track 10)"
   ]
  },
  {
   "cell_type": "code",
   "execution_count": 2,
   "metadata": {},
   "outputs": [],
   "source": [
    "from pathlib import Path\n",
    "import music21 as m21\n",
    "musescore_path = '/usr/bin/mscore'\n",
    "m21.environment.set('musicxmlPath', musescore_path)\n",
    "m21.environment.set('musescoreDirectPNGPath', musescore_path)"
   ]
  },
  {
   "cell_type": "code",
   "execution_count": 3,
   "metadata": {},
   "outputs": [
    {
     "data": {
      "text/plain": [
       "17256"
      ]
     },
     "execution_count": 3,
     "metadata": {},
     "output_type": "execute_result"
    }
   ],
   "source": [
    "midi_path = Path('data/midi/lakh_clean')\n",
    "midi_file_paths = list(midi_path.rglob('*.mid'))\n",
    "len(midi_file_paths)"
   ]
  },
  {
   "cell_type": "code",
   "execution_count": 4,
   "metadata": {},
   "outputs": [
    {
     "data": {
      "text/plain": [
       "[PosixPath('data/midi/lakh_clean/.38 Special/Caught Up In You.mid'),\n",
       " PosixPath('data/midi/lakh_clean/.38 Special/Fantasy Girl.mid'),\n",
       " PosixPath('data/midi/lakh_clean/10,000 Maniacs/A Campfire Song.mid'),\n",
       " PosixPath('data/midi/lakh_clean/101 Strings/Theme From The Godfather.mid'),\n",
       " PosixPath('data/midi/lakh_clean/10cc/Dreadlock Holiday.1.mid')]"
      ]
     },
     "execution_count": 4,
     "metadata": {},
     "output_type": "execute_result"
    }
   ],
   "source": [
    "midi_file_paths[0:5]"
   ]
  },
  {
   "cell_type": "code",
   "execution_count": 34,
   "metadata": {},
   "outputs": [
    {
     "name": "stdout",
     "output_type": "stream",
     "text": [
      "data/midi/lakh_clean/Cash Johnny/A Boy Named Sue.mid\n"
     ]
    },
    {
     "data": {
      "text/plain": [
       "<music21.midi.MidiFile 15 tracks>"
      ]
     },
     "execution_count": 34,
     "metadata": {},
     "output_type": "execute_result"
    }
   ],
   "source": [
    "import random\n",
    "\n",
    "file_path = \"data/midi/lakh_clean/Cash Johnny/A Boy Named Sue.mid\" # midi_file_paths[random.randint(0, len(midi_file_paths))]\n",
    "print(file_path)\n",
    "midi_file = m21.midi.MidiFile()\n",
    "midi_file.open(file_path)\n",
    "midi_file.read()\n",
    "midi_file.close()\n",
    "\n",
    "midi_file"
   ]
  },
  {
   "cell_type": "markdown",
   "metadata": {},
   "source": [
    "The Music21 renderer can't play multi track files :("
   ]
  },
  {
   "cell_type": "code",
   "execution_count": null,
   "metadata": {},
   "outputs": [],
   "source": [
    "midi_stream = m21.midi.translate.midiFileToStream(midi_file)\n",
    "midi_stream.show('midi')"
   ]
  },
  {
   "cell_type": "markdown",
   "metadata": {},
   "source": [
    "But PrettyMidi + FluidSynth + IPython.display can!"
   ]
  },
  {
   "cell_type": "code",
   "execution_count": null,
   "metadata": {},
   "outputs": [],
   "source": [
    "import pretty_midi\n",
    "import IPython.display\n",
    "\n",
    "pretty_midi_data = pretty_midi.PrettyMIDI(str(file_path))\n",
    "audio_data = pretty_midi_data.fluidsynth()\n",
    "IPython.display.Audio(audio_data, rate=44100)"
   ]
  }
 ],
 "metadata": {
  "kernelspec": {
   "display_name": "Python 3 (ipykernel)",
   "language": "python",
   "name": "python3"
  },
  "language_info": {
   "codemirror_mode": {
    "name": "ipython",
    "version": 3
   },
   "file_extension": ".py",
   "mimetype": "text/x-python",
   "name": "python",
   "nbconvert_exporter": "python",
   "pygments_lexer": "ipython3",
   "version": "3.10.14"
  }
 },
 "nbformat": 4,
 "nbformat_minor": 2
}
